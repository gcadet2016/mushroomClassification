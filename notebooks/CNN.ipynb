{"cells":[{"cell_type":"markdown","id":"bf4fa3a8","metadata":{"id":"bf4fa3a8"},"source":["# infos"]},{"cell_type":"code","execution_count":1,"id":"10e26ada","metadata":{"executionInfo":{"elapsed":1140,"status":"ok","timestamp":1694592711712,"user":{"displayName":"Guillaume Pot","userId":"03655893574028884118"},"user_tz":-120},"id":"10e26ada"},"outputs":[],"source":["# Modèle basé sur les 10 espèces représentées\n","\n","# Vérifier que les chemins soient correct avant toutes opérations\n","chemin_images = '../../images/'\n","chemin_csv = '../data/top10.csv'\n","\n","# Définition du DataFrame echantillon (utile pour tests modèles car entrainements très rapides)\n","pourcentage_echantillon = 0.1 # Si 0.1 : 10% du contenu\n","\n","# Dimensions des images\n","img_dim = (224,224)\n","img_shape = (224,224,3)"]},{"cell_type":"markdown","id":"aa5b4ebe","metadata":{"id":"aa5b4ebe"},"source":["##### A faire sur le notebook :\n","\n","- Configurer Tensorboard (ajouter des fonctionnalités)"]},{"cell_type":"markdown","id":"415d86c0","metadata":{"id":"415d86c0"},"source":["# Google Colab"]},{"cell_type":"markdown","id":"c802d727","metadata":{"id":"c802d727"},"source":["Si le notebook tourne sur colab, charger les fichiers images (format zip) et dezipper en suivant les cellules qui suivent :"]},{"cell_type":"code","execution_count":2,"id":"347b6d28","metadata":{"colab":{"base_uri":"https://localhost:8080/","height":56},"executionInfo":{"elapsed":50247,"status":"ok","timestamp":1694591180516,"user":{"displayName":"Guillaume Pot","userId":"03655893574028884118"},"user_tz":-120},"id":"347b6d28","outputId":"0510031f-4c24-4961-8b8e-3632d76b2ad7"},"outputs":[{"data":{"text/html":["\n","     <input type=\"file\" id=\"files-cd228bbe-0fdc-43b5-b45f-6b9448b8d01a\" name=\"files[]\" multiple disabled\n","        style=\"border:none\" />\n","     <output id=\"result-cd228bbe-0fdc-43b5-b45f-6b9448b8d01a\">\n","      Upload widget is only available when the cell has been executed in the\n","      current browser session. Please rerun this cell to enable.\n","      </output>\n","      <script>// Copyright 2017 Google LLC\n","//\n","// Licensed under the Apache License, Version 2.0 (the \"License\");\n","// you may not use this file except in compliance with the License.\n","// You may obtain a copy of the License at\n","//\n","//      http://www.apache.org/licenses/LICENSE-2.0\n","//\n","// Unless required by applicable law or agreed to in writing, software\n","// distributed under the License is distributed on an \"AS IS\" BASIS,\n","// WITHOUT WARRANTIES OR CONDITIONS OF ANY KIND, either express or implied.\n","// See the License for the specific language governing permissions and\n","// limitations under the License.\n","\n","/**\n"," * @fileoverview Helpers for google.colab Python module.\n"," */\n","(function(scope) {\n","function span(text, styleAttributes = {}) {\n","  const element = document.createElement('span');\n","  element.textContent = text;\n","  for (const key of Object.keys(styleAttributes)) {\n","    element.style[key] = styleAttributes[key];\n","  }\n","  return element;\n","}\n","\n","// Max number of bytes which will be uploaded at a time.\n","const MAX_PAYLOAD_SIZE = 100 * 1024;\n","\n","function _uploadFiles(inputId, outputId) {\n","  const steps = uploadFilesStep(inputId, outputId);\n","  const outputElement = document.getElementById(outputId);\n","  // Cache steps on the outputElement to make it available for the next call\n","  // to uploadFilesContinue from Python.\n","  outputElement.steps = steps;\n","\n","  return _uploadFilesContinue(outputId);\n","}\n","\n","// This is roughly an async generator (not supported in the browser yet),\n","// where there are multiple asynchronous steps and the Python side is going\n","// to poll for completion of each step.\n","// This uses a Promise to block the python side on completion of each step,\n","// then passes the result of the previous step as the input to the next step.\n","function _uploadFilesContinue(outputId) {\n","  const outputElement = document.getElementById(outputId);\n","  const steps = outputElement.steps;\n","\n","  const next = steps.next(outputElement.lastPromiseValue);\n","  return Promise.resolve(next.value.promise).then((value) => {\n","    // Cache the last promise value to make it available to the next\n","    // step of the generator.\n","    outputElement.lastPromiseValue = value;\n","    return next.value.response;\n","  });\n","}\n","\n","/**\n"," * Generator function which is called between each async step of the upload\n"," * process.\n"," * @param {string} inputId Element ID of the input file picker element.\n"," * @param {string} outputId Element ID of the output display.\n"," * @return {!Iterable<!Object>} Iterable of next steps.\n"," */\n","function* uploadFilesStep(inputId, outputId) {\n","  const inputElement = document.getElementById(inputId);\n","  inputElement.disabled = false;\n","\n","  const outputElement = document.getElementById(outputId);\n","  outputElement.innerHTML = '';\n","\n","  const pickedPromise = new Promise((resolve) => {\n","    inputElement.addEventListener('change', (e) => {\n","      resolve(e.target.files);\n","    });\n","  });\n","\n","  const cancel = document.createElement('button');\n","  inputElement.parentElement.appendChild(cancel);\n","  cancel.textContent = 'Cancel upload';\n","  const cancelPromise = new Promise((resolve) => {\n","    cancel.onclick = () => {\n","      resolve(null);\n","    };\n","  });\n","\n","  // Wait for the user to pick the files.\n","  const files = yield {\n","    promise: Promise.race([pickedPromise, cancelPromise]),\n","    response: {\n","      action: 'starting',\n","    }\n","  };\n","\n","  cancel.remove();\n","\n","  // Disable the input element since further picks are not allowed.\n","  inputElement.disabled = true;\n","\n","  if (!files) {\n","    return {\n","      response: {\n","        action: 'complete',\n","      }\n","    };\n","  }\n","\n","  for (const file of files) {\n","    const li = document.createElement('li');\n","    li.append(span(file.name, {fontWeight: 'bold'}));\n","    li.append(span(\n","        `(${file.type || 'n/a'}) - ${file.size} bytes, ` +\n","        `last modified: ${\n","            file.lastModifiedDate ? file.lastModifiedDate.toLocaleDateString() :\n","                                    'n/a'} - `));\n","    const percent = span('0% done');\n","    li.appendChild(percent);\n","\n","    outputElement.appendChild(li);\n","\n","    const fileDataPromise = new Promise((resolve) => {\n","      const reader = new FileReader();\n","      reader.onload = (e) => {\n","        resolve(e.target.result);\n","      };\n","      reader.readAsArrayBuffer(file);\n","    });\n","    // Wait for the data to be ready.\n","    let fileData = yield {\n","      promise: fileDataPromise,\n","      response: {\n","        action: 'continue',\n","      }\n","    };\n","\n","    // Use a chunked sending to avoid message size limits. See b/62115660.\n","    let position = 0;\n","    do {\n","      const length = Math.min(fileData.byteLength - position, MAX_PAYLOAD_SIZE);\n","      const chunk = new Uint8Array(fileData, position, length);\n","      position += length;\n","\n","      const base64 = btoa(String.fromCharCode.apply(null, chunk));\n","      yield {\n","        response: {\n","          action: 'append',\n","          file: file.name,\n","          data: base64,\n","        },\n","      };\n","\n","      let percentDone = fileData.byteLength === 0 ?\n","          100 :\n","          Math.round((position / fileData.byteLength) * 100);\n","      percent.textContent = `${percentDone}% done`;\n","\n","    } while (position < fileData.byteLength);\n","  }\n","\n","  // All done.\n","  yield {\n","    response: {\n","      action: 'complete',\n","    }\n","  };\n","}\n","\n","scope.google = scope.google || {};\n","scope.google.colab = scope.google.colab || {};\n","scope.google.colab._files = {\n","  _uploadFiles,\n","  _uploadFilesContinue,\n","};\n","})(self);\n","</script> "],"text/plain":["<IPython.core.display.HTML object>"]},"metadata":{},"output_type":"display_data"},{"data":{"text/plain":["{}"]},"execution_count":2,"metadata":{},"output_type":"execute_result"}],"source":["# Importer les images en format .zip\n","from google.colab import files\n","files.upload()"]},{"cell_type":"code","execution_count":59,"id":"a9a54efb","metadata":{"colab":{"base_uri":"https://localhost:8080/"},"executionInfo":{"elapsed":3566,"status":"ok","timestamp":1694592748818,"user":{"displayName":"Guillaume Pot","userId":"03655893574028884118"},"user_tz":-120},"id":"a9a54efb","outputId":"f3ac59b0-b2c4-4ece-ecb7-920f80d20677"},"outputs":[{"name":"stdout","output_type":"stream","text":["Drive already mounted at /content/drive; to attempt to forcibly remount, call drive.mount(\"/content/drive\", force_remount=True).\n"]}],"source":["# Monter le Drive\n","from google.colab import drive\n","drive.mount('/content/drive')"]},{"cell_type":"code","execution_count":60,"id":"e577af3f","metadata":{"colab":{"base_uri":"https://localhost:8080/"},"executionInfo":{"elapsed":4948,"status":"ok","timestamp":1694592756340,"user":{"displayName":"Guillaume Pot","userId":"03655893574028884118"},"user_tz":-120},"id":"e577af3f","outputId":"44ea675c-5364-4b7b-a420-41caa299008a"},"outputs":[{"name":"stdout","output_type":"stream","text":["Archive:  /content/drive/MyDrive/SAS/images.zip\n","replace /images/images/100003.jpg? [y]es, [n]o, [A]ll, [N]one, [r]ename: "]}],"source":["# Dezipper le fichier\n","!unzip '/content/drive/MyDrive/SAS/images.zip' -d '/images'"]},{"cell_type":"code","execution_count":61,"id":"147d4788","metadata":{"executionInfo":{"elapsed":6,"status":"ok","timestamp":1694592756341,"user":{"displayName":"Guillaume Pot","userId":"03655893574028884118"},"user_tz":-120},"id":"147d4788"},"outputs":[],"source":["# Remplacer les chemins en corrélation avec les dossiers colab\n","chemin_images = '/images/images/'\n","chemin_csv = '/content/drive/MyDrive/SAS/Jul23_bds_champignons/data/top10.csv'"]},{"cell_type":"markdown","id":"c948c0ec","metadata":{"id":"c948c0ec"},"source":["# Librairies à charger"]},{"cell_type":"code","execution_count":2,"id":"e19d18cf","metadata":{"executionInfo":{"elapsed":589,"status":"ok","timestamp":1694592761145,"user":{"displayName":"Guillaume Pot","userId":"03655893574028884118"},"user_tz":-120},"id":"e19d18cf"},"outputs":[],"source":["# Librairies utilisées par les fonctions\n","import pandas as pd\n","import os\n","from tensorflow.keras.applications.efficientnet import preprocess_input\n","\n","\n","# Librairies utilisées pour les callbacks\n","from tensorflow.keras import callbacks\n","from tensorflow.keras.callbacks import Callback\n","from tensorflow.keras.callbacks import EarlyStopping\n","from tensorflow.keras.callbacks import ReduceLROnPlateau\n","from tensorflow.keras.callbacks import ModelCheckpoint\n","from timeit import default_timer as timer\n","from tensorflow.keras.callbacks import TerminateOnNaN\n","\n","\n","# Librairies utilisées pour créer les pipelines et le modèle\n","import tensorflow as tf\n","import tensorflow_hub as hub\n","from tensorflow.keras import layers, models\n","\n","\n","# Librairies utilisées pour la création des jeux d'entrainement, de test et de validation\n","from sklearn.preprocessing import LabelEncoder\n","from sklearn.model_selection import train_test_split\n","from collections import Counter\n","\n","\n","# Librairies utilisées pour l'évaluation du modèle une fois entrainé\n","import matplotlib.pyplot as plt\n","%matplotlib inline"]},{"cell_type":"markdown","id":"317f4ad3","metadata":{"id":"317f4ad3"},"source":["# Fonctions"]},{"cell_type":"code","execution_count":5,"id":"3bd70f24","metadata":{"executionInfo":{"elapsed":4,"status":"ok","timestamp":1694592761145,"user":{"displayName":"Guillaume Pot","userId":"03655893574028884118"},"user_tz":-120},"id":"3bd70f24"},"outputs":[],"source":["def import_df(chemin_images, chemin_csv, pourcentage_echantillon, echantillon=True):\n","    '''Importe le fichier csv et construit 2 df :\n","        - Le DF basé sur le CSV original\n","        - Un DF echantillon comportant 10% de données aléatoires du DF original\n","        - echantillon : Si false, ne génère pas d'echantillon\n","    '''\n","\n","\n","    # import du df\n","    df = pd.read_csv(chemin_csv, low_memory=False)\n","    #df['image_url'] = df['image_url'].str.replace('.../images/', chemin_images)\n","    print(f\"Nombre d'images chargées pour df: {df.shape[0]}\")\n","    print(f\"Nb especes dans df: {df['label'].nunique()}\")\n","\n","\n","    # Contruction de l'echantillon\n","    if echantillon == True:\n","\n","        L = len(df)\n","        L_ech = int(pourcentage_echantillon * L)\n","        df_ech = df.sample(n=L_ech, random_state=10)\n","        df_ech.reset_index(inplace=True, drop=True)\n","        print(f\"Nombre d'images chargées pour df_ech: {df_ech.shape[0]}\")\n","        print(f\"Nb especes dans df_ech: {df_ech['label'].nunique()}\")\n","\n","\n","    else:\n","        print('Echantillon non construit')\n","\n","\n","    return df, df_ech"]},{"cell_type":"code","execution_count":6,"id":"d90200f2","metadata":{"executionInfo":{"elapsed":5,"status":"ok","timestamp":1694592761146,"user":{"displayName":"Guillaume Pot","userId":"03655893574028884118"},"user_tz":-120},"id":"d90200f2"},"outputs":[],"source":["def augment_img(image_path, label):\n","\n","    '''Modifie les images aléatoirement dans le dataset qui sera soumis au modèle, oversample les classes sous représentées.\n","       image_path : chemin des images (variable définie en début de notebook),\n","       label : Variable contenant les classes,\n","       '''\n","\n","    img = tf.io.read_file(image_path)\n","    img = tf.image.decode_png(img, channels=3)\n","    img = tf.image.resize(img, img_dim)         # Rappel : img_dim est définie en début de Notebook\n","    img = preprocess_input(img)\n","\n","    img = tf.image.random_flip_left_right(img)\n","    img = tf.image.random_flip_up_down(img)\n","    img = tf.image.random_brightness(img, max_delta=0.2)\n","    img = tf.image.random_contrast(img, lower=0.8, upper=1.2)\n","    img = tf.image.convert_image_dtype(img, tf.float32)\n","    #img = tf.image.per_image_standardization(img)\n","    img = (img - tf.math.reduce_min(img)) / (tf.math.reduce_max(img) - tf.math.reduce_min(img))\n","\n","    return img, label"]},{"cell_type":"code","execution_count":7,"id":"e8d5d9e5","metadata":{"executionInfo":{"elapsed":5,"status":"ok","timestamp":1694592761146,"user":{"displayName":"Guillaume Pot","userId":"03655893574028884118"},"user_tz":-120},"id":"e8d5d9e5"},"outputs":[],"source":["def create_tf_dataset(image_path, labels, batch_size, oversample_cls = None):\n","    '''\n","    Créé un dataset Tensorflow selon les paramètres précisés. La fonction oversample les classes sous représentées\n","    image_path : chemin relatif de la variable contenant les images\n","    labels : variable contenant les labels\n","    batch_size : taille des batchs\n","    oversample_cls : Liste contenant les classes à oversampler. Si non précisé, l'oversample sera ignoré\n","    '''\n","\n","    image_path = image_path.tolist()  # Convertir les chemins d'images en liste\n","    labels = labels.tolist()          # Convertir les labels en liste\n","\n","\n"," # Oversample des classes\n","    if oversample_cls:\n","    # Compter le nombre d'exemples par classe\n","        class_counts = Counter(labels)\n","\n","    # Calculer le nombre d'exemples à ajouter pour chaque classe à oversampler\n","        max_count = max(class_counts.values())\n","        facteurs_oversample = {cls: max_count / count for cls, count in class_counts.items() if cls in oversample_cls}\n","\n","    # Répéter les exemples des classes à oversampler pour atteindre le nombre maximum\n","        oversampled_image_paths = []\n","        oversampled_labels = []\n","        for img_path, label in zip(image_path, labels):\n","            facteurs_oversample = facteurs_oversample.get(label, 1.0)\n","            nb_copies = int(facteurs_oversample)\n","            for _ in range(nb_copies):\n","                oversampled_image_paths.append(img_path)\n","                oversampled_labels.append(label)\n","\n","        image_path = oversampled_image_paths\n","        labels = oversampled_labels\n","\n","\n","\n","    # Construction du Dataset\n","    dataset = tf.data.Dataset.from_tensor_slices((image_path, labels))\n","    dataset = dataset.map(augment_img, num_parallel_calls=tf.data.experimental.AUTOTUNE)\n","    dataset = dataset.shuffle(buffer_size=len(image_path))\n","    dataset = dataset.batch(batch_size)\n","    dataset = dataset.prefetch(buffer_size=tf.data.experimental.AUTOTUNE)\n","\n","    return dataset"]},{"cell_type":"code","execution_count":8,"id":"d6e07a5e","metadata":{"executionInfo":{"elapsed":5,"status":"ok","timestamp":1694592761146,"user":{"displayName":"Guillaume Pot","userId":"03655893574028884118"},"user_tz":-120},"id":"d6e07a5e"},"outputs":[],"source":["def controle_presence_fichiers(df, chemin_images):\n","\n","    ''' Controle que les fichiers images soient bien présents sur le disque.'''\n","\n","    image_directory = chemin_images\n","    missing_files = []\n","\n","# Parcourir chaque ligne du DataFrame\n","    for index, row in df.iterrows():\n","        image_path = os.path.join(image_directory, row['image_lien'])\n","\n","        if not os.path.exists(image_path):\n","            missing_files.append(image_path)\n","\n","    # Afficher les fichiers non trouvés\n","    if missing_files:\n","        print(\"\\nFichiers non trouvés :\")\n","        for file_path in missing_files:\n","            print(file_path)\n","    else:\n","        print(\"\\nTous les fichiers sont présents.\")"]},{"cell_type":"markdown","id":"94cdaa79","metadata":{"id":"94cdaa79"},"source":["# Callbacks"]},{"cell_type":"markdown","id":"8da18474","metadata":{"id":"8da18474"},"source":["### Tensorboard"]},{"cell_type":"code","execution_count":67,"id":"b7fb00e1","metadata":{"colab":{"base_uri":"https://localhost:8080/"},"executionInfo":{"elapsed":4,"status":"ok","timestamp":1694592762418,"user":{"displayName":"Guillaume Pot","userId":"03655893574028884118"},"user_tz":-120},"id":"b7fb00e1","outputId":"05dd3eaa-e4a4-4b96-a1d6-d48e3f9eea68"},"outputs":[{"name":"stdout","output_type":"stream","text":["The tensorboard extension is already loaded. To reload it, use:\n","  %reload_ext tensorboard\n"]}],"source":["%load_ext tensorboard\n","log_dir = '../tensor_board_logs'\n","tensorboard = callbacks.TensorBoard(log_dir = log_dir)"]},{"cell_type":"markdown","id":"bc0d7833","metadata":{"id":"bc0d7833"},"source":["### EarlyStopping"]},{"cell_type":"code","execution_count":68,"id":"1e11b678","metadata":{"executionInfo":{"elapsed":3,"status":"ok","timestamp":1694592762418,"user":{"displayName":"Guillaume Pot","userId":"03655893574028884118"},"user_tz":-120},"id":"1e11b678"},"outputs":[],"source":["early_stopping = EarlyStopping(monitor = 'accuracy',\n","                               min_delta = 0.03,\n","                               patience = 8,\n","                               verbose = 1,\n","                               mode = 'auto',\n","                               restore_best_weights = True)"]},{"cell_type":"markdown","id":"1b4a7771","metadata":{"id":"1b4a7771"},"source":["### Reduce LearningRate"]},{"cell_type":"code","execution_count":69,"id":"14807e08","metadata":{"executionInfo":{"elapsed":3,"status":"ok","timestamp":1694592762977,"user":{"displayName":"Guillaume Pot","userId":"03655893574028884118"},"user_tz":-120},"id":"14807e08"},"outputs":[],"source":["reduceLR = ReduceLROnPlateau(monitor = 'val_loss',\n","                             min_delta = 0.01,\n","                             patience = 5,\n","                             factor = 0.15,\n","                             cooldown = 3,\n","                             verbose = 1)"]},{"cell_type":"markdown","id":"91e83245","metadata":{"id":"91e83245"},"source":["### Checkpoint"]},{"cell_type":"code","execution_count":70,"id":"951ce051","metadata":{"executionInfo":{"elapsed":4,"status":"ok","timestamp":1694592763544,"user":{"displayName":"Guillaume Pot","userId":"03655893574028884118"},"user_tz":-120},"id":"951ce051"},"outputs":[],"source":["checkpoint = ModelCheckpoint(filepath='../model/checkpoint_model', monitor='accuracy', save_best_only=True, verbose=1)"]},{"cell_type":"markdown","id":"d2501917","metadata":{"id":"d2501917"},"source":["### Timer"]},{"cell_type":"code","execution_count":71,"id":"2cac6928","metadata":{"executionInfo":{"elapsed":5,"status":"ok","timestamp":1694592764663,"user":{"displayName":"Guillaume Pot","userId":"03655893574028884118"},"user_tz":-120},"id":"2cac6928"},"outputs":[],"source":["class TimingCallback(Callback):\n","    def __init__(self):\n","        super().__init__()\n","        self.logs = []\n","\n","    def on_epoch_begin(self, epoch, logs=None):\n","        self.starttime = timer()\n","\n","    def on_epoch_end(self, epoch, logs=None):\n","        endtime = timer()\n","        elapsed_time = endtime - self.starttime\n","        self.logs.append(elapsed_time)\n","        print(f\"Epoch {epoch + 1} took {elapsed_time:.2f} seconds\")\n","\n","time_callback = TimingCallback()"]},{"cell_type":"markdown","id":"2b84662a","metadata":{"id":"2b84662a"},"source":["### Terminate on NaN"]},{"cell_type":"code","execution_count":72,"id":"d566542b","metadata":{"executionInfo":{"elapsed":4,"status":"ok","timestamp":1694592765181,"user":{"displayName":"Guillaume Pot","userId":"03655893574028884118"},"user_tz":-120},"id":"d566542b"},"outputs":[],"source":["TON = TerminateOnNaN()"]},{"cell_type":"markdown","id":"4b1ba906","metadata":{"id":"4b1ba906"},"source":["# Construction modèle"]},{"cell_type":"markdown","id":"6d92e4f7","metadata":{"id":"6d92e4f7"},"source":["### Import du modèle pré-entrainé"]},{"cell_type":"code","execution_count":73,"id":"21168d02","metadata":{"executionInfo":{"elapsed":4714,"status":"ok","timestamp":1694592770502,"user":{"displayName":"Guillaume Pot","userId":"03655893574028884118"},"user_tz":-120},"id":"21168d02"},"outputs":[],"source":["efficientNetv2 = \"https://tfhub.dev/google/imagenet/efficientnet_v2_imagenet21k_ft1k_b0/classification/2\"\n","pre_trained_model = hub.KerasLayer(efficientNetv2, input_shape=(224, 224, 3), trainable=False)"]},{"cell_type":"markdown","id":"75ca19c2","metadata":{"id":"75ca19c2"},"source":["### Couches denses et construction"]},{"cell_type":"code","execution_count":74,"id":"fe29fdba","metadata":{"executionInfo":{"elapsed":731,"status":"ok","timestamp":1694592771228,"user":{"displayName":"Guillaume Pot","userId":"03655893574028884118"},"user_tz":-120},"id":"fe29fdba"},"outputs":[],"source":["# Créer le modèle CNN\n","model = models.Sequential()\n","model.add(pre_trained_model)\n","\n","# Couches entièrement connectées\n","model.add(layers.Dense(10, activation='softmax'))  # 10 classes de sortie"]},{"cell_type":"markdown","id":"2baa5c25","metadata":{"id":"2baa5c25"},"source":["### Compilation du modèle"]},{"cell_type":"code","execution_count":75,"id":"caceba96","metadata":{"executionInfo":{"elapsed":8,"status":"ok","timestamp":1694592771228,"user":{"displayName":"Guillaume Pot","userId":"03655893574028884118"},"user_tz":-120},"id":"caceba96"},"outputs":[],"source":["# Compiler le modèle\n","model.compile(optimizer='adam',\n","              loss='sparse_categorical_crossentropy',\n","              metrics=['accuracy'])"]},{"cell_type":"code","execution_count":76,"id":"186e5f3b","metadata":{"colab":{"base_uri":"https://localhost:8080/"},"executionInfo":{"elapsed":7,"status":"ok","timestamp":1694592771228,"user":{"displayName":"Guillaume Pot","userId":"03655893574028884118"},"user_tz":-120},"id":"186e5f3b","outputId":"1d02e740-913d-435d-e216-3a875735f87d"},"outputs":[{"name":"stdout","output_type":"stream","text":["Model: \"sequential_2\"\n","_________________________________________________________________\n"," Layer (type)                Output Shape              Param #   \n","=================================================================\n"," keras_layer_2 (KerasLayer)  (None, 1000)              7200312   \n","                                                                 \n"," dense_2 (Dense)             (None, 10)                10010     \n","                                                                 \n","=================================================================\n","Total params: 7210322 (27.51 MB)\n","Trainable params: 10010 (39.10 KB)\n","Non-trainable params: 7200312 (27.47 MB)\n","_________________________________________________________________\n"]}],"source":["# Afficher un résumé du modèle\n","model.summary()"]},{"cell_type":"markdown","id":"f2574357","metadata":{"id":"f2574357"},"source":["# Pipeline Dataset"]},{"cell_type":"markdown","id":"bf83bad7","metadata":{"id":"bf83bad7"},"source":["### Import des DataFrames"]},{"cell_type":"code","execution_count":9,"id":"0a7114e6","metadata":{"colab":{"base_uri":"https://localhost:8080/"},"executionInfo":{"elapsed":7,"status":"ok","timestamp":1694592771229,"user":{"displayName":"Guillaume Pot","userId":"03655893574028884118"},"user_tz":-120},"id":"0a7114e6","outputId":"3f5258b6-8edb-498e-cc7c-53ada8573ccf"},"outputs":[{"name":"stdout","output_type":"stream","text":["Nombre d'images chargées pour df: 60481\n","Nb especes dans df: 10\n","Nombre d'images chargées pour df_ech: 6048\n","Nb especes dans df_ech: 10\n"]}],"source":["# Rappel : Utiliser df_ech pour les tests (entrainement rapide du modèle mais accuracy faible)\n","df, df_ech = import_df(chemin_images, chemin_csv, pourcentage_echantillon)"]},{"cell_type":"code","execution_count":78,"id":"1997289e","metadata":{"executionInfo":{"elapsed":481,"status":"ok","timestamp":1694592774901,"user":{"displayName":"Guillaume Pot","userId":"03655893574028884118"},"user_tz":-120},"id":"1997289e"},"outputs":[],"source":["# Préciser sur quelles données travailler (df_ech est un echantillon permettant de réduire le temps d'entrainement pour effectuer des tests)\n","# Commenter/Decommenter la ligne souhaitée\n","#donnees_training = df_ech\n","donnees_training = df"]},{"cell_type":"code","execution_count":79,"id":"7fc53b33","metadata":{"colab":{"base_uri":"https://localhost:8080/","height":612},"executionInfo":{"elapsed":8,"status":"ok","timestamp":1694592775399,"user":{"displayName":"Guillaume Pot","userId":"03655893574028884118"},"user_tz":-120},"id":"7fc53b33","outputId":"3c71f6eb-993c-40be-f502-ccb96a1f3801"},"outputs":[{"name":"stdout","output_type":"stream","text":["Facteurs d'oversampling des classes : \n"," Agaricales : x1 \n"," Agaricus: x2.5 \n"," Amanita : x2 \n"," Cortinarius: x1.5 \n"," Entoloma : x2.5 \n"," Inocybe: x2 \n"," Mycena : x2 \n"," Popyporales: x1.8 \n"," Psathyrella : x2 \n"," Russula: x1.5 \n","\n"]},{"data":{"text/html":["\n","  <div id=\"df-39643881-e1ab-48f7-a1f0-90874c6fbf5d\" class=\"colab-df-container\">\n","    <div>\n","<style scoped>\n","    .dataframe tbody tr th:only-of-type {\n","        vertical-align: middle;\n","    }\n","\n","    .dataframe tbody tr th {\n","        vertical-align: top;\n","    }\n","\n","    .dataframe thead th {\n","        text-align: right;\n","    }\n","</style>\n","<table border=\"1\" class=\"dataframe\">\n","  <thead>\n","    <tr style=\"text-align: right;\">\n","      <th></th>\n","      <th>image_lien</th>\n","      <th>image_url</th>\n","    </tr>\n","    <tr>\n","      <th>label</th>\n","      <th></th>\n","      <th></th>\n","    </tr>\n","  </thead>\n","  <tbody>\n","    <tr>\n","      <th>Agaricales</th>\n","      <td>11126</td>\n","      <td>11126</td>\n","    </tr>\n","    <tr>\n","      <th>Agaricus</th>\n","      <td>4545</td>\n","      <td>4545</td>\n","    </tr>\n","    <tr>\n","      <th>Amanita</th>\n","      <td>4887</td>\n","      <td>4887</td>\n","    </tr>\n","    <tr>\n","      <th>Cortinarius</th>\n","      <td>6970</td>\n","      <td>6970</td>\n","    </tr>\n","    <tr>\n","      <th>Entoloma</th>\n","      <td>3918</td>\n","      <td>3918</td>\n","    </tr>\n","    <tr>\n","      <th>Inocybe</th>\n","      <td>4439</td>\n","      <td>4439</td>\n","    </tr>\n","    <tr>\n","      <th>Mycena</th>\n","      <td>4928</td>\n","      <td>4928</td>\n","    </tr>\n","    <tr>\n","      <th>Polyporales</th>\n","      <td>6595</td>\n","      <td>6595</td>\n","    </tr>\n","    <tr>\n","      <th>Psathyrella</th>\n","      <td>5124</td>\n","      <td>5124</td>\n","    </tr>\n","    <tr>\n","      <th>Russula</th>\n","      <td>7949</td>\n","      <td>7949</td>\n","    </tr>\n","  </tbody>\n","</table>\n","</div>\n","    <div class=\"colab-df-buttons\">\n","\n","  <div class=\"colab-df-container\">\n","    <button class=\"colab-df-convert\" onclick=\"convertToInteractive('df-39643881-e1ab-48f7-a1f0-90874c6fbf5d')\"\n","            title=\"Convert this dataframe to an interactive table.\"\n","            style=\"display:none;\">\n","\n","  <svg xmlns=\"http://www.w3.org/2000/svg\" height=\"24px\" viewBox=\"0 -960 960 960\">\n","    <path d=\"M120-120v-720h720v720H120Zm60-500h600v-160H180v160Zm220 220h160v-160H400v160Zm0 220h160v-160H400v160ZM180-400h160v-160H180v160Zm440 0h160v-160H620v160ZM180-180h160v-160H180v160Zm440 0h160v-160H620v160Z\"/>\n","  </svg>\n","    </button>\n","\n","  <style>\n","    .colab-df-container {\n","      display:flex;\n","      gap: 12px;\n","    }\n","\n","    .colab-df-convert {\n","      background-color: #E8F0FE;\n","      border: none;\n","      border-radius: 50%;\n","      cursor: pointer;\n","      display: none;\n","      fill: #1967D2;\n","      height: 32px;\n","      padding: 0 0 0 0;\n","      width: 32px;\n","    }\n","\n","    .colab-df-convert:hover {\n","      background-color: #E2EBFA;\n","      box-shadow: 0px 1px 2px rgba(60, 64, 67, 0.3), 0px 1px 3px 1px rgba(60, 64, 67, 0.15);\n","      fill: #174EA6;\n","    }\n","\n","    .colab-df-buttons div {\n","      margin-bottom: 4px;\n","    }\n","\n","    [theme=dark] .colab-df-convert {\n","      background-color: #3B4455;\n","      fill: #D2E3FC;\n","    }\n","\n","    [theme=dark] .colab-df-convert:hover {\n","      background-color: #434B5C;\n","      box-shadow: 0px 1px 3px 1px rgba(0, 0, 0, 0.15);\n","      filter: drop-shadow(0px 1px 2px rgba(0, 0, 0, 0.3));\n","      fill: #FFFFFF;\n","    }\n","  </style>\n","\n","    <script>\n","      const buttonEl =\n","        document.querySelector('#df-39643881-e1ab-48f7-a1f0-90874c6fbf5d button.colab-df-convert');\n","      buttonEl.style.display =\n","        google.colab.kernel.accessAllowed ? 'block' : 'none';\n","\n","      async function convertToInteractive(key) {\n","        const element = document.querySelector('#df-39643881-e1ab-48f7-a1f0-90874c6fbf5d');\n","        const dataTable =\n","          await google.colab.kernel.invokeFunction('convertToInteractive',\n","                                                    [key], {});\n","        if (!dataTable) return;\n","\n","        const docLinkHtml = 'Like what you see? Visit the ' +\n","          '<a target=\"_blank\" href=https://colab.research.google.com/notebooks/data_table.ipynb>data table notebook</a>'\n","          + ' to learn more about interactive tables.';\n","        element.innerHTML = '';\n","        dataTable['output_type'] = 'display_data';\n","        await google.colab.output.renderOutput(dataTable, element);\n","        const docLink = document.createElement('div');\n","        docLink.innerHTML = docLinkHtml;\n","        element.appendChild(docLink);\n","      }\n","    </script>\n","  </div>\n","\n","\n","<div id=\"df-d8f90da0-3c4e-4007-9578-33eeb14c7581\">\n","  <button class=\"colab-df-quickchart\" onclick=\"quickchart('df-d8f90da0-3c4e-4007-9578-33eeb14c7581')\"\n","            title=\"Suggest charts.\"\n","            style=\"display:none;\">\n","\n","<svg xmlns=\"http://www.w3.org/2000/svg\" height=\"24px\"viewBox=\"0 0 24 24\"\n","     width=\"24px\">\n","    <g>\n","        <path d=\"M19 3H5c-1.1 0-2 .9-2 2v14c0 1.1.9 2 2 2h14c1.1 0 2-.9 2-2V5c0-1.1-.9-2-2-2zM9 17H7v-7h2v7zm4 0h-2V7h2v10zm4 0h-2v-4h2v4z\"/>\n","    </g>\n","</svg>\n","  </button>\n","\n","<style>\n","  .colab-df-quickchart {\n","      --bg-color: #E8F0FE;\n","      --fill-color: #1967D2;\n","      --hover-bg-color: #E2EBFA;\n","      --hover-fill-color: #174EA6;\n","      --disabled-fill-color: #AAA;\n","      --disabled-bg-color: #DDD;\n","  }\n","\n","  [theme=dark] .colab-df-quickchart {\n","      --bg-color: #3B4455;\n","      --fill-color: #D2E3FC;\n","      --hover-bg-color: #434B5C;\n","      --hover-fill-color: #FFFFFF;\n","      --disabled-bg-color: #3B4455;\n","      --disabled-fill-color: #666;\n","  }\n","\n","  .colab-df-quickchart {\n","    background-color: var(--bg-color);\n","    border: none;\n","    border-radius: 50%;\n","    cursor: pointer;\n","    display: none;\n","    fill: var(--fill-color);\n","    height: 32px;\n","    padding: 0;\n","    width: 32px;\n","  }\n","\n","  .colab-df-quickchart:hover {\n","    background-color: var(--hover-bg-color);\n","    box-shadow: 0 1px 2px rgba(60, 64, 67, 0.3), 0 1px 3px 1px rgba(60, 64, 67, 0.15);\n","    fill: var(--button-hover-fill-color);\n","  }\n","\n","  .colab-df-quickchart-complete:disabled,\n","  .colab-df-quickchart-complete:disabled:hover {\n","    background-color: var(--disabled-bg-color);\n","    fill: var(--disabled-fill-color);\n","    box-shadow: none;\n","  }\n","\n","  .colab-df-spinner {\n","    border: 2px solid var(--fill-color);\n","    border-color: transparent;\n","    border-bottom-color: var(--fill-color);\n","    animation:\n","      spin 1s steps(1) infinite;\n","  }\n","\n","  @keyframes spin {\n","    0% {\n","      border-color: transparent;\n","      border-bottom-color: var(--fill-color);\n","      border-left-color: var(--fill-color);\n","    }\n","    20% {\n","      border-color: transparent;\n","      border-left-color: var(--fill-color);\n","      border-top-color: var(--fill-color);\n","    }\n","    30% {\n","      border-color: transparent;\n","      border-left-color: var(--fill-color);\n","      border-top-color: var(--fill-color);\n","      border-right-color: var(--fill-color);\n","    }\n","    40% {\n","      border-color: transparent;\n","      border-right-color: var(--fill-color);\n","      border-top-color: var(--fill-color);\n","    }\n","    60% {\n","      border-color: transparent;\n","      border-right-color: var(--fill-color);\n","    }\n","    80% {\n","      border-color: transparent;\n","      border-right-color: var(--fill-color);\n","      border-bottom-color: var(--fill-color);\n","    }\n","    90% {\n","      border-color: transparent;\n","      border-bottom-color: var(--fill-color);\n","    }\n","  }\n","</style>\n","\n","  <script>\n","    async function quickchart(key) {\n","      const quickchartButtonEl =\n","        document.querySelector('#' + key + ' button');\n","      quickchartButtonEl.disabled = true;  // To prevent multiple clicks.\n","      quickchartButtonEl.classList.add('colab-df-spinner');\n","      try {\n","        const charts = await google.colab.kernel.invokeFunction(\n","            'suggestCharts', [key], {});\n","      } catch (error) {\n","        console.error('Error during call to suggestCharts:', error);\n","      }\n","      quickchartButtonEl.classList.remove('colab-df-spinner');\n","      quickchartButtonEl.classList.add('colab-df-quickchart-complete');\n","    }\n","    (() => {\n","      let quickchartButtonEl =\n","        document.querySelector('#df-d8f90da0-3c4e-4007-9578-33eeb14c7581 button');\n","      quickchartButtonEl.style.display =\n","        google.colab.kernel.accessAllowed ? 'block' : 'none';\n","    })();\n","  </script>\n","</div>\n","    </div>\n","  </div>\n"],"text/plain":["             image_lien  image_url\n","label                             \n","Agaricales        11126      11126\n","Agaricus           4545       4545\n","Amanita            4887       4887\n","Cortinarius        6970       6970\n","Entoloma           3918       3918\n","Inocybe            4439       4439\n","Mycena             4928       4928\n","Polyporales        6595       6595\n","Psathyrella        5124       5124\n","Russula            7949       7949"]},"execution_count":79,"metadata":{},"output_type":"execute_result"}],"source":["# Représentation des classes\n","print('Facteurs d\\'oversampling des classes : \\n',\n","      'Agaricales : x1 \\n',\n","      'Agaricus: x2.5 \\n',\n","      'Amanita : x2 \\n',\n","      'Cortinarius: x1.5 \\n',\n","      'Entoloma : x2.5 \\n',\n","      'Inocybe: x2 \\n',\n","      'Mycena : x2 \\n',\n","      'Popyporales: x1.8 \\n',\n","      'Psathyrella : x2 \\n',\n","      'Russula: x1.5 \\n')\n","\n","donnees_training.groupby('label').count()"]},{"cell_type":"code","execution_count":80,"id":"9a55237f","metadata":{"colab":{"base_uri":"https://localhost:8080/"},"executionInfo":{"elapsed":3444,"status":"ok","timestamp":1694592778836,"user":{"displayName":"Guillaume Pot","userId":"03655893574028884118"},"user_tz":-120},"id":"9a55237f","outputId":"bce84e09-a17a-41e0-94cc-9692ebb922b3"},"outputs":[{"name":"stdout","output_type":"stream","text":["\n","Tous les fichiers sont présents.\n"]}],"source":["# Controle de la présence des fichiers images\n","controle_presence_fichiers(donnees_training, chemin_images)\n","\n","# On supprime ensuite la colonne image_lien qui ne sert qu'à controler la présence des fichiers.\n","donnees_training.drop('image_lien', axis=1, inplace=True)"]},{"cell_type":"code","execution_count":81,"id":"4f9720ac","metadata":{"executionInfo":{"elapsed":5,"status":"ok","timestamp":1694592778837,"user":{"displayName":"Guillaume Pot","userId":"03655893574028884118"},"user_tz":-120},"id":"4f9720ac"},"outputs":[],"source":["# Définir les classes à oversampler :\n","oversample_cls = ['Agaricus', 'Amanita', 'Cortinarius', 'Entoloma', 'Inocybe', 'Mycena', 'Polyporales', 'Psathyrella', 'Russula']"]},{"cell_type":"markdown","id":"468bd3d8","metadata":{"id":"468bd3d8"},"source":["### Construction des jeux de données (train, test et validation)"]},{"cell_type":"code","execution_count":82,"id":"9c73f60f","metadata":{"executionInfo":{"elapsed":5,"status":"ok","timestamp":1694592778837,"user":{"displayName":"Guillaume Pot","userId":"03655893574028884118"},"user_tz":-120},"id":"9c73f60f"},"outputs":[],"source":["data = donnees_training.drop('label', axis=1)\n","target = donnees_training['label']\n","\n","s = LabelEncoder()\n","target = s.fit_transform(target) # Encodage de la variable 'label'\n","\n","# On construit le jeu d'entrainnement. X_temp et y_temps servent pour la construction des jeux de test et validation\n","X_train, X_temp, y_train, y_temp = train_test_split(data, target, test_size=0.25, random_state=10)\n","\n","# On split les temp en 50% pour test, 50% pour validation\n","X_val, X_test, y_val, y_test = train_test_split(X_temp, y_temp, test_size=0.5, random_state=10)"]},{"cell_type":"markdown","id":"0a765e8b","metadata":{"id":"0a765e8b"},"source":["### Construction des dataset Tensorflow"]},{"cell_type":"code","execution_count":83,"id":"7c514280","metadata":{"executionInfo":{"elapsed":501,"status":"ok","timestamp":1694592779333,"user":{"displayName":"Guillaume Pot","userId":"03655893574028884118"},"user_tz":-120},"id":"7c514280"},"outputs":[],"source":["batch_size = 32\n","# Les datasets sont créés à partir de la fonction create_tf_dataset définie dans la partie 'Fonctions'\n","ds_train= create_tf_dataset(X_train.image_url, y_train, batch_size)\n","ds_test = create_tf_dataset(X_test.image_url, y_test, batch_size)\n","ds_val = create_tf_dataset(X_val.image_url, y_val, batch_size)"]},{"cell_type":"markdown","id":"3ad67918","metadata":{"id":"3ad67918"},"source":["# Entrainement du modèle"]},{"cell_type":"markdown","id":"c5ee25b6","metadata":{"id":"c5ee25b6"},"source":["### Methode .fit"]},{"cell_type":"code","execution_count":84,"id":"98b415ee","metadata":{"colab":{"base_uri":"https://localhost:8080/"},"executionInfo":{"elapsed":945602,"status":"ok","timestamp":1694593724931,"user":{"displayName":"Guillaume Pot","userId":"03655893574028884118"},"user_tz":-120},"id":"98b415ee","outputId":"ba4b94a9-2769-4da4-a965-cd018ee09f12"},"outputs":[{"name":"stdout","output_type":"stream","text":["Epoch 1/50\n","   4/1418 [..............................] - ETA: 25s - loss: 3.2165 - accuracy: 0.1094    "]},{"name":"stderr","output_type":"stream","text":["WARNING:tensorflow:Callback method `on_train_batch_end` is slow compared to the batch time (batch time: 0.0159s vs `on_train_batch_end` time: 0.0925s). Check your callbacks.\n"]},{"name":"stdout","output_type":"stream","text":["1418/1418 [==============================] - ETA: 0s - loss: 1.4178 - accuracy: 0.5202\n","Epoch 1: accuracy improved from -inf to 0.52019, saving model to ../model/checkpoint_model\n","Epoch 1 took 55.02 seconds\n","1418/1418 [==============================] - 55s 28ms/step - loss: 1.4178 - accuracy: 0.5202 - val_loss: 1.2672 - val_accuracy: 0.5664 - lr: 0.0010\n","Epoch 2/50\n","1415/1418 [============================>.] - ETA: 0s - loss: 1.2507 - accuracy: 0.5750\n","Epoch 2: accuracy improved from 0.52019 to 0.57489, saving model to ../model/checkpoint_model\n","Epoch 2 took 45.95 seconds\n","1418/1418 [==============================] - 46s 26ms/step - loss: 1.2510 - accuracy: 0.5749 - val_loss: 1.2869 - val_accuracy: 0.5651 - lr: 0.0010\n","Epoch 3/50\n","1415/1418 [============================>.] - ETA: 0s - loss: 1.2079 - accuracy: 0.5861\n","Epoch 3: accuracy improved from 0.57489 to 0.58596, saving model to ../model/checkpoint_model\n","Epoch 3 took 47.37 seconds\n","1418/1418 [==============================] - 47s 26ms/step - loss: 1.2084 - accuracy: 0.5860 - val_loss: 1.2168 - val_accuracy: 0.5907 - lr: 0.0010\n","Epoch 4/50\n","1415/1418 [============================>.] - ETA: 0s - loss: 1.1858 - accuracy: 0.5953\n","Epoch 4: accuracy improved from 0.58596 to 0.59533, saving model to ../model/checkpoint_model\n","Epoch 4 took 47.50 seconds\n","1418/1418 [==============================] - 48s 27ms/step - loss: 1.1856 - accuracy: 0.5953 - val_loss: 1.2283 - val_accuracy: 0.5729 - lr: 0.0010\n","Epoch 5/50\n","1416/1418 [============================>.] - ETA: 0s - loss: 1.1771 - accuracy: 0.5977\n","Epoch 5: accuracy improved from 0.59533 to 0.59775, saving model to ../model/checkpoint_model\n","Epoch 5 took 46.58 seconds\n","1418/1418 [==============================] - 47s 27ms/step - loss: 1.1770 - accuracy: 0.5978 - val_loss: 1.2122 - val_accuracy: 0.5911 - lr: 0.0010\n","Epoch 6/50\n","1418/1418 [==============================] - ETA: 0s - loss: 1.1630 - accuracy: 0.6030\n","Epoch 6: accuracy improved from 0.59775 to 0.60298, saving model to ../model/checkpoint_model\n","Epoch 6 took 46.49 seconds\n","1418/1418 [==============================] - 46s 26ms/step - loss: 1.1630 - accuracy: 0.6030 - val_loss: 1.2252 - val_accuracy: 0.5864 - lr: 0.0010\n","Epoch 7/50\n","1417/1418 [============================>.] - ETA: 0s - loss: 1.1537 - accuracy: 0.6069\n","Epoch 7: accuracy improved from 0.60298 to 0.60683, saving model to ../model/checkpoint_model\n","Epoch 7 took 47.73 seconds\n","1418/1418 [==============================] - 48s 27ms/step - loss: 1.1537 - accuracy: 0.6068 - val_loss: 1.1830 - val_accuracy: 0.6011 - lr: 0.0010\n","Epoch 8/50\n","1416/1418 [============================>.] - ETA: 0s - loss: 1.1527 - accuracy: 0.6065\n","Epoch 8: accuracy did not improve from 0.60683\n","Epoch 8 took 36.93 seconds\n","1418/1418 [==============================] - 37s 20ms/step - loss: 1.1528 - accuracy: 0.6065 - val_loss: 1.2009 - val_accuracy: 0.5950 - lr: 0.0010\n","Epoch 9/50\n","1417/1418 [============================>.] - ETA: 0s - loss: 1.1423 - accuracy: 0.6110\n","Epoch 9: accuracy improved from 0.60683 to 0.61098, saving model to ../model/checkpoint_model\n","Epoch 9 took 46.75 seconds\n","1418/1418 [==============================] - 47s 27ms/step - loss: 1.1423 - accuracy: 0.6110 - val_loss: 1.1952 - val_accuracy: 0.5983 - lr: 0.0010\n","Epoch 10/50\n","1416/1418 [============================>.] - ETA: 0s - loss: 1.1400 - accuracy: 0.6088\n","Epoch 10: accuracy did not improve from 0.61098\n","Epoch 10 took 37.12 seconds\n","1418/1418 [==============================] - 37s 20ms/step - loss: 1.1397 - accuracy: 0.6088 - val_loss: 1.2076 - val_accuracy: 0.6016 - lr: 0.0010\n","Epoch 11/50\n","1416/1418 [============================>.] - ETA: 0s - loss: 1.1387 - accuracy: 0.6113\n","Epoch 11: accuracy improved from 0.61098 to 0.61109, saving model to ../model/checkpoint_model\n","Epoch 11 took 47.05 seconds\n","1418/1418 [==============================] - 47s 27ms/step - loss: 1.1391 - accuracy: 0.6111 - val_loss: 1.2081 - val_accuracy: 0.5930 - lr: 0.0010\n","Epoch 12/50\n","1415/1418 [============================>.] - ETA: 0s - loss: 1.1368 - accuracy: 0.6147\n","Epoch 12: ReduceLROnPlateau reducing learning rate to 0.0001500000071246177.\n","\n","Epoch 12: accuracy improved from 0.61109 to 0.61462, saving model to ../model/checkpoint_model\n","Epoch 12 took 46.80 seconds\n","1418/1418 [==============================] - 47s 26ms/step - loss: 1.1368 - accuracy: 0.6146 - val_loss: 1.2369 - val_accuracy: 0.5915 - lr: 0.0010\n","Epoch 13/50\n","1416/1418 [============================>.] - ETA: 0s - loss: 1.0368 - accuracy: 0.6454\n","Epoch 13: accuracy improved from 0.61462 to 0.64544, saving model to ../model/checkpoint_model\n","Epoch 13 took 46.87 seconds\n","1418/1418 [==============================] - 47s 27ms/step - loss: 1.0368 - accuracy: 0.6454 - val_loss: 1.1256 - val_accuracy: 0.6135 - lr: 1.5000e-04\n","Epoch 14/50\n","1417/1418 [============================>.] - ETA: 0s - loss: 1.0203 - accuracy: 0.6494\n","Epoch 14: accuracy improved from 0.64544 to 0.64938, saving model to ../model/checkpoint_model\n","Epoch 14 took 47.56 seconds\n","1418/1418 [==============================] - 48s 27ms/step - loss: 1.0202 - accuracy: 0.6494 - val_loss: 1.1084 - val_accuracy: 0.6183 - lr: 1.5000e-04\n","Epoch 15/50\n","1417/1418 [============================>.] - ETA: 0s - loss: 1.0172 - accuracy: 0.6476\n","Epoch 15: accuracy did not improve from 0.64938\n","Epoch 15 took 37.59 seconds\n","1418/1418 [==============================] - 38s 20ms/step - loss: 1.0172 - accuracy: 0.6475 - val_loss: 1.1216 - val_accuracy: 0.6106 - lr: 1.5000e-04\n","Epoch 16/50\n","1416/1418 [============================>.] - ETA: 0s - loss: 1.0176 - accuracy: 0.6461\n","Epoch 16: accuracy did not improve from 0.64938\n","Epoch 16 took 37.29 seconds\n","1418/1418 [==============================] - 37s 20ms/step - loss: 1.0180 - accuracy: 0.6460 - val_loss: 1.1189 - val_accuracy: 0.6153 - lr: 1.5000e-04\n","Epoch 17/50\n","1416/1418 [============================>.] - ETA: 0s - loss: 1.0189 - accuracy: 0.6477\n","Epoch 17: accuracy did not improve from 0.64938\n","Epoch 17 took 36.68 seconds\n","1418/1418 [==============================] - 37s 20ms/step - loss: 1.0189 - accuracy: 0.6477 - val_loss: 1.1047 - val_accuracy: 0.6197 - lr: 1.5000e-04\n","Epoch 18/50\n","1415/1418 [============================>.] - ETA: 0s - loss: 1.0146 - accuracy: 0.6498\n","Epoch 18: accuracy improved from 0.64938 to 0.64996, saving model to ../model/checkpoint_model\n","Epoch 18 took 46.53 seconds\n","1418/1418 [==============================] - 47s 27ms/step - loss: 1.0144 - accuracy: 0.6500 - val_loss: 1.1290 - val_accuracy: 0.6157 - lr: 1.5000e-04\n","Epoch 19/50\n","1415/1418 [============================>.] - ETA: 0s - loss: 1.0150 - accuracy: 0.6502\n","Epoch 19: ReduceLROnPlateau reducing learning rate to 2.2500001068692655e-05.\n","\n","Epoch 19: accuracy improved from 0.64996 to 0.65020, saving model to ../model/checkpoint_model\n","Epoch 19 took 46.39 seconds\n","1418/1418 [==============================] - 46s 26ms/step - loss: 1.0148 - accuracy: 0.6502 - val_loss: 1.1093 - val_accuracy: 0.6209 - lr: 1.5000e-04\n","Epoch 20/50\n","1416/1418 [============================>.] - ETA: 0s - loss: 0.9978 - accuracy: 0.6531\n","Epoch 20: accuracy improved from 0.65020 to 0.65322, saving model to ../model/checkpoint_model\n","Epoch 20 took 47.57 seconds\n","1418/1418 [==============================] - 48s 27ms/step - loss: 0.9979 - accuracy: 0.6532 - val_loss: 1.1065 - val_accuracy: 0.6181 - lr: 2.2500e-05\n","Epoch 21/50\n","1418/1418 [==============================] - ETA: 0s - loss: 0.9993 - accuracy: 0.6551Restoring model weights from the end of the best epoch: 13.\n","\n","Epoch 21: accuracy improved from 0.65322 to 0.65509, saving model to ../model/checkpoint_model\n","Epoch 21 took 46.95 seconds\n","1418/1418 [==============================] - 47s 27ms/step - loss: 0.9993 - accuracy: 0.6551 - val_loss: 1.1105 - val_accuracy: 0.6180 - lr: 2.2500e-05\n","Epoch 21: early stopping\n"]}],"source":["history = model.fit(ds_train,\n","                    validation_data = ds_val,\n","                    epochs=50,\n","                    callbacks = [tensorboard, early_stopping, reduceLR, checkpoint, time_callback, TON],\n","                    verbose=True)"]},{"cell_type":"markdown","id":"ede47d9b","metadata":{"id":"ede47d9b"},"source":["### [En cas de crash durant l'entrainement]"]},{"cell_type":"code","execution_count":null,"id":"e0d147a0","metadata":{"id":"e0d147a0"},"outputs":[],"source":["# Cellule reservée au chargement du modèle checkpoint pour relancer l'entrainnement si le kernel crash\n","# /!\\ Ne pas utiliser ces cellules si l'entrainement s'est réalisé en entier /!\\\n","from tensorflow.keras.models import load_model\n","loaded_model = load_model('../model/checkpoint_model')\n","epoch_crash = 11            # Préciser le dernier epoch interrompu\n","nb_epochs_a_realiser = 2   # Nombre total d'epochs souhaité à partir de la reprise"]},{"cell_type":"code","execution_count":null,"id":"5a4f5387","metadata":{"id":"5a4f5387"},"outputs":[],"source":["# Reprise de l'entrainement\n","history = loaded_model.fit(ds_train,\n","                           validation_data=ds_val,\n","                           initial_epoch=epoch_crash,\n","                           epochs=nb_epochs_a_realiser,\n","                           callbacks=[tensorboard, early_stopping, reduceLR, checkpoint, time_callback, TON],\n","                           verbose=True)"]},{"cell_type":"markdown","id":"c6c9ef46","metadata":{"id":"c6c9ef46"},"source":["# Evaluation du modèle"]},{"cell_type":"markdown","id":"e45f4422","metadata":{"id":"e45f4422"},"source":["##### Accuracy sur test"]},{"cell_type":"code","execution_count":85,"id":"8506db40","metadata":{"colab":{"base_uri":"https://localhost:8080/"},"executionInfo":{"elapsed":6406,"status":"ok","timestamp":1694593749776,"user":{"displayName":"Guillaume Pot","userId":"03655893574028884118"},"user_tz":-120},"id":"8506db40","outputId":"4e4e4aab-a045-439d-a5d7-f9b5acf28c69"},"outputs":[{"name":"stdout","output_type":"stream","text":["237/237 [==============================] - 5s 16ms/step - loss: 1.1288 - accuracy: 0.6212\n","Test accuracy: 0.6212141513824463\n"]}],"source":["test_loss, test_accuracy = model.evaluate(ds_test)\n","print(\"Test accuracy:\", test_accuracy)"]},{"cell_type":"markdown","id":"475cb436","metadata":{"id":"475cb436"},"source":["##### Courbes accuracy & val_accuracy"]},{"cell_type":"code","execution_count":87,"id":"41e597c9","metadata":{"colab":{"base_uri":"https://localhost:8080/","height":450},"executionInfo":{"elapsed":8,"status":"ok","timestamp":1694593762690,"user":{"displayName":"Guillaume Pot","userId":"03655893574028884118"},"user_tz":-120},"id":"41e597c9","outputId":"83acc821-0b12-4e5e-ccfc-dadadb4db92d"},"outputs":[{"data":{"image/png":"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","text/plain":["<Figure size 640x480 with 1 Axes>"]},"metadata":{},"output_type":"display_data"}],"source":["plt.plot(history.history['accuracy'], label='accuracy')\n","plt.plot(history.history['val_accuracy'], label='val_accuracy')\n","plt.xlabel('Epoch')\n","plt.ylabel('Accuracy')\n","#plt.ylim([0.4,1])\n","plt.legend()\n","plt.show()"]},{"cell_type":"markdown","id":"aafbc0e2","metadata":{"id":"aafbc0e2"},"source":["# Sauvegarde du modèle"]},{"cell_type":"code","execution_count":91,"id":"7a0aac62","metadata":{"executionInfo":{"elapsed":484,"status":"ok","timestamp":1694593860654,"user":{"displayName":"Guillaume Pot","userId":"03655893574028884118"},"user_tz":-120},"id":"7a0aac62"},"outputs":[],"source":["# Changer le nom du modèle si il s'agit d'un nouvel entrainement\n","\n","# Save en dur\n","#nom_modele = '../model/gpot_v01_full_tri'\n","\n","# Save sur GDrive\n","nom_modele =  '/content/drive/MyDrive/SAS/model/gpot_v01_full_tri'"]},{"cell_type":"code","execution_count":92,"id":"981d5d39","metadata":{"executionInfo":{"elapsed":9427,"status":"ok","timestamp":1694593872813,"user":{"displayName":"Guillaume Pot","userId":"03655893574028884118"},"user_tz":-120},"id":"981d5d39"},"outputs":[],"source":["model.save(nom_modele)"]}],"metadata":{"accelerator":"GPU","colab":{"collapsed_sections":["ede47d9b"],"gpuType":"A100","machine_shape":"hm","provenance":[]},"kernelspec":{"display_name":"Python 3","name":"python3"},"language_info":{"codemirror_mode":{"name":"ipython","version":3},"file_extension":".py","mimetype":"text/x-python","name":"python","nbconvert_exporter":"python","pygments_lexer":"ipython3","version":"3.11.4"}},"nbformat":4,"nbformat_minor":5}
=======
{
 "cells": [
  {
   "cell_type": "markdown",
   "id": "bf4fa3a8",
   "metadata": {},
   "source": [
    "# infos"
   ]
  },
  {
   "cell_type": "code",
   "execution_count": 49,
   "id": "10e26ada",
   "metadata": {},
   "outputs": [],
   "source": [
    "# Modèle basé sur les 10 espèces représentées\n",
    "\n",
    "\n",
    "# Vérifier que les chemins soient correct avant toutes opérations\n",
    "chemin_images = '../../images/'\n",
    "chemin_csv = '../data/top10.csv'\n",
    "\n",
    "# Définition du DataFrame echantillon (utile pour tests modèles car entrainements très rapides)\n",
    "pourcentage_echantillon = 0.1 # Si 0.1 : 10% du contenu\n",
    "\n",
    "# Dimensions des images\n",
    "img_dim = (224,224)\n",
    "img_shape = (224,224,3)"
   ]
  },
  {
   "cell_type": "markdown",
   "id": "aa5b4ebe",
   "metadata": {},
   "source": [
    "##### A faire sur le notebook :\n",
    "\n",
    "- S'assurer que la data augmentation lisse le nb d'images par classe (modifier dans les fonctions) <-- Fait  mais à controler\n",
    "- Dans évaluation du modèle, compléter la dernière cellule (affichage images avec classe réelle et classe prédite)\n",
    "- Configurer Tensorboard (ajouter des fonctionnalités)"
   ]
  },
  {
   "cell_type": "markdown",
   "id": "415d86c0",
   "metadata": {},
   "source": [
    "# Google Colab"
   ]
  },
  {
   "cell_type": "markdown",
   "id": "c802d727",
   "metadata": {},
   "source": [
    "Si le notebook tourne sur colab, charger les fichiers images (format zip) et dezipper en suivant les cellules qui suivent :"
   ]
  },
  {
   "cell_type": "code",
   "execution_count": null,
   "id": "347b6d28",
   "metadata": {},
   "outputs": [],
   "source": [
    "# Importer les images en format .zip\n",
    "from google.colab import files\n",
    "files.upload()"
   ]
  },
  {
   "cell_type": "code",
   "execution_count": null,
   "id": "e577af3f",
   "metadata": {},
   "outputs": [],
   "source": [
    "# Dezipper le fichier\n",
    "fichier_source = \n",
    "dossier_sortie = \n",
    "!unzip fichier_source -d dossier_sortie"
   ]
  },
  {
   "cell_type": "markdown",
   "id": "c948c0ec",
   "metadata": {},
   "source": [
    "# Librairies à charger"
   ]
  },
  {
   "cell_type": "code",
   "execution_count": 91,
   "id": "e19d18cf",
   "metadata": {},
   "outputs": [],
   "source": [
    "# Librairies utilisées par les fonctions\n",
    "import pandas as pd\n",
    "import os\n",
    "from tensorflow.keras.applications.efficientnet import preprocess_input\n",
    "\n",
    "\n",
    "# Librairies utilisées pour les callbacks\n",
    "from tensorflow.keras import callbacks\n",
    "from tensorflow.keras.callbacks import Callback\n",
    "from tensorflow.keras.callbacks import EarlyStopping\n",
    "from tensorflow.keras.callbacks import ReduceLROnPlateau\n",
    "from tensorflow.keras.callbacks import ModelCheckpoint\n",
    "from timeit import default_timer as timer\n",
    "from tensorflow.keras.callbacks import TerminateOnNaN\n",
    "\n",
    "\n",
    "# Librairies utilisées pour créer les pipelines et le modèle\n",
    "import tensorflow as tf\n",
    "import tensorflow_hub as hub\n",
    "from tensorflow.keras import layers, models\n",
    "\n",
    "\n",
    "# Librairies utilisées pour la création des jeux d'entrainement, de test et de validation\n",
    "from sklearn.preprocessing import LabelEncoder\n",
    "from sklearn.model_selection import train_test_split\n",
    "from collections import Counter\n",
    "\n",
    "\n",
    "# Librairies utilisées pour l'évaluation du modèle une fois entrainé\n",
    "import matplotlib.pyplot as plt\n",
    "%matplotlib inline\n",
    "import random"
   ]
  },
  {
   "cell_type": "markdown",
   "id": "317f4ad3",
   "metadata": {},
   "source": [
    "# Fonctions"
   ]
  },
  {
   "cell_type": "code",
   "execution_count": 51,
   "id": "3bd70f24",
   "metadata": {},
   "outputs": [],
   "source": [
    "def import_df(chemin_images, chemin_csv, pourcentage_echantillon):\n",
    "    '''Importe le fichier csv et construit 2 df :\n",
    "        - Le DF basé sur le CSV original\n",
    "        - Un DF echantillon comportant 10% de données aléatoires du DF original\n",
    "\n",
    "        '''\n",
    "    \n",
    "    \n",
    "    # import du df\n",
    "    df = pd.read_csv(chemin_csv, low_memory=False)\n",
    "    df['image_url'] = df['image_url'].str.replace('.../images/', chemin_images)\n",
    "    print(f\"Nombre d'images chargées pour df: {df.shape[0]}\")\n",
    "    print(f\"Nb especes dans df: {df['label'].nunique()}\")\n",
    "\n",
    "\n",
    "    # Contruction de l'echantillon\n",
    "    L = len(df)\n",
    "    L_ech = int(pourcentage_echantillon * L)\n",
    "    df_ech = df.sample(n=L_ech, random_state=10)\n",
    "    df_ech.reset_index(inplace=True, drop=True)\n",
    "    print(f\"Nombre d'images chargées pour df_ech: {df_ech.shape[0]}\")\n",
    "    print(f\"Nb especes dans df_ech: {df_ech['label'].nunique()}\")\n",
    "\n",
    "\n",
    "\n",
    "\n",
    "    return df, df_ech"
   ]
  },
  {
   "cell_type": "code",
   "execution_count": 52,
   "id": "d90200f2",
   "metadata": {},
   "outputs": [],
   "source": [
    "def augment_img(image_path, label):\n",
    "\n",
    "    '''Modifie les images aléatoirement dans le dataset qui sera soumis au modèle, oversample les classes sous représentées.\n",
    "       image_path : chemin des images (variable définie en début de notebook),\n",
    "       label : Variable contenant les classes,\n",
    "       oversample_cls : Liste de classes à oversampler (Defini lors de l'import des données)\n",
    "       '''\n",
    "\n",
    "    img = tf.io.read_file(image_path)\n",
    "    img = tf.image.decode_png(img, channels=3)\n",
    "    img = tf.image.resize(img, img_dim)         # Rappel : img_dim est définie en début de Notebook\n",
    "    img = preprocess_input(img)\n",
    "\n",
    "    img = tf.image.random_flip_left_right(img)\n",
    "    img = tf.image.random_flip_up_down(img)\n",
    "    img = tf.image.random_brightness(img, max_delta=0.2)\n",
    "    img = tf.image.random_contrast(img, lower=0.8, upper=1.2)\n",
    "    img = tf.image.convert_image_dtype(img, tf.float32)\n",
    "    img = (img - tf.math.reduce_min(img)) / (tf.math.reduce_max(img) - tf.math.reduce_min(img))\n",
    "\n",
    "\n",
    "    return img, label"
   ]
  },
  {
   "cell_type": "code",
   "execution_count": 53,
   "id": "e8d5d9e5",
   "metadata": {},
   "outputs": [],
   "source": [
    "def create_tf_dataset(image_path, labels, batch_size, oversample_cls = None):\n",
    "    '''\n",
    "    Créé un dataset Tensorflow selon les paramètres précisés. La fonction oversample les classes sous représentées\n",
    "    image_path : chemin relatif de la variable contenant les images\n",
    "    labels : variable contenant les labels\n",
    "    batch_size : taille des batchs\n",
    "    iversample_cls : Liste contenant les classes à oversampler. Si non précisé, l'oversample sera ignoré\n",
    "    '''\n",
    "\n",
    "    image_path = image_path.tolist()  # Convertir les chemins d'images en liste\n",
    "    labels = labels.tolist()          # Convertir les labels en liste\n",
    "\n",
    "\n",
    " # Oversample des classes\n",
    "    if oversample_cls:\n",
    "    # Compter le nombre d'exemples par classe\n",
    "        class_counts = Counter(labels)\n",
    "\n",
    "    # Calculer le nombre d'exemples à ajouter pour chaque classe à oversampler\n",
    "        max_count = max(class_counts.values())\n",
    "        facteurs_oversample = {cls: max_count / count for cls, count in class_counts.items() if cls in oversample_cls}\n",
    "\n",
    "    # Répéter les exemples des classes à oversampler pour atteindre le nombre maximum\n",
    "        oversampled_image_paths = []\n",
    "        oversampled_labels = []\n",
    "        for img_path, label in zip(image_path, labels):\n",
    "            facteurs_oversample = facteurs_oversample.get(label, 1.0)\n",
    "            nb_copies = int(facteurs_oversample)\n",
    "            for _ in range(nb_copies):\n",
    "                oversampled_image_paths.append(img_path)\n",
    "                oversampled_labels.append(label)\n",
    "\n",
    "        image_path = oversampled_image_paths\n",
    "        labels = oversampled_labels\n",
    "\n",
    "\n",
    "\n",
    "    # Construction du Dataset    \n",
    "    dataset = tf.data.Dataset.from_tensor_slices((image_path, labels))\n",
    "    dataset = dataset.map(augment_img, num_parallel_calls=tf.data.experimental.AUTOTUNE)\n",
    "    dataset = dataset.shuffle(buffer_size=len(image_path))\n",
    "    dataset = dataset.batch(batch_size)\n",
    "    dataset = dataset.prefetch(buffer_size=tf.data.experimental.AUTOTUNE)\n",
    "    \n",
    "    return dataset"
   ]
  },
  {
   "cell_type": "code",
   "execution_count": 54,
   "id": "d6e07a5e",
   "metadata": {},
   "outputs": [],
   "source": [
    "def controle_presence_fichiers(df, chemin_images):\n",
    "\n",
    "    ''' Controle que les fichiers images soient bien présents sur le disque.'''\n",
    "\n",
    "    image_directory = chemin_images\n",
    "    missing_files = []\n",
    "\n",
    "# Parcourir chaque ligne du DataFrame\n",
    "    for index, row in df.iterrows():\n",
    "        image_path = os.path.join(image_directory, row['image_lien'])\n",
    "    \n",
    "        if not os.path.exists(image_path):\n",
    "            missing_files.append(image_path)\n",
    "\n",
    "    # Afficher les fichiers non trouvés\n",
    "    if missing_files:\n",
    "        print(\"\\nFichiers non trouvés :\")\n",
    "        for file_path in missing_files:\n",
    "            print(file_path)\n",
    "    else:\n",
    "        print(\"\\nTous les fichiers sont présents.\")"
   ]
  },
  {
   "cell_type": "markdown",
   "id": "94cdaa79",
   "metadata": {},
   "source": [
    "# Callbacks"
   ]
  },
  {
   "cell_type": "markdown",
   "id": "8da18474",
   "metadata": {},
   "source": [
    "### Tensorboard"
   ]
  },
  {
   "cell_type": "code",
   "execution_count": 55,
   "id": "b7fb00e1",
   "metadata": {},
   "outputs": [
    {
     "name": "stdout",
     "output_type": "stream",
     "text": [
      "The tensorboard extension is already loaded. To reload it, use:\n",
      "  %reload_ext tensorboard\n"
     ]
    }
   ],
   "source": [
    "%load_ext tensorboard\n",
    "log_dir = '../tensor_board_logs'\n",
    "tensorboard = callbacks.TensorBoard(log_dir = log_dir)"
   ]
  },
  {
   "cell_type": "markdown",
   "id": "bc0d7833",
   "metadata": {},
   "source": [
    "### EarlyStopping"
   ]
  },
  {
   "cell_type": "code",
   "execution_count": 56,
   "id": "1e11b678",
   "metadata": {},
   "outputs": [],
   "source": [
    "early_stopping = EarlyStopping(monitor = 'val_accuracy', \n",
    "                               min_delta = 0.05,\n",
    "                               patience = 3,\n",
    "                               verbose = 1,\n",
    "                               mode = 'auto',\n",
    "                               restore_best_weights = True)"
   ]
  },
  {
   "cell_type": "markdown",
   "id": "1b4a7771",
   "metadata": {},
   "source": [
    "### Reduce LearningRate"
   ]
  },
  {
   "cell_type": "code",
   "execution_count": 57,
   "id": "14807e08",
   "metadata": {},
   "outputs": [],
   "source": [
    "reduceLR = ReduceLROnPlateau(monitor = 'val_loss',\n",
    "                             min_delta = 0.01,\n",
    "                             patience = 3,\n",
    "                             factor = 0.15, \n",
    "                             cooldown = 3,\n",
    "                             verbose = 1)"
   ]
  },
  {
   "cell_type": "markdown",
   "id": "91e83245",
   "metadata": {},
   "source": [
    "### Checkpoint"
   ]
  },
  {
   "cell_type": "code",
   "execution_count": 58,
   "id": "951ce051",
   "metadata": {},
   "outputs": [],
   "source": [
    "checkpoint = ModelCheckpoint(filepath='../model/checkpoint_model', monitor='val_accuracy', save_best_only=True, verbose=1)"
   ]
  },
  {
   "cell_type": "markdown",
   "id": "d2501917",
   "metadata": {},
   "source": [
    "### Timer"
   ]
  },
  {
   "cell_type": "code",
   "execution_count": 79,
   "id": "2cac6928",
   "metadata": {},
   "outputs": [],
   "source": [
    "class TimingCallback(Callback):\n",
    "    def __init__(self):\n",
    "        super().__init__()\n",
    "        self.logs = []\n",
    "\n",
    "    def on_epoch_begin(self, epoch, logs=None):\n",
    "        self.starttime = timer()\n",
    "\n",
    "    def on_epoch_end(self, epoch, logs=None):\n",
    "        endtime = timer()\n",
    "        elapsed_time = endtime - self.starttime\n",
    "        self.logs.append(elapsed_time)\n",
    "        print(f\"Epoch {epoch + 1} took {elapsed_time:.2f} seconds\")\n",
    "\n",
    "time_callback = TimingCallback()"
   ]
  },
  {
   "cell_type": "markdown",
   "id": "2b84662a",
   "metadata": {},
   "source": [
    "### Terminate on NaN"
   ]
  },
  {
   "cell_type": "code",
   "execution_count": 60,
   "id": "d566542b",
   "metadata": {},
   "outputs": [],
   "source": [
    "TON = TerminateOnNaN()"
   ]
  },
  {
   "cell_type": "markdown",
   "id": "4b1ba906",
   "metadata": {},
   "source": [
    "# Construction modèle"
   ]
  },
  {
   "cell_type": "markdown",
   "id": "6d92e4f7",
   "metadata": {},
   "source": [
    "### Import du modèle pré-entrainé"
   ]
  },
  {
   "cell_type": "code",
   "execution_count": 61,
   "id": "25c527f0",
   "metadata": {},
   "outputs": [],
   "source": [
    "# Import du modèle\n",
    "# Le code qui suit est dépendant de la livrairie tensorflow_hub\n",
    "\n",
    "# URL du modèle pré-entrainé\n",
    "model_fit_url = 'https://tfhub.dev/google/imagenet/efficientnet_v2_imagenet21k_ft1k_b0/classification/2'\n",
    "\n",
    "# Chargement du modèle, freeze des couches du modèle\n",
    "import_model = hub.KerasLayer(model_fit_url, trainable=False)"
   ]
  },
  {
   "cell_type": "code",
   "execution_count": 62,
   "id": "9a67ec22",
   "metadata": {},
   "outputs": [],
   "source": [
    "# Pré-contruction du modèle sans les couches denses du modèke pré-entrainé\n",
    "\n",
    "input_layer = layers.Input(shape=img_shape) # La variable est définie en début de Notebook\n",
    "x = import_model(input_layer)\n",
    "pre_train_model = models.Model(inputs=input_layer, outputs=x)"
   ]
  },
  {
   "cell_type": "markdown",
   "id": "75ca19c2",
   "metadata": {},
   "source": [
    "### Couches denses et construction"
   ]
  },
  {
   "cell_type": "code",
   "execution_count": 63,
   "id": "fe29fdba",
   "metadata": {},
   "outputs": [],
   "source": [
    "# Créer le modèle CNN\n",
    "model = models.Sequential()\n",
    "model.add(pre_train_model)\n",
    "\n",
    "# Couches entièrement connectées\n",
    "model.add(layers.Flatten())\n",
    "model.add(layers.Dense(64, activation='relu'))\n",
    "model.add(layers.Dense(32, activation='relu'))\n",
    "model.add(layers.Dropout(0.5))\n",
    "model.add(layers.Dense(10, activation='softmax'))  # 10 classes de sortie\n"
   ]
  },
  {
   "cell_type": "markdown",
   "id": "2baa5c25",
   "metadata": {},
   "source": [
    "### Compilation du modèle"
   ]
  },
  {
   "cell_type": "code",
   "execution_count": 65,
   "id": "caceba96",
   "metadata": {},
   "outputs": [],
   "source": [
    "# Compiler le modèle\n",
    "model.compile(optimizer='adam',\n",
    "              loss='sparse_categorical_crossentropy',\n",
    "              metrics=['accuracy'])"
   ]
  },
  {
   "cell_type": "code",
   "execution_count": 66,
   "id": "186e5f3b",
   "metadata": {},
   "outputs": [
    {
     "name": "stdout",
     "output_type": "stream",
     "text": [
      "Model: \"sequential_1\"\n",
      "_________________________________________________________________\n",
      " Layer (type)                Output Shape              Param #   \n",
      "=================================================================\n",
      " model_1 (Functional)        (None, 1000)              7200312   \n",
      "                                                                 \n",
      " flatten_1 (Flatten)         (None, 1000)              0         \n",
      "                                                                 \n",
      " dense_3 (Dense)             (None, 64)                64064     \n",
      "                                                                 \n",
      " dense_4 (Dense)             (None, 32)                2080      \n",
      "                                                                 \n",
      " dropout_1 (Dropout)         (None, 32)                0         \n",
      "                                                                 \n",
      " dense_5 (Dense)             (None, 10)                330       \n",
      "                                                                 \n",
      "=================================================================\n",
      "Total params: 7266786 (27.72 MB)\n",
      "Trainable params: 66474 (259.66 KB)\n",
      "Non-trainable params: 7200312 (27.47 MB)\n",
      "_________________________________________________________________\n"
     ]
    }
   ],
   "source": [
    "# Afficher un résumé du modèle\n",
    "model.summary()"
   ]
  },
  {
   "cell_type": "markdown",
   "id": "f2574357",
   "metadata": {},
   "source": [
    "# Pipeline Dataset"
   ]
  },
  {
   "cell_type": "markdown",
   "id": "bf83bad7",
   "metadata": {},
   "source": [
    "### Import des DataFrames"
   ]
  },
  {
   "cell_type": "code",
   "execution_count": 67,
   "id": "0a7114e6",
   "metadata": {},
   "outputs": [
    {
     "name": "stdout",
     "output_type": "stream",
     "text": [
      "Nombre d'images chargées pour df: 64372\n",
      "Nb especes dans df: 10\n",
      "Nombre d'images chargées pour df_ech: 6437\n",
      "Nb especes dans df_ech: 10\n"
     ]
    },
    {
     "name": "stderr",
     "output_type": "stream",
     "text": [
      "C:\\Users\\guill\\AppData\\Local\\Temp\\ipykernel_15668\\465607992.py:11: FutureWarning: The default value of regex will change from True to False in a future version.\n",
      "  df['image_url'] = df['image_url'].str.replace('.../images/', chemin_images)\n"
     ]
    }
   ],
   "source": [
    "# Rappel : Utiliser df_ech pour les tests (entrainement rapide du modèle mais accuracy faible)\n",
    "df, df_ech = import_df(chemin_images, chemin_csv, pourcentage_echantillon)"
   ]
  },
  {
   "cell_type": "code",
   "execution_count": 68,
   "id": "1997289e",
   "metadata": {},
   "outputs": [],
   "source": [
    "# Préciser sur quelles données travailler (df_ech est un echantillo npermettant de réduire le temps d'entrainement pour effectuer des tests)\n",
    "# Commenter/Decommenter la ligne souhaitée\n",
    "donnees_training = df_ech\n",
    "#donnees_training = df"
   ]
  },
  {
   "cell_type": "code",
   "execution_count": 69,
   "id": "7fc53b33",
   "metadata": {},
   "outputs": [
    {
     "name": "stdout",
     "output_type": "stream",
     "text": [
      "Facteurs d'oversampling des classes : \n",
      " Agaricales : x1 \n",
      " Agaricus: x2.5 \n",
      " Amanita : x2 \n",
      " Cortinarius: x1.5 \n",
      " Entoloma : x2.5 \n",
      " Inocybe: x2 \n",
      " Mycena : x2 \n",
      " Popyporales: x1.8 \n",
      " Psathyrella : x2 \n",
      " Russula: x1.5 \n",
      "\n"
     ]
    },
    {
     "data": {
      "text/html": [
       "<div>\n",
       "<style scoped>\n",
       "    .dataframe tbody tr th:only-of-type {\n",
       "        vertical-align: middle;\n",
       "    }\n",
       "\n",
       "    .dataframe tbody tr th {\n",
       "        vertical-align: top;\n",
       "    }\n",
       "\n",
       "    .dataframe thead th {\n",
       "        text-align: right;\n",
       "    }\n",
       "</style>\n",
       "<table border=\"1\" class=\"dataframe\">\n",
       "  <thead>\n",
       "    <tr style=\"text-align: right;\">\n",
       "      <th></th>\n",
       "      <th>image_lien</th>\n",
       "      <th>image_url</th>\n",
       "    </tr>\n",
       "    <tr>\n",
       "      <th>label</th>\n",
       "      <th></th>\n",
       "      <th></th>\n",
       "    </tr>\n",
       "  </thead>\n",
       "  <tbody>\n",
       "    <tr>\n",
       "      <th>Agaricales</th>\n",
       "      <td>1173</td>\n",
       "      <td>1173</td>\n",
       "    </tr>\n",
       "    <tr>\n",
       "      <th>Agaricus</th>\n",
       "      <td>458</td>\n",
       "      <td>458</td>\n",
       "    </tr>\n",
       "    <tr>\n",
       "      <th>Amanita</th>\n",
       "      <td>524</td>\n",
       "      <td>524</td>\n",
       "    </tr>\n",
       "    <tr>\n",
       "      <th>Cortinarius</th>\n",
       "      <td>738</td>\n",
       "      <td>738</td>\n",
       "    </tr>\n",
       "    <tr>\n",
       "      <th>Entoloma</th>\n",
       "      <td>413</td>\n",
       "      <td>413</td>\n",
       "    </tr>\n",
       "    <tr>\n",
       "      <th>Inocybe</th>\n",
       "      <td>561</td>\n",
       "      <td>561</td>\n",
       "    </tr>\n",
       "    <tr>\n",
       "      <th>Mycena</th>\n",
       "      <td>519</td>\n",
       "      <td>519</td>\n",
       "    </tr>\n",
       "    <tr>\n",
       "      <th>Polyporales</th>\n",
       "      <td>677</td>\n",
       "      <td>677</td>\n",
       "    </tr>\n",
       "    <tr>\n",
       "      <th>Psathyrella</th>\n",
       "      <td>562</td>\n",
       "      <td>562</td>\n",
       "    </tr>\n",
       "    <tr>\n",
       "      <th>Russula</th>\n",
       "      <td>812</td>\n",
       "      <td>812</td>\n",
       "    </tr>\n",
       "  </tbody>\n",
       "</table>\n",
       "</div>"
      ],
      "text/plain": [
       "             image_lien  image_url\n",
       "label                             \n",
       "Agaricales         1173       1173\n",
       "Agaricus            458        458\n",
       "Amanita             524        524\n",
       "Cortinarius         738        738\n",
       "Entoloma            413        413\n",
       "Inocybe             561        561\n",
       "Mycena              519        519\n",
       "Polyporales         677        677\n",
       "Psathyrella         562        562\n",
       "Russula             812        812"
      ]
     },
     "execution_count": 69,
     "metadata": {},
     "output_type": "execute_result"
    }
   ],
   "source": [
    "# Représentation des classes\n",
    "print('Facteurs d\\'oversampling des classes : \\n',\n",
    "      'Agaricales : x1 \\n',\n",
    "      'Agaricus: x2.5 \\n',\n",
    "      'Amanita : x2 \\n',\n",
    "      'Cortinarius: x1.5 \\n',\n",
    "      'Entoloma : x2.5 \\n',\n",
    "      'Inocybe: x2 \\n',\n",
    "      'Mycena : x2 \\n',\n",
    "      'Popyporales: x1.8 \\n',\n",
    "      'Psathyrella : x2 \\n',\n",
    "      'Russula: x1.5 \\n')\n",
    "\n",
    "donnees_training.groupby('label').count()"
   ]
  },
  {
   "cell_type": "code",
   "execution_count": 70,
   "id": "9a55237f",
   "metadata": {},
   "outputs": [
    {
     "name": "stdout",
     "output_type": "stream",
     "text": [
      "\n",
      "Tous les fichiers sont présents.\n"
     ]
    }
   ],
   "source": [
    "# Controle de la présence des fichiers images\n",
    "controle_presence_fichiers(donnees_training, chemin_images)\n",
    "\n",
    "# On supprime ensuite la colonne image_lien qui ne sert qu'à controler la présence des fichiers.\n",
    "df.drop('image_lien', axis=1, inplace=True)\n",
    "df_ech.drop('image_lien', axis=1, inplace=True)"
   ]
  },
  {
   "cell_type": "code",
   "execution_count": 71,
   "id": "4f9720ac",
   "metadata": {},
   "outputs": [],
   "source": [
    "# Définir les classes à oversampler :\n",
    "oversample_cls = ['Agaricus', 'Amanita', 'Cortinarius', 'Entoloma', 'Inocybe', 'Mycena', 'Polyporales', 'Psathyrella', 'Russula']"
   ]
  },
  {
   "cell_type": "markdown",
   "id": "468bd3d8",
   "metadata": {},
   "source": [
    "### Construction des jeux de données (train, test et validation)"
   ]
  },
  {
   "cell_type": "code",
   "execution_count": 72,
   "id": "9c73f60f",
   "metadata": {},
   "outputs": [],
   "source": [
    "data = donnees_training.drop('label', axis=1)\n",
    "target = donnees_training['label']\n",
    "\n",
    "s = LabelEncoder()\n",
    "target = s.fit_transform(target) # Encodage de la variable 'label'\n",
    "\n",
    "# On construit le jeu d'entrainnement. X_temp et y_temps servent pour la construction des jeux de test et validation\n",
    "X_train, X_temp, y_train, y_temp = train_test_split(data, target, test_size=0.25, random_state=10)\n",
    "\n",
    "# On split les temp en 50% pour test, 50% pour validation\n",
    "X_val, X_test, y_val, y_test = train_test_split(X_temp, y_temp, test_size=0.5, random_state=10)"
   ]
  },
  {
   "cell_type": "markdown",
   "id": "0a765e8b",
   "metadata": {},
   "source": [
    "### Construction des dataset Tensorflow"
   ]
  },
  {
   "cell_type": "code",
   "execution_count": 73,
   "id": "7c514280",
   "metadata": {},
   "outputs": [],
   "source": [
    "batch_size = 64\n",
    "# Les datasets sont créés à partir de la fonction create_tf_dataset définie dans la partie 'Fonctions'\n",
    "ds_train= create_tf_dataset(X_train.image_url, y_train, batch_size, oversample_cls = oversample_cls)\n",
    "ds_test = create_tf_dataset(X_test.image_url, y_test, batch_size)\n",
    "ds_val = create_tf_dataset(X_val.image_url, y_val, batch_size, oversample_cls = oversample_cls)"
   ]
  },
  {
   "cell_type": "markdown",
   "id": "3ad67918",
   "metadata": {},
   "source": [
    "# Entrainement du modèle"
   ]
  },
  {
   "cell_type": "markdown",
   "id": "c5ee25b6",
   "metadata": {},
   "source": [
    "### Methode .fit"
   ]
  },
  {
   "cell_type": "code",
   "execution_count": 81,
   "id": "98b415ee",
   "metadata": {},
   "outputs": [
    {
     "name": "stdout",
     "output_type": "stream",
     "text": [
      "Epoch 1/50\n"
     ]
    },
    {
     "name": "stdout",
     "output_type": "stream",
     "text": [
      "76/76 [==============================] - ETA: 0s - loss: 1.8097 - accuracy: 0.3646\n",
      "Epoch 1: val_accuracy improved from 0.39503 to 0.42609, saving model to ../model\\checkpoint_model\n",
      "INFO:tensorflow:Assets written to: ../model\\checkpoint_model\\assets\n"
     ]
    },
    {
     "name": "stderr",
     "output_type": "stream",
     "text": [
      "INFO:tensorflow:Assets written to: ../model\\checkpoint_model\\assets\n"
     ]
    },
    {
     "name": "stdout",
     "output_type": "stream",
     "text": [
      "Epoch 1 took 227.91 seconds\n",
      "76/76 [==============================] - 228s 3s/step - loss: 1.8097 - accuracy: 0.3646 - val_loss: 1.7176 - val_accuracy: 0.4261 - lr: 0.0010\n",
      "Epoch 2/50\n",
      "76/76 [==============================] - ETA: 0s - loss: 1.7245 - accuracy: 0.3944\n",
      "Epoch 2: val_accuracy improved from 0.42609 to 0.44969, saving model to ../model\\checkpoint_model\n",
      "INFO:tensorflow:Assets written to: ../model\\checkpoint_model\\assets\n"
     ]
    },
    {
     "name": "stderr",
     "output_type": "stream",
     "text": [
      "INFO:tensorflow:Assets written to: ../model\\checkpoint_model\\assets\n"
     ]
    },
    {
     "name": "stdout",
     "output_type": "stream",
     "text": [
      "Epoch 2 took 256.13 seconds\n",
      "76/76 [==============================] - 256s 3s/step - loss: 1.7245 - accuracy: 0.3944 - val_loss: 1.6473 - val_accuracy: 0.4497 - lr: 0.0010\n",
      "Epoch 3/50\n",
      "76/76 [==============================] - ETA: 0s - loss: 1.6514 - accuracy: 0.4100\n",
      "Epoch 3: val_accuracy did not improve from 0.44969\n",
      "Epoch 3 took 249.68 seconds\n",
      "76/76 [==============================] - 250s 3s/step - loss: 1.6514 - accuracy: 0.4100 - val_loss: 1.6196 - val_accuracy: 0.4422 - lr: 0.0010\n",
      "Epoch 4/50\n",
      "76/76 [==============================] - ETA: 0s - loss: 1.5968 - accuracy: 0.4404Restoring model weights from the end of the best epoch: 1.\n",
      "\n",
      "Epoch 4: val_accuracy improved from 0.44969 to 0.46708, saving model to ../model\\checkpoint_model\n",
      "INFO:tensorflow:Assets written to: ../model\\checkpoint_model\\assets\n"
     ]
    },
    {
     "name": "stderr",
     "output_type": "stream",
     "text": [
      "INFO:tensorflow:Assets written to: ../model\\checkpoint_model\\assets\n"
     ]
    },
    {
     "name": "stdout",
     "output_type": "stream",
     "text": [
      "Epoch 4 took 261.51 seconds\n",
      "76/76 [==============================] - 262s 3s/step - loss: 1.5968 - accuracy: 0.4404 - val_loss: 1.5604 - val_accuracy: 0.4671 - lr: 0.0010\n",
      "Epoch 4: early stopping\n"
     ]
    }
   ],
   "source": [
    "history = model.fit(ds_train,\n",
    "                    validation_data = ds_val,\n",
    "                    epochs=50,\n",
    "                    callbacks = [tensorboard, early_stopping, reduceLR, checkpoint, time_callback, TON],\n",
    "                    verbose=True)"
   ]
  },
  {
   "cell_type": "markdown",
   "id": "ede47d9b",
   "metadata": {},
   "source": [
    "#### [En cas de crash durant l'entrainement]"
   ]
  },
  {
   "cell_type": "code",
   "execution_count": null,
   "id": "e0d147a0",
   "metadata": {},
   "outputs": [],
   "source": [
    "# Cellule reservée au chargement du modèle checkpoint pour relancer l'entrainnement si le kernel crash\n",
    "# /!\\ Ne pas utiliser ces cellules si l'entrainement s'est réalisé en entier /!\\\n",
    "from tensorflow.keras.models import load_model\n",
    "loaded_model = load_model('../model/checkpoint_model')\n",
    "\n",
    "epoch_crash =               # Préciser le dernier epoch interrompu\n",
    "nb_epochs_a_realiser = 50   # Nombre total d'epochs souhaité à partir de la reprise"
   ]
  },
  {
   "cell_type": "code",
   "execution_count": null,
   "id": "5a4f5387",
   "metadata": {},
   "outputs": [],
   "source": [
    "# Reprise de l'entrainement\n",
    "history = loaded_model.fit(ds_train,\n",
    "                           validation_data=ds_val,\n",
    "                           initial_epoch=epoch_actuel,\n",
    "                           epochs=nb_epochs_a_realiser,\n",
    "                           callbacks=[tensorboard, early_stopping, reduceLR, checkpoint, time_callback, TON],\n",
    "                           verbose=True)"
   ]
  },
  {
   "cell_type": "markdown",
   "id": "c6c9ef46",
   "metadata": {},
   "source": [
    "# Evaluation du modèle"
   ]
  },
  {
   "cell_type": "code",
   "execution_count": 82,
   "id": "8506db40",
   "metadata": {},
   "outputs": [
    {
     "name": "stdout",
     "output_type": "stream",
     "text": [
      "13/13 [==============================] - 34s 3s/step - loss: 1.7338 - accuracy: 0.4099\n",
      "Test accuracy: 0.40993788838386536\n"
     ]
    }
   ],
   "source": [
    "test_loss, test_accuracy = model.evaluate(ds_test)\n",
    "print(\"Test accuracy:\", test_accuracy)"
   ]
  },
  {
   "cell_type": "code",
   "execution_count": 83,
   "id": "41e597c9",
   "metadata": {},
   "outputs": [
    {
     "data": {
      "image/png": "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",
      "text/plain": [
       "<Figure size 640x480 with 1 Axes>"
      ]
     },
     "metadata": {},
     "output_type": "display_data"
    }
   ],
   "source": [
    "plt.plot(history.history['accuracy'], label='accuracy')\n",
    "plt.plot(history.history['val_accuracy'], label='val_accuracy')\n",
    "plt.xlabel('Epoch')\n",
    "plt.ylabel('Accuracy')\n",
    "plt.legend()\n",
    "plt.show()"
   ]
  },
  {
   "cell_type": "code",
   "execution_count": null,
   "id": "8d059b31",
   "metadata": {},
   "outputs": [],
   "source": [
    "# Ajouter dans cette cellule :\n",
    "    # - Des images tirées aléatoirement\n",
    "    # - La classe reelle\n",
    "    # - La classe prédite par le modèle"
   ]
  },
  {
   "cell_type": "markdown",
   "id": "aafbc0e2",
   "metadata": {},
   "source": [
    "# Sauvegarde du modèle"
   ]
  },
  {
   "cell_type": "code",
   "execution_count": 30,
   "id": "7a0aac62",
   "metadata": {},
   "outputs": [],
   "source": [
    "# Changer le nom du modèle si il s'agit d'un nouvel entrainement\n",
    "nom_modele = '../model/gpot_v01_echantillon'"
   ]
  },
  {
   "cell_type": "code",
   "execution_count": 31,
   "id": "981d5d39",
   "metadata": {},
   "outputs": [
    {
     "name": "stdout",
     "output_type": "stream",
     "text": [
      "INFO:tensorflow:Assets written to: ../model/gpot_v01_echantillon\\assets\n"
     ]
    },
    {
     "name": "stderr",
     "output_type": "stream",
     "text": [
      "INFO:tensorflow:Assets written to: ../model/gpot_v01_echantillon\\assets\n"
     ]
    }
   ],
   "source": [
    "model.save(nom_modele)"
   ]
  },
  {
   "cell_type": "markdown",
   "id": "a5907088",
   "metadata": {},
   "source": [
    "# Pour aller plus loin : Optuna"
   ]
  },
  {
   "cell_type": "markdown",
   "id": "95aeb430",
   "metadata": {},
   "source": [
    "La bibliothèque Optuna est une bibliothèque open source en Python qui est principalement utilisée pour l'optimisation des hyperparamètres, également connue sous le nom d'optimisation automatique des hyperparamètres (AutoML). Elle permet d'automatiser le processus de recherche des meilleures combinaisons d'hyperparamètres pour les modèles d'apprentissage automatique, ce qui peut grandement améliorer les performances des modèles.\n",
    "\n",
    "**Voici les principales utilisations et fonctionnalités de la bibliothèque Optuna :**\n",
    "- Optimisation des hyperparamètres : Optuna peut rechercher automatiquement les meilleures valeurs d'hyperparamètres pour un modèle donné en minimisant ou maximisant une fonction objectif. Les hyperparamètres sont des paramètres qui ne sont pas appris par le modèle lui-même, mais qui affectent ses performances, tels que le taux d'apprentissage, la profondeur du réseau de neurones, la taille du lot, etc.\n",
    "\n",
    "- Gestion des essais : Optuna gère la recherche des hyperparamètres en effectuant une recherche efficace dans l'espace des hyperparamètres en utilisant des algorithmes d'optimisation tels que l'optimisation des arbres de décision, l'optimisation bayésienne, etc. Il maintient un historique des essais antérieurs pour guider la recherche.\n",
    "\n",
    "- Intégration avec les frameworks de machine learning : Optuna peut être utilisé avec différents frameworks d'apprentissage automatique, tels que TensorFlow, PyTorch, Scikit-Learn, XGBoost, LightGBM, etc. Il est donc polyvalent et peut être utilisé pour optimiser divers types de modèles.\n",
    "\n",
    "- Extensible : Optuna est extensible, ce qui signifie que vous pouvez définir votre propre espace d'hyperparamètres à rechercher et définir des objectifs personnalisés en fonction de votre problème spécifique.\n",
    "\n",
    "- Parallélisme : Optuna prend en charge le parallélisme, ce qui signifie que vous pouvez effectuer plusieurs essais en parallèle pour accélérer le processus d'optimisation.\n",
    "\n",
    "- Visualisation des résultats : Optuna offre des outils de visualisation pour vous permettre d'analyser les résultats de l'optimisation, tels que les graphiques d'importance des hyperparamètres, les courbes d'apprentissage, etc.\n",
    "\n",
    "\n",
    "En résumé, Optuna est une bibliothèque puissante pour l'optimisation des hyperparamètres qui permet d'automatiser et de rationaliser le processus de recherche des meilleures configurations de modèle, ce qui peut vous faire gagner du temps et améliorer considérablement les performances de vos modèles d'apprentissage automatique."
   ]
  },
  {
   "cell_type": "markdown",
   "id": "705351eb",
   "metadata": {},
   "source": [
    "### Librairies à importer pour Optuna"
   ]
  },
  {
   "cell_type": "code",
   "execution_count": 56,
   "id": "416a9ade",
   "metadata": {},
   "outputs": [],
   "source": [
    "import optuna\n",
    "import optuna.visualization as optuna_viz\n",
    "from tensorflow.keras.optimizers import Adam\n",
    "from sklearn.metrics import accuracy_score\n",
    "from tensorflow.keras.layers import Dense, Dropout\n",
    "from tensorflow.keras.models import Model"
   ]
  },
  {
   "cell_type": "markdown",
   "id": "da0c3ab9",
   "metadata": {},
   "source": [
    "### Fonction objectif"
   ]
  },
  {
   "cell_type": "markdown",
   "id": "885bcdf3",
   "metadata": {},
   "source": [
    "Vous devez définir une fonction objectif que vous souhaitez optimiser. Cette fonction prendra les hyperparamètres comme arguments et renverra une valeur que vous souhaitez minimiser ou maximiser."
   ]
  },
  {
   "cell_type": "code",
   "execution_count": 59,
   "id": "faf2daef",
   "metadata": {},
   "outputs": [],
   "source": [
    "def objective(trial):\n",
    "    # Paramètres à optimiser\n",
    "        # Nombre de couches cachées\n",
    "    num_hidden_layers = trial.suggest_int('num_hidden_layers', 1, 5)\n",
    "            # Nombre de couches dropout\n",
    "    dropout_rates = [trial.suggest_float(f'dropout_layer_{i}', 0.0, 0.5) for i in range(num_hidden_layers)]\n",
    "        # Learning rate\n",
    "    learning_rate = trial.suggest_float('learning_rate', 1e-5, 1e-1, log=True)\n",
    "\n",
    "\n",
    "    # Créer le modèle EfficientNetB0 pré-entraîné avec des couches gelées\n",
    "    base_model = pre_train_model\n",
    "\n",
    "    # Geler toutes les couches du modèle de base\n",
    "    for layer in base_model.layers:\n",
    "        layer.trainable = False\n",
    "\n",
    "    # Ajouter des couches personnalisées pour la classification\n",
    "    x = base_model.output\n",
    "    \n",
    "    for i in range(num_hidden_layers):\n",
    "        x = Dense(128, activation='relu')(x)\n",
    "        x = Dropout(dropout_rates[i])(x)\n",
    "\n",
    "    predictions = Dense(10, activation='softmax')(x)\n",
    "\n",
    "    # Créer le modèle complet\n",
    "    model = Model(inputs=pre_train_model.input, outputs=predictions)\n",
    "\n",
    "    # Compiler le modèle\n",
    "    model.compile(optimizer=Adam(learning_rate=learning_rate),\n",
    "                  loss='sparse_categorical_crossentropy',\n",
    "                  metrics=['accuracy'])\n",
    "\n",
    "    # Entraîner le modèle\n",
    "    optuna_history = model.fit(ds_train, validation_data=ds_val, epochs=5, batch_size=batch_size, verbose=0)\n",
    "\n",
    "    # Évaluer la précision sur l'ensemble de test\n",
    "    y_pred = model.predict(ds_test)\n",
    "    y_pred = tf.argmax(y_pred, axis=1).numpy()\n",
    "    accuracy = accuracy_score(y_test, y_pred)\n",
    "\n",
    "    return -accuracy  # Maximiser la précision (donc minimiser l'opposé)\n"
   ]
  },
  {
   "cell_type": "markdown",
   "id": "6098eb65",
   "metadata": {},
   "source": [
    "### Objet d'étude Optuna"
   ]
  },
  {
   "cell_type": "markdown",
   "id": "881a2c9a",
   "metadata": {},
   "source": [
    "Vous devez créer un objet d'étude Optuna et spécifier la direction de l'optimisation (minimisation ou maximisation) "
   ]
  },
  {
   "cell_type": "markdown",
   "id": "0ed79ba2",
   "metadata": {},
   "source": [
    "La différence entre les modes \"minimize\" et \"maximize\" dans une étude Optuna réside dans la manière dont Optuna interprète la fonction objectif que vous cherchez à optimiser.\n",
    "\n",
    "**Minimize (Minimiser) :**\n",
    "\n",
    "Lorsque vous spécifiez direction='minimize' lors de la création de votre étude Optuna, vous indiquez à Optuna que vous cherchez à minimiser la valeur de la fonction objectif.\n",
    "Cela signifie que vous cherchez à obtenir la plus petite valeur possible de la fonction objectif. Par exemple, si vous utilisez la perte d'un modèle de machine learning comme fonction objectif, vous souhaitez minimiser cette perte (c'est-à-dire obtenir une perte aussi faible que possible).\n",
    "\n",
    "\n",
    "**Maximize (Maximiser) :**\n",
    "\n",
    "En revanche, lorsque vous spécifiez direction='maximize', vous indiquez à Optuna que vous cherchez à maximiser la valeur de la fonction objectif.\n",
    "Cela signifie que vous cherchez à obtenir la plus grande valeur possible de la fonction objectif. Par exemple, si vous cherchez à maximiser la précision d'un modèle de classification, vous souhaitez obtenir une précision aussi élevée que possible.\n",
    "Le choix entre \"minimize\" et \"maximize\" dépend du problème que vous résolvez et de la manière dont vous définissez votre fonction objectif. Par exemple, si vous cherchez à minimiser les erreurs, les pertes ou les coûts, vous utiliserez généralement \"minimize\". Si vous cherchez à maximiser les performances, les scores ou les gains, vous utiliserez généralement \"maximize\".\n",
    "\n",
    "\n",
    "\n",
    "\n",
    "**Voici un exemple concret :** supposons que vous entraîniez un modèle de classification et que votre fonction objectif est la précision du modèle. Dans ce cas, vous voudriez spécifier direction='maximize' car vous cherchez à obtenir la meilleure précision possible. D'un autre côté, si vous optimisez la perte du modèle, vous spécifierez direction='minimize' car vous voulez minimiser la perte."
   ]
  },
  {
   "cell_type": "code",
   "execution_count": 60,
   "id": "2f4c15ca",
   "metadata": {},
   "outputs": [
    {
     "name": "stderr",
     "output_type": "stream",
     "text": [
      "[I 2023-09-06 18:39:20,959] A new study created in memory with name: no-name-3f84819b-00f9-4251-bcbb-6862d236f9ec\n"
     ]
    }
   ],
   "source": [
    "study = optuna.create_study(direction='minimize')  # Vous pouvez également utiliser 'maximize'"
   ]
  },
  {
   "cell_type": "markdown",
   "id": "9ffd25cd",
   "metadata": {},
   "source": [
    "### Lancer l'optimisation "
   ]
  },
  {
   "cell_type": "markdown",
   "id": "06a207fb",
   "metadata": {},
   "source": [
    "Utilisez la méthode optimize de l'objet d'étude en spécifiant la fonction objectif et le nombre d'essais que vous souhaitez effectuer"
   ]
  },
  {
   "cell_type": "code",
   "execution_count": null,
   "id": "48f1eac3",
   "metadata": {},
   "outputs": [],
   "source": [
    "# /!\\ Attention l'entrainement peut être très très long\n",
    "study.optimize(objective, n_trials=5)  # Vous pouvez ajuster le nombre d'essais"
   ]
  },
  {
   "cell_type": "markdown",
   "id": "e84a8606",
   "metadata": {},
   "source": [
    "### Accéder aux résultats"
   ]
  },
  {
   "cell_type": "markdown",
   "id": "63c9c92a",
   "metadata": {},
   "source": [
    "Une fois l'optimisation terminée, vous pouvez accéder aux meilleurs hyperparamètres et à la meilleure valeur obtenue"
   ]
  },
  {
   "cell_type": "code",
   "execution_count": 68,
   "id": "884461c5",
   "metadata": {},
   "outputs": [
    {
     "name": "stdout",
     "output_type": "stream",
     "text": [
      "{'num_hidden_layers': 5, 'dropout_layer_0': 0.29814465457771433, 'dropout_layer_1': 0.3009901578535206, 'dropout_layer_2': 0.164650547536409, 'dropout_layer_3': 0.19192082606985023, 'dropout_layer_4': 0.19229664969483762, 'learning_rate': 0.01202621313117321}\n"
     ]
    }
   ],
   "source": [
    "best_params = study.best_params\n",
    "best_value = study.best_value\n",
    "print(best_params)"
   ]
  },
  {
   "cell_type": "markdown",
   "id": "7fe739cc",
   "metadata": {},
   "source": [
    "#### Courbe des performances"
   ]
  },
  {
   "cell_type": "code",
   "execution_count": 63,
   "id": "c2447f5b",
   "metadata": {},
   "outputs": [
    {
     "data": {
      "application/vnd.plotly.v1+json": {
       "config": {
        "plotlyServerURL": "https://plot.ly"
       },
       "data": [
        {
         "mode": "markers",
         "name": "Objective Value",
         "type": "scatter",
         "x": [
          0,
          1,
          2,
          3
         ],
         "y": [
          -0.12919254658385093,
          -0.14409937888198757,
          -0.17391304347826086,
          -0.12795031055900621
         ]
        },
        {
         "mode": "lines",
         "name": "Best Value",
         "type": "scatter",
         "x": [
          0,
          1,
          2,
          3,
          4
         ],
         "y": [
          -0.12919254658385093,
          -0.14409937888198757,
          -0.17391304347826086,
          -0.17391304347826086,
          -0.17391304347826086
         ]
        },
        {
         "marker": {
          "color": "#cccccc"
         },
         "mode": "markers",
         "name": "Infeasible Trial",
         "showlegend": false,
         "type": "scatter",
         "x": [],
         "y": []
        }
       ],
       "layout": {
        "template": {
         "data": {
          "bar": [
           {
            "error_x": {
             "color": "#2a3f5f"
            },
            "error_y": {
             "color": "#2a3f5f"
            },
            "marker": {
             "line": {
              "color": "#E5ECF6",
              "width": 0.5
             },
             "pattern": {
              "fillmode": "overlay",
              "size": 10,
              "solidity": 0.2
             }
            },
            "type": "bar"
           }
          ],
          "barpolar": [
           {
            "marker": {
             "line": {
              "color": "#E5ECF6",
              "width": 0.5
             },
             "pattern": {
              "fillmode": "overlay",
              "size": 10,
              "solidity": 0.2
             }
            },
            "type": "barpolar"
           }
          ],
          "carpet": [
           {
            "aaxis": {
             "endlinecolor": "#2a3f5f",
             "gridcolor": "white",
             "linecolor": "white",
             "minorgridcolor": "white",
             "startlinecolor": "#2a3f5f"
            },
            "baxis": {
             "endlinecolor": "#2a3f5f",
             "gridcolor": "white",
             "linecolor": "white",
             "minorgridcolor": "white",
             "startlinecolor": "#2a3f5f"
            },
            "type": "carpet"
           }
          ],
          "choropleth": [
           {
            "colorbar": {
             "outlinewidth": 0,
             "ticks": ""
            },
            "type": "choropleth"
           }
          ],
          "contour": [
           {
            "colorbar": {
             "outlinewidth": 0,
             "ticks": ""
            },
            "colorscale": [
             [
              0,
              "#0d0887"
             ],
             [
              0.1111111111111111,
              "#46039f"
             ],
             [
              0.2222222222222222,
              "#7201a8"
             ],
             [
              0.3333333333333333,
              "#9c179e"
             ],
             [
              0.4444444444444444,
              "#bd3786"
             ],
             [
              0.5555555555555556,
              "#d8576b"
             ],
             [
              0.6666666666666666,
              "#ed7953"
             ],
             [
              0.7777777777777778,
              "#fb9f3a"
             ],
             [
              0.8888888888888888,
              "#fdca26"
             ],
             [
              1,
              "#f0f921"
             ]
            ],
            "type": "contour"
           }
          ],
          "contourcarpet": [
           {
            "colorbar": {
             "outlinewidth": 0,
             "ticks": ""
            },
            "type": "contourcarpet"
           }
          ],
          "heatmap": [
           {
            "colorbar": {
             "outlinewidth": 0,
             "ticks": ""
            },
            "colorscale": [
             [
              0,
              "#0d0887"
             ],
             [
              0.1111111111111111,
              "#46039f"
             ],
             [
              0.2222222222222222,
              "#7201a8"
             ],
             [
              0.3333333333333333,
              "#9c179e"
             ],
             [
              0.4444444444444444,
              "#bd3786"
             ],
             [
              0.5555555555555556,
              "#d8576b"
             ],
             [
              0.6666666666666666,
              "#ed7953"
             ],
             [
              0.7777777777777778,
              "#fb9f3a"
             ],
             [
              0.8888888888888888,
              "#fdca26"
             ],
             [
              1,
              "#f0f921"
             ]
            ],
            "type": "heatmap"
           }
          ],
          "heatmapgl": [
           {
            "colorbar": {
             "outlinewidth": 0,
             "ticks": ""
            },
            "colorscale": [
             [
              0,
              "#0d0887"
             ],
             [
              0.1111111111111111,
              "#46039f"
             ],
             [
              0.2222222222222222,
              "#7201a8"
             ],
             [
              0.3333333333333333,
              "#9c179e"
             ],
             [
              0.4444444444444444,
              "#bd3786"
             ],
             [
              0.5555555555555556,
              "#d8576b"
             ],
             [
              0.6666666666666666,
              "#ed7953"
             ],
             [
              0.7777777777777778,
              "#fb9f3a"
             ],
             [
              0.8888888888888888,
              "#fdca26"
             ],
             [
              1,
              "#f0f921"
             ]
            ],
            "type": "heatmapgl"
           }
          ],
          "histogram": [
           {
            "marker": {
             "pattern": {
              "fillmode": "overlay",
              "size": 10,
              "solidity": 0.2
             }
            },
            "type": "histogram"
           }
          ],
          "histogram2d": [
           {
            "colorbar": {
             "outlinewidth": 0,
             "ticks": ""
            },
            "colorscale": [
             [
              0,
              "#0d0887"
             ],
             [
              0.1111111111111111,
              "#46039f"
             ],
             [
              0.2222222222222222,
              "#7201a8"
             ],
             [
              0.3333333333333333,
              "#9c179e"
             ],
             [
              0.4444444444444444,
              "#bd3786"
             ],
             [
              0.5555555555555556,
              "#d8576b"
             ],
             [
              0.6666666666666666,
              "#ed7953"
             ],
             [
              0.7777777777777778,
              "#fb9f3a"
             ],
             [
              0.8888888888888888,
              "#fdca26"
             ],
             [
              1,
              "#f0f921"
             ]
            ],
            "type": "histogram2d"
           }
          ],
          "histogram2dcontour": [
           {
            "colorbar": {
             "outlinewidth": 0,
             "ticks": ""
            },
            "colorscale": [
             [
              0,
              "#0d0887"
             ],
             [
              0.1111111111111111,
              "#46039f"
             ],
             [
              0.2222222222222222,
              "#7201a8"
             ],
             [
              0.3333333333333333,
              "#9c179e"
             ],
             [
              0.4444444444444444,
              "#bd3786"
             ],
             [
              0.5555555555555556,
              "#d8576b"
             ],
             [
              0.6666666666666666,
              "#ed7953"
             ],
             [
              0.7777777777777778,
              "#fb9f3a"
             ],
             [
              0.8888888888888888,
              "#fdca26"
             ],
             [
              1,
              "#f0f921"
             ]
            ],
            "type": "histogram2dcontour"
           }
          ],
          "mesh3d": [
           {
            "colorbar": {
             "outlinewidth": 0,
             "ticks": ""
            },
            "type": "mesh3d"
           }
          ],
          "parcoords": [
           {
            "line": {
             "colorbar": {
              "outlinewidth": 0,
              "ticks": ""
             }
            },
            "type": "parcoords"
           }
          ],
          "pie": [
           {
            "automargin": true,
            "type": "pie"
           }
          ],
          "scatter": [
           {
            "fillpattern": {
             "fillmode": "overlay",
             "size": 10,
             "solidity": 0.2
            },
            "type": "scatter"
           }
          ],
          "scatter3d": [
           {
            "line": {
             "colorbar": {
              "outlinewidth": 0,
              "ticks": ""
             }
            },
            "marker": {
             "colorbar": {
              "outlinewidth": 0,
              "ticks": ""
             }
            },
            "type": "scatter3d"
           }
          ],
          "scattercarpet": [
           {
            "marker": {
             "colorbar": {
              "outlinewidth": 0,
              "ticks": ""
             }
            },
            "type": "scattercarpet"
           }
          ],
          "scattergeo": [
           {
            "marker": {
             "colorbar": {
              "outlinewidth": 0,
              "ticks": ""
             }
            },
            "type": "scattergeo"
           }
          ],
          "scattergl": [
           {
            "marker": {
             "colorbar": {
              "outlinewidth": 0,
              "ticks": ""
             }
            },
            "type": "scattergl"
           }
          ],
          "scattermapbox": [
           {
            "marker": {
             "colorbar": {
              "outlinewidth": 0,
              "ticks": ""
             }
            },
            "type": "scattermapbox"
           }
          ],
          "scatterpolar": [
           {
            "marker": {
             "colorbar": {
              "outlinewidth": 0,
              "ticks": ""
             }
            },
            "type": "scatterpolar"
           }
          ],
          "scatterpolargl": [
           {
            "marker": {
             "colorbar": {
              "outlinewidth": 0,
              "ticks": ""
             }
            },
            "type": "scatterpolargl"
           }
          ],
          "scatterternary": [
           {
            "marker": {
             "colorbar": {
              "outlinewidth": 0,
              "ticks": ""
             }
            },
            "type": "scatterternary"
           }
          ],
          "surface": [
           {
            "colorbar": {
             "outlinewidth": 0,
             "ticks": ""
            },
            "colorscale": [
             [
              0,
              "#0d0887"
             ],
             [
              0.1111111111111111,
              "#46039f"
             ],
             [
              0.2222222222222222,
              "#7201a8"
             ],
             [
              0.3333333333333333,
              "#9c179e"
             ],
             [
              0.4444444444444444,
              "#bd3786"
             ],
             [
              0.5555555555555556,
              "#d8576b"
             ],
             [
              0.6666666666666666,
              "#ed7953"
             ],
             [
              0.7777777777777778,
              "#fb9f3a"
             ],
             [
              0.8888888888888888,
              "#fdca26"
             ],
             [
              1,
              "#f0f921"
             ]
            ],
            "type": "surface"
           }
          ],
          "table": [
           {
            "cells": {
             "fill": {
              "color": "#EBF0F8"
             },
             "line": {
              "color": "white"
             }
            },
            "header": {
             "fill": {
              "color": "#C8D4E3"
             },
             "line": {
              "color": "white"
             }
            },
            "type": "table"
           }
          ]
         },
         "layout": {
          "annotationdefaults": {
           "arrowcolor": "#2a3f5f",
           "arrowhead": 0,
           "arrowwidth": 1
          },
          "autotypenumbers": "strict",
          "coloraxis": {
           "colorbar": {
            "outlinewidth": 0,
            "ticks": ""
           }
          },
          "colorscale": {
           "diverging": [
            [
             0,
             "#8e0152"
            ],
            [
             0.1,
             "#c51b7d"
            ],
            [
             0.2,
             "#de77ae"
            ],
            [
             0.3,
             "#f1b6da"
            ],
            [
             0.4,
             "#fde0ef"
            ],
            [
             0.5,
             "#f7f7f7"
            ],
            [
             0.6,
             "#e6f5d0"
            ],
            [
             0.7,
             "#b8e186"
            ],
            [
             0.8,
             "#7fbc41"
            ],
            [
             0.9,
             "#4d9221"
            ],
            [
             1,
             "#276419"
            ]
           ],
           "sequential": [
            [
             0,
             "#0d0887"
            ],
            [
             0.1111111111111111,
             "#46039f"
            ],
            [
             0.2222222222222222,
             "#7201a8"
            ],
            [
             0.3333333333333333,
             "#9c179e"
            ],
            [
             0.4444444444444444,
             "#bd3786"
            ],
            [
             0.5555555555555556,
             "#d8576b"
            ],
            [
             0.6666666666666666,
             "#ed7953"
            ],
            [
             0.7777777777777778,
             "#fb9f3a"
            ],
            [
             0.8888888888888888,
             "#fdca26"
            ],
            [
             1,
             "#f0f921"
            ]
           ],
           "sequentialminus": [
            [
             0,
             "#0d0887"
            ],
            [
             0.1111111111111111,
             "#46039f"
            ],
            [
             0.2222222222222222,
             "#7201a8"
            ],
            [
             0.3333333333333333,
             "#9c179e"
            ],
            [
             0.4444444444444444,
             "#bd3786"
            ],
            [
             0.5555555555555556,
             "#d8576b"
            ],
            [
             0.6666666666666666,
             "#ed7953"
            ],
            [
             0.7777777777777778,
             "#fb9f3a"
            ],
            [
             0.8888888888888888,
             "#fdca26"
            ],
            [
             1,
             "#f0f921"
            ]
           ]
          },
          "colorway": [
           "#636efa",
           "#EF553B",
           "#00cc96",
           "#ab63fa",
           "#FFA15A",
           "#19d3f3",
           "#FF6692",
           "#B6E880",
           "#FF97FF",
           "#FECB52"
          ],
          "font": {
           "color": "#2a3f5f"
          },
          "geo": {
           "bgcolor": "white",
           "lakecolor": "white",
           "landcolor": "#E5ECF6",
           "showlakes": true,
           "showland": true,
           "subunitcolor": "white"
          },
          "hoverlabel": {
           "align": "left"
          },
          "hovermode": "closest",
          "mapbox": {
           "style": "light"
          },
          "paper_bgcolor": "white",
          "plot_bgcolor": "#E5ECF6",
          "polar": {
           "angularaxis": {
            "gridcolor": "white",
            "linecolor": "white",
            "ticks": ""
           },
           "bgcolor": "#E5ECF6",
           "radialaxis": {
            "gridcolor": "white",
            "linecolor": "white",
            "ticks": ""
           }
          },
          "scene": {
           "xaxis": {
            "backgroundcolor": "#E5ECF6",
            "gridcolor": "white",
            "gridwidth": 2,
            "linecolor": "white",
            "showbackground": true,
            "ticks": "",
            "zerolinecolor": "white"
           },
           "yaxis": {
            "backgroundcolor": "#E5ECF6",
            "gridcolor": "white",
            "gridwidth": 2,
            "linecolor": "white",
            "showbackground": true,
            "ticks": "",
            "zerolinecolor": "white"
           },
           "zaxis": {
            "backgroundcolor": "#E5ECF6",
            "gridcolor": "white",
            "gridwidth": 2,
            "linecolor": "white",
            "showbackground": true,
            "ticks": "",
            "zerolinecolor": "white"
           }
          },
          "shapedefaults": {
           "line": {
            "color": "#2a3f5f"
           }
          },
          "ternary": {
           "aaxis": {
            "gridcolor": "white",
            "linecolor": "white",
            "ticks": ""
           },
           "baxis": {
            "gridcolor": "white",
            "linecolor": "white",
            "ticks": ""
           },
           "bgcolor": "#E5ECF6",
           "caxis": {
            "gridcolor": "white",
            "linecolor": "white",
            "ticks": ""
           }
          },
          "title": {
           "x": 0.05
          },
          "xaxis": {
           "automargin": true,
           "gridcolor": "white",
           "linecolor": "white",
           "ticks": "",
           "title": {
            "standoff": 15
           },
           "zerolinecolor": "white",
           "zerolinewidth": 2
          },
          "yaxis": {
           "automargin": true,
           "gridcolor": "white",
           "linecolor": "white",
           "ticks": "",
           "title": {
            "standoff": 15
           },
           "zerolinecolor": "white",
           "zerolinewidth": 2
          }
         }
        },
        "title": {
         "text": "Optimization History Plot"
        },
        "xaxis": {
         "title": {
          "text": "Trial"
         }
        },
        "yaxis": {
         "title": {
          "text": "Objective Value"
         }
        }
       }
      }
     },
     "metadata": {},
     "output_type": "display_data"
    }
   ],
   "source": [
    "optuna_viz.plot_optimization_history(study)"
   ]
  },
  {
   "cell_type": "markdown",
   "id": "44d75e1c",
   "metadata": {},
   "source": [
    "#### Importance des hyperparamètres"
   ]
  },
  {
   "cell_type": "code",
   "execution_count": 64,
   "id": "6a247941",
   "metadata": {},
   "outputs": [
    {
     "data": {
      "application/vnd.plotly.v1+json": {
       "config": {
        "plotlyServerURL": "https://plot.ly"
       },
       "data": [
        {
         "cliponaxis": false,
         "hovertemplate": [
          "dropout_layer_0 (FloatDistribution): 0.2147657760249661<extra></extra>",
          "num_hidden_layers (IntDistribution): 0.3327589297981199<extra></extra>",
          "learning_rate (FloatDistribution): 0.45247529417691407<extra></extra>"
         ],
         "marker": {
          "color": "rgb(66,146,198)"
         },
         "orientation": "h",
         "text": [
          "0.21",
          "0.33",
          "0.45"
         ],
         "textposition": "outside",
         "type": "bar",
         "x": [
          0.2147657760249661,
          0.3327589297981199,
          0.45247529417691407
         ],
         "y": [
          "dropout_layer_0",
          "num_hidden_layers",
          "learning_rate"
         ]
        }
       ],
       "layout": {
        "showlegend": false,
        "template": {
         "data": {
          "bar": [
           {
            "error_x": {
             "color": "#2a3f5f"
            },
            "error_y": {
             "color": "#2a3f5f"
            },
            "marker": {
             "line": {
              "color": "#E5ECF6",
              "width": 0.5
             },
             "pattern": {
              "fillmode": "overlay",
              "size": 10,
              "solidity": 0.2
             }
            },
            "type": "bar"
           }
          ],
          "barpolar": [
           {
            "marker": {
             "line": {
              "color": "#E5ECF6",
              "width": 0.5
             },
             "pattern": {
              "fillmode": "overlay",
              "size": 10,
              "solidity": 0.2
             }
            },
            "type": "barpolar"
           }
          ],
          "carpet": [
           {
            "aaxis": {
             "endlinecolor": "#2a3f5f",
             "gridcolor": "white",
             "linecolor": "white",
             "minorgridcolor": "white",
             "startlinecolor": "#2a3f5f"
            },
            "baxis": {
             "endlinecolor": "#2a3f5f",
             "gridcolor": "white",
             "linecolor": "white",
             "minorgridcolor": "white",
             "startlinecolor": "#2a3f5f"
            },
            "type": "carpet"
           }
          ],
          "choropleth": [
           {
            "colorbar": {
             "outlinewidth": 0,
             "ticks": ""
            },
            "type": "choropleth"
           }
          ],
          "contour": [
           {
            "colorbar": {
             "outlinewidth": 0,
             "ticks": ""
            },
            "colorscale": [
             [
              0,
              "#0d0887"
             ],
             [
              0.1111111111111111,
              "#46039f"
             ],
             [
              0.2222222222222222,
              "#7201a8"
             ],
             [
              0.3333333333333333,
              "#9c179e"
             ],
             [
              0.4444444444444444,
              "#bd3786"
             ],
             [
              0.5555555555555556,
              "#d8576b"
             ],
             [
              0.6666666666666666,
              "#ed7953"
             ],
             [
              0.7777777777777778,
              "#fb9f3a"
             ],
             [
              0.8888888888888888,
              "#fdca26"
             ],
             [
              1,
              "#f0f921"
             ]
            ],
            "type": "contour"
           }
          ],
          "contourcarpet": [
           {
            "colorbar": {
             "outlinewidth": 0,
             "ticks": ""
            },
            "type": "contourcarpet"
           }
          ],
          "heatmap": [
           {
            "colorbar": {
             "outlinewidth": 0,
             "ticks": ""
            },
            "colorscale": [
             [
              0,
              "#0d0887"
             ],
             [
              0.1111111111111111,
              "#46039f"
             ],
             [
              0.2222222222222222,
              "#7201a8"
             ],
             [
              0.3333333333333333,
              "#9c179e"
             ],
             [
              0.4444444444444444,
              "#bd3786"
             ],
             [
              0.5555555555555556,
              "#d8576b"
             ],
             [
              0.6666666666666666,
              "#ed7953"
             ],
             [
              0.7777777777777778,
              "#fb9f3a"
             ],
             [
              0.8888888888888888,
              "#fdca26"
             ],
             [
              1,
              "#f0f921"
             ]
            ],
            "type": "heatmap"
           }
          ],
          "heatmapgl": [
           {
            "colorbar": {
             "outlinewidth": 0,
             "ticks": ""
            },
            "colorscale": [
             [
              0,
              "#0d0887"
             ],
             [
              0.1111111111111111,
              "#46039f"
             ],
             [
              0.2222222222222222,
              "#7201a8"
             ],
             [
              0.3333333333333333,
              "#9c179e"
             ],
             [
              0.4444444444444444,
              "#bd3786"
             ],
             [
              0.5555555555555556,
              "#d8576b"
             ],
             [
              0.6666666666666666,
              "#ed7953"
             ],
             [
              0.7777777777777778,
              "#fb9f3a"
             ],
             [
              0.8888888888888888,
              "#fdca26"
             ],
             [
              1,
              "#f0f921"
             ]
            ],
            "type": "heatmapgl"
           }
          ],
          "histogram": [
           {
            "marker": {
             "pattern": {
              "fillmode": "overlay",
              "size": 10,
              "solidity": 0.2
             }
            },
            "type": "histogram"
           }
          ],
          "histogram2d": [
           {
            "colorbar": {
             "outlinewidth": 0,
             "ticks": ""
            },
            "colorscale": [
             [
              0,
              "#0d0887"
             ],
             [
              0.1111111111111111,
              "#46039f"
             ],
             [
              0.2222222222222222,
              "#7201a8"
             ],
             [
              0.3333333333333333,
              "#9c179e"
             ],
             [
              0.4444444444444444,
              "#bd3786"
             ],
             [
              0.5555555555555556,
              "#d8576b"
             ],
             [
              0.6666666666666666,
              "#ed7953"
             ],
             [
              0.7777777777777778,
              "#fb9f3a"
             ],
             [
              0.8888888888888888,
              "#fdca26"
             ],
             [
              1,
              "#f0f921"
             ]
            ],
            "type": "histogram2d"
           }
          ],
          "histogram2dcontour": [
           {
            "colorbar": {
             "outlinewidth": 0,
             "ticks": ""
            },
            "colorscale": [
             [
              0,
              "#0d0887"
             ],
             [
              0.1111111111111111,
              "#46039f"
             ],
             [
              0.2222222222222222,
              "#7201a8"
             ],
             [
              0.3333333333333333,
              "#9c179e"
             ],
             [
              0.4444444444444444,
              "#bd3786"
             ],
             [
              0.5555555555555556,
              "#d8576b"
             ],
             [
              0.6666666666666666,
              "#ed7953"
             ],
             [
              0.7777777777777778,
              "#fb9f3a"
             ],
             [
              0.8888888888888888,
              "#fdca26"
             ],
             [
              1,
              "#f0f921"
             ]
            ],
            "type": "histogram2dcontour"
           }
          ],
          "mesh3d": [
           {
            "colorbar": {
             "outlinewidth": 0,
             "ticks": ""
            },
            "type": "mesh3d"
           }
          ],
          "parcoords": [
           {
            "line": {
             "colorbar": {
              "outlinewidth": 0,
              "ticks": ""
             }
            },
            "type": "parcoords"
           }
          ],
          "pie": [
           {
            "automargin": true,
            "type": "pie"
           }
          ],
          "scatter": [
           {
            "fillpattern": {
             "fillmode": "overlay",
             "size": 10,
             "solidity": 0.2
            },
            "type": "scatter"
           }
          ],
          "scatter3d": [
           {
            "line": {
             "colorbar": {
              "outlinewidth": 0,
              "ticks": ""
             }
            },
            "marker": {
             "colorbar": {
              "outlinewidth": 0,
              "ticks": ""
             }
            },
            "type": "scatter3d"
           }
          ],
          "scattercarpet": [
           {
            "marker": {
             "colorbar": {
              "outlinewidth": 0,
              "ticks": ""
             }
            },
            "type": "scattercarpet"
           }
          ],
          "scattergeo": [
           {
            "marker": {
             "colorbar": {
              "outlinewidth": 0,
              "ticks": ""
             }
            },
            "type": "scattergeo"
           }
          ],
          "scattergl": [
           {
            "marker": {
             "colorbar": {
              "outlinewidth": 0,
              "ticks": ""
             }
            },
            "type": "scattergl"
           }
          ],
          "scattermapbox": [
           {
            "marker": {
             "colorbar": {
              "outlinewidth": 0,
              "ticks": ""
             }
            },
            "type": "scattermapbox"
           }
          ],
          "scatterpolar": [
           {
            "marker": {
             "colorbar": {
              "outlinewidth": 0,
              "ticks": ""
             }
            },
            "type": "scatterpolar"
           }
          ],
          "scatterpolargl": [
           {
            "marker": {
             "colorbar": {
              "outlinewidth": 0,
              "ticks": ""
             }
            },
            "type": "scatterpolargl"
           }
          ],
          "scatterternary": [
           {
            "marker": {
             "colorbar": {
              "outlinewidth": 0,
              "ticks": ""
             }
            },
            "type": "scatterternary"
           }
          ],
          "surface": [
           {
            "colorbar": {
             "outlinewidth": 0,
             "ticks": ""
            },
            "colorscale": [
             [
              0,
              "#0d0887"
             ],
             [
              0.1111111111111111,
              "#46039f"
             ],
             [
              0.2222222222222222,
              "#7201a8"
             ],
             [
              0.3333333333333333,
              "#9c179e"
             ],
             [
              0.4444444444444444,
              "#bd3786"
             ],
             [
              0.5555555555555556,
              "#d8576b"
             ],
             [
              0.6666666666666666,
              "#ed7953"
             ],
             [
              0.7777777777777778,
              "#fb9f3a"
             ],
             [
              0.8888888888888888,
              "#fdca26"
             ],
             [
              1,
              "#f0f921"
             ]
            ],
            "type": "surface"
           }
          ],
          "table": [
           {
            "cells": {
             "fill": {
              "color": "#EBF0F8"
             },
             "line": {
              "color": "white"
             }
            },
            "header": {
             "fill": {
              "color": "#C8D4E3"
             },
             "line": {
              "color": "white"
             }
            },
            "type": "table"
           }
          ]
         },
         "layout": {
          "annotationdefaults": {
           "arrowcolor": "#2a3f5f",
           "arrowhead": 0,
           "arrowwidth": 1
          },
          "autotypenumbers": "strict",
          "coloraxis": {
           "colorbar": {
            "outlinewidth": 0,
            "ticks": ""
           }
          },
          "colorscale": {
           "diverging": [
            [
             0,
             "#8e0152"
            ],
            [
             0.1,
             "#c51b7d"
            ],
            [
             0.2,
             "#de77ae"
            ],
            [
             0.3,
             "#f1b6da"
            ],
            [
             0.4,
             "#fde0ef"
            ],
            [
             0.5,
             "#f7f7f7"
            ],
            [
             0.6,
             "#e6f5d0"
            ],
            [
             0.7,
             "#b8e186"
            ],
            [
             0.8,
             "#7fbc41"
            ],
            [
             0.9,
             "#4d9221"
            ],
            [
             1,
             "#276419"
            ]
           ],
           "sequential": [
            [
             0,
             "#0d0887"
            ],
            [
             0.1111111111111111,
             "#46039f"
            ],
            [
             0.2222222222222222,
             "#7201a8"
            ],
            [
             0.3333333333333333,
             "#9c179e"
            ],
            [
             0.4444444444444444,
             "#bd3786"
            ],
            [
             0.5555555555555556,
             "#d8576b"
            ],
            [
             0.6666666666666666,
             "#ed7953"
            ],
            [
             0.7777777777777778,
             "#fb9f3a"
            ],
            [
             0.8888888888888888,
             "#fdca26"
            ],
            [
             1,
             "#f0f921"
            ]
           ],
           "sequentialminus": [
            [
             0,
             "#0d0887"
            ],
            [
             0.1111111111111111,
             "#46039f"
            ],
            [
             0.2222222222222222,
             "#7201a8"
            ],
            [
             0.3333333333333333,
             "#9c179e"
            ],
            [
             0.4444444444444444,
             "#bd3786"
            ],
            [
             0.5555555555555556,
             "#d8576b"
            ],
            [
             0.6666666666666666,
             "#ed7953"
            ],
            [
             0.7777777777777778,
             "#fb9f3a"
            ],
            [
             0.8888888888888888,
             "#fdca26"
            ],
            [
             1,
             "#f0f921"
            ]
           ]
          },
          "colorway": [
           "#636efa",
           "#EF553B",
           "#00cc96",
           "#ab63fa",
           "#FFA15A",
           "#19d3f3",
           "#FF6692",
           "#B6E880",
           "#FF97FF",
           "#FECB52"
          ],
          "font": {
           "color": "#2a3f5f"
          },
          "geo": {
           "bgcolor": "white",
           "lakecolor": "white",
           "landcolor": "#E5ECF6",
           "showlakes": true,
           "showland": true,
           "subunitcolor": "white"
          },
          "hoverlabel": {
           "align": "left"
          },
          "hovermode": "closest",
          "mapbox": {
           "style": "light"
          },
          "paper_bgcolor": "white",
          "plot_bgcolor": "#E5ECF6",
          "polar": {
           "angularaxis": {
            "gridcolor": "white",
            "linecolor": "white",
            "ticks": ""
           },
           "bgcolor": "#E5ECF6",
           "radialaxis": {
            "gridcolor": "white",
            "linecolor": "white",
            "ticks": ""
           }
          },
          "scene": {
           "xaxis": {
            "backgroundcolor": "#E5ECF6",
            "gridcolor": "white",
            "gridwidth": 2,
            "linecolor": "white",
            "showbackground": true,
            "ticks": "",
            "zerolinecolor": "white"
           },
           "yaxis": {
            "backgroundcolor": "#E5ECF6",
            "gridcolor": "white",
            "gridwidth": 2,
            "linecolor": "white",
            "showbackground": true,
            "ticks": "",
            "zerolinecolor": "white"
           },
           "zaxis": {
            "backgroundcolor": "#E5ECF6",
            "gridcolor": "white",
            "gridwidth": 2,
            "linecolor": "white",
            "showbackground": true,
            "ticks": "",
            "zerolinecolor": "white"
           }
          },
          "shapedefaults": {
           "line": {
            "color": "#2a3f5f"
           }
          },
          "ternary": {
           "aaxis": {
            "gridcolor": "white",
            "linecolor": "white",
            "ticks": ""
           },
           "baxis": {
            "gridcolor": "white",
            "linecolor": "white",
            "ticks": ""
           },
           "bgcolor": "#E5ECF6",
           "caxis": {
            "gridcolor": "white",
            "linecolor": "white",
            "ticks": ""
           }
          },
          "title": {
           "x": 0.05
          },
          "xaxis": {
           "automargin": true,
           "gridcolor": "white",
           "linecolor": "white",
           "ticks": "",
           "title": {
            "standoff": 15
           },
           "zerolinecolor": "white",
           "zerolinewidth": 2
          },
          "yaxis": {
           "automargin": true,
           "gridcolor": "white",
           "linecolor": "white",
           "ticks": "",
           "title": {
            "standoff": 15
           },
           "zerolinecolor": "white",
           "zerolinewidth": 2
          }
         }
        },
        "title": {
         "text": "Hyperparameter Importances"
        },
        "xaxis": {
         "title": {
          "text": "Importance for Objective Value"
         }
        },
        "yaxis": {
         "title": {
          "text": "Hyperparameter"
         }
        }
       }
      }
     },
     "metadata": {},
     "output_type": "display_data"
    }
   ],
   "source": [
    "optuna_viz.plot_param_importances(study)"
   ]
  },
  {
   "cell_type": "markdown",
   "id": "e1e457ba",
   "metadata": {},
   "source": [
    "#### Distributions des valeurs d'hyperparamètres"
   ]
  },
  {
   "cell_type": "code",
   "execution_count": 65,
   "id": "bf4e3fe6",
   "metadata": {},
   "outputs": [
    {
     "data": {
      "application/vnd.plotly.v1+json": {
       "config": {
        "plotlyServerURL": "https://plot.ly"
       },
       "data": [
        {
         "marker": {
          "color": [
           0,
           1,
           2,
           3
          ],
          "colorbar": {
           "title": {
            "text": "Trial"
           },
           "x": 1,
           "xpad": 40
          },
          "colorscale": [
           [
            0,
            "rgb(247,251,255)"
           ],
           [
            0.125,
            "rgb(222,235,247)"
           ],
           [
            0.25,
            "rgb(198,219,239)"
           ],
           [
            0.375,
            "rgb(158,202,225)"
           ],
           [
            0.5,
            "rgb(107,174,214)"
           ],
           [
            0.625,
            "rgb(66,146,198)"
           ],
           [
            0.75,
            "rgb(33,113,181)"
           ],
           [
            0.875,
            "rgb(8,81,156)"
           ],
           [
            1,
            "rgb(8,48,107)"
           ]
          ],
          "line": {
           "color": "Grey",
           "width": 0.5
          },
          "showscale": true
         },
         "mode": "markers",
         "showlegend": false,
         "type": "scatter",
         "x": [
          0.33949987373207413,
          0.4273565544987195,
          0.29814465457771433,
          0.0935911829247435
         ],
         "xaxis": "x",
         "y": [
          -0.12919254658385093,
          -0.14409937888198757,
          -0.17391304347826086,
          -0.12795031055900621
         ],
         "yaxis": "y"
        },
        {
         "marker": {
          "color": [
           0,
           2,
           3
          ],
          "colorbar": {
           "title": {
            "text": "Trial"
           },
           "x": 1,
           "xpad": 40
          },
          "colorscale": [
           [
            0,
            "rgb(247,251,255)"
           ],
           [
            0.125,
            "rgb(222,235,247)"
           ],
           [
            0.25,
            "rgb(198,219,239)"
           ],
           [
            0.375,
            "rgb(158,202,225)"
           ],
           [
            0.5,
            "rgb(107,174,214)"
           ],
           [
            0.625,
            "rgb(66,146,198)"
           ],
           [
            0.75,
            "rgb(33,113,181)"
           ],
           [
            0.875,
            "rgb(8,81,156)"
           ],
           [
            1,
            "rgb(8,48,107)"
           ]
          ],
          "line": {
           "color": "Grey",
           "width": 0.5
          },
          "showscale": false
         },
         "mode": "markers",
         "showlegend": false,
         "type": "scatter",
         "x": [
          0.47071055260418565,
          0.3009901578535206,
          0.36342031287651133
         ],
         "xaxis": "x2",
         "y": [
          -0.12919254658385093,
          -0.17391304347826086,
          -0.12795031055900621
         ],
         "yaxis": "y2"
        },
        {
         "marker": {
          "color": [
           0,
           2,
           3
          ],
          "colorbar": {
           "title": {
            "text": "Trial"
           },
           "x": 1,
           "xpad": 40
          },
          "colorscale": [
           [
            0,
            "rgb(247,251,255)"
           ],
           [
            0.125,
            "rgb(222,235,247)"
           ],
           [
            0.25,
            "rgb(198,219,239)"
           ],
           [
            0.375,
            "rgb(158,202,225)"
           ],
           [
            0.5,
            "rgb(107,174,214)"
           ],
           [
            0.625,
            "rgb(66,146,198)"
           ],
           [
            0.75,
            "rgb(33,113,181)"
           ],
           [
            0.875,
            "rgb(8,81,156)"
           ],
           [
            1,
            "rgb(8,48,107)"
           ]
          ],
          "line": {
           "color": "Grey",
           "width": 0.5
          },
          "showscale": false
         },
         "mode": "markers",
         "showlegend": false,
         "type": "scatter",
         "x": [
          0.07917457188067084,
          0.164650547536409,
          0.4663333710520679
         ],
         "xaxis": "x3",
         "y": [
          -0.12919254658385093,
          -0.17391304347826086,
          -0.12795031055900621
         ],
         "yaxis": "y3"
        },
        {
         "marker": {
          "color": [
           2,
           3
          ],
          "colorbar": {
           "title": {
            "text": "Trial"
           },
           "x": 1,
           "xpad": 40
          },
          "colorscale": [
           [
            0,
            "rgb(247,251,255)"
           ],
           [
            0.125,
            "rgb(222,235,247)"
           ],
           [
            0.25,
            "rgb(198,219,239)"
           ],
           [
            0.375,
            "rgb(158,202,225)"
           ],
           [
            0.5,
            "rgb(107,174,214)"
           ],
           [
            0.625,
            "rgb(66,146,198)"
           ],
           [
            0.75,
            "rgb(33,113,181)"
           ],
           [
            0.875,
            "rgb(8,81,156)"
           ],
           [
            1,
            "rgb(8,48,107)"
           ]
          ],
          "line": {
           "color": "Grey",
           "width": 0.5
          },
          "showscale": false
         },
         "mode": "markers",
         "showlegend": false,
         "type": "scatter",
         "x": [
          0.19192082606985023,
          0.13261022750284718
         ],
         "xaxis": "x4",
         "y": [
          -0.17391304347826086,
          -0.12795031055900621
         ],
         "yaxis": "y4"
        },
        {
         "marker": {
          "color": [
           2
          ],
          "colorbar": {
           "title": {
            "text": "Trial"
           },
           "x": 1,
           "xpad": 40
          },
          "colorscale": [
           [
            0,
            "rgb(247,251,255)"
           ],
           [
            0.125,
            "rgb(222,235,247)"
           ],
           [
            0.25,
            "rgb(198,219,239)"
           ],
           [
            0.375,
            "rgb(158,202,225)"
           ],
           [
            0.5,
            "rgb(107,174,214)"
           ],
           [
            0.625,
            "rgb(66,146,198)"
           ],
           [
            0.75,
            "rgb(33,113,181)"
           ],
           [
            0.875,
            "rgb(8,81,156)"
           ],
           [
            1,
            "rgb(8,48,107)"
           ]
          ],
          "line": {
           "color": "Grey",
           "width": 0.5
          },
          "showscale": false
         },
         "mode": "markers",
         "showlegend": false,
         "type": "scatter",
         "x": [
          0.19229664969483762
         ],
         "xaxis": "x5",
         "y": [
          -0.17391304347826086
         ],
         "yaxis": "y5"
        },
        {
         "marker": {
          "color": [
           0,
           1,
           2,
           3
          ],
          "colorbar": {
           "title": {
            "text": "Trial"
           },
           "x": 1,
           "xpad": 40
          },
          "colorscale": [
           [
            0,
            "rgb(247,251,255)"
           ],
           [
            0.125,
            "rgb(222,235,247)"
           ],
           [
            0.25,
            "rgb(198,219,239)"
           ],
           [
            0.375,
            "rgb(158,202,225)"
           ],
           [
            0.5,
            "rgb(107,174,214)"
           ],
           [
            0.625,
            "rgb(66,146,198)"
           ],
           [
            0.75,
            "rgb(33,113,181)"
           ],
           [
            0.875,
            "rgb(8,81,156)"
           ],
           [
            1,
            "rgb(8,48,107)"
           ]
          ],
          "line": {
           "color": "Grey",
           "width": 0.5
          },
          "showscale": false
         },
         "mode": "markers",
         "showlegend": false,
         "type": "scatter",
         "x": [
          0.004847450946538762,
          0.000048896134579967844,
          0.01202621313117321,
          0.0063019955899054824
         ],
         "xaxis": "x6",
         "y": [
          -0.12919254658385093,
          -0.14409937888198757,
          -0.17391304347826086,
          -0.12795031055900621
         ],
         "yaxis": "y6"
        },
        {
         "marker": {
          "color": [
           0,
           1,
           2,
           3
          ],
          "colorbar": {
           "title": {
            "text": "Trial"
           },
           "x": 1,
           "xpad": 40
          },
          "colorscale": [
           [
            0,
            "rgb(247,251,255)"
           ],
           [
            0.125,
            "rgb(222,235,247)"
           ],
           [
            0.25,
            "rgb(198,219,239)"
           ],
           [
            0.375,
            "rgb(158,202,225)"
           ],
           [
            0.5,
            "rgb(107,174,214)"
           ],
           [
            0.625,
            "rgb(66,146,198)"
           ],
           [
            0.75,
            "rgb(33,113,181)"
           ],
           [
            0.875,
            "rgb(8,81,156)"
           ],
           [
            1,
            "rgb(8,48,107)"
           ]
          ],
          "line": {
           "color": "Grey",
           "width": 0.5
          },
          "showscale": false
         },
         "mode": "markers",
         "showlegend": false,
         "type": "scatter",
         "x": [
          3,
          1,
          5,
          4
         ],
         "xaxis": "x7",
         "y": [
          -0.12919254658385093,
          -0.14409937888198757,
          -0.17391304347826086,
          -0.12795031055900621
         ],
         "yaxis": "y7"
        }
       ],
       "layout": {
        "template": {
         "data": {
          "bar": [
           {
            "error_x": {
             "color": "#2a3f5f"
            },
            "error_y": {
             "color": "#2a3f5f"
            },
            "marker": {
             "line": {
              "color": "#E5ECF6",
              "width": 0.5
             },
             "pattern": {
              "fillmode": "overlay",
              "size": 10,
              "solidity": 0.2
             }
            },
            "type": "bar"
           }
          ],
          "barpolar": [
           {
            "marker": {
             "line": {
              "color": "#E5ECF6",
              "width": 0.5
             },
             "pattern": {
              "fillmode": "overlay",
              "size": 10,
              "solidity": 0.2
             }
            },
            "type": "barpolar"
           }
          ],
          "carpet": [
           {
            "aaxis": {
             "endlinecolor": "#2a3f5f",
             "gridcolor": "white",
             "linecolor": "white",
             "minorgridcolor": "white",
             "startlinecolor": "#2a3f5f"
            },
            "baxis": {
             "endlinecolor": "#2a3f5f",
             "gridcolor": "white",
             "linecolor": "white",
             "minorgridcolor": "white",
             "startlinecolor": "#2a3f5f"
            },
            "type": "carpet"
           }
          ],
          "choropleth": [
           {
            "colorbar": {
             "outlinewidth": 0,
             "ticks": ""
            },
            "type": "choropleth"
           }
          ],
          "contour": [
           {
            "colorbar": {
             "outlinewidth": 0,
             "ticks": ""
            },
            "colorscale": [
             [
              0,
              "#0d0887"
             ],
             [
              0.1111111111111111,
              "#46039f"
             ],
             [
              0.2222222222222222,
              "#7201a8"
             ],
             [
              0.3333333333333333,
              "#9c179e"
             ],
             [
              0.4444444444444444,
              "#bd3786"
             ],
             [
              0.5555555555555556,
              "#d8576b"
             ],
             [
              0.6666666666666666,
              "#ed7953"
             ],
             [
              0.7777777777777778,
              "#fb9f3a"
             ],
             [
              0.8888888888888888,
              "#fdca26"
             ],
             [
              1,
              "#f0f921"
             ]
            ],
            "type": "contour"
           }
          ],
          "contourcarpet": [
           {
            "colorbar": {
             "outlinewidth": 0,
             "ticks": ""
            },
            "type": "contourcarpet"
           }
          ],
          "heatmap": [
           {
            "colorbar": {
             "outlinewidth": 0,
             "ticks": ""
            },
            "colorscale": [
             [
              0,
              "#0d0887"
             ],
             [
              0.1111111111111111,
              "#46039f"
             ],
             [
              0.2222222222222222,
              "#7201a8"
             ],
             [
              0.3333333333333333,
              "#9c179e"
             ],
             [
              0.4444444444444444,
              "#bd3786"
             ],
             [
              0.5555555555555556,
              "#d8576b"
             ],
             [
              0.6666666666666666,
              "#ed7953"
             ],
             [
              0.7777777777777778,
              "#fb9f3a"
             ],
             [
              0.8888888888888888,
              "#fdca26"
             ],
             [
              1,
              "#f0f921"
             ]
            ],
            "type": "heatmap"
           }
          ],
          "heatmapgl": [
           {
            "colorbar": {
             "outlinewidth": 0,
             "ticks": ""
            },
            "colorscale": [
             [
              0,
              "#0d0887"
             ],
             [
              0.1111111111111111,
              "#46039f"
             ],
             [
              0.2222222222222222,
              "#7201a8"
             ],
             [
              0.3333333333333333,
              "#9c179e"
             ],
             [
              0.4444444444444444,
              "#bd3786"
             ],
             [
              0.5555555555555556,
              "#d8576b"
             ],
             [
              0.6666666666666666,
              "#ed7953"
             ],
             [
              0.7777777777777778,
              "#fb9f3a"
             ],
             [
              0.8888888888888888,
              "#fdca26"
             ],
             [
              1,
              "#f0f921"
             ]
            ],
            "type": "heatmapgl"
           }
          ],
          "histogram": [
           {
            "marker": {
             "pattern": {
              "fillmode": "overlay",
              "size": 10,
              "solidity": 0.2
             }
            },
            "type": "histogram"
           }
          ],
          "histogram2d": [
           {
            "colorbar": {
             "outlinewidth": 0,
             "ticks": ""
            },
            "colorscale": [
             [
              0,
              "#0d0887"
             ],
             [
              0.1111111111111111,
              "#46039f"
             ],
             [
              0.2222222222222222,
              "#7201a8"
             ],
             [
              0.3333333333333333,
              "#9c179e"
             ],
             [
              0.4444444444444444,
              "#bd3786"
             ],
             [
              0.5555555555555556,
              "#d8576b"
             ],
             [
              0.6666666666666666,
              "#ed7953"
             ],
             [
              0.7777777777777778,
              "#fb9f3a"
             ],
             [
              0.8888888888888888,
              "#fdca26"
             ],
             [
              1,
              "#f0f921"
             ]
            ],
            "type": "histogram2d"
           }
          ],
          "histogram2dcontour": [
           {
            "colorbar": {
             "outlinewidth": 0,
             "ticks": ""
            },
            "colorscale": [
             [
              0,
              "#0d0887"
             ],
             [
              0.1111111111111111,
              "#46039f"
             ],
             [
              0.2222222222222222,
              "#7201a8"
             ],
             [
              0.3333333333333333,
              "#9c179e"
             ],
             [
              0.4444444444444444,
              "#bd3786"
             ],
             [
              0.5555555555555556,
              "#d8576b"
             ],
             [
              0.6666666666666666,
              "#ed7953"
             ],
             [
              0.7777777777777778,
              "#fb9f3a"
             ],
             [
              0.8888888888888888,
              "#fdca26"
             ],
             [
              1,
              "#f0f921"
             ]
            ],
            "type": "histogram2dcontour"
           }
          ],
          "mesh3d": [
           {
            "colorbar": {
             "outlinewidth": 0,
             "ticks": ""
            },
            "type": "mesh3d"
           }
          ],
          "parcoords": [
           {
            "line": {
             "colorbar": {
              "outlinewidth": 0,
              "ticks": ""
             }
            },
            "type": "parcoords"
           }
          ],
          "pie": [
           {
            "automargin": true,
            "type": "pie"
           }
          ],
          "scatter": [
           {
            "fillpattern": {
             "fillmode": "overlay",
             "size": 10,
             "solidity": 0.2
            },
            "type": "scatter"
           }
          ],
          "scatter3d": [
           {
            "line": {
             "colorbar": {
              "outlinewidth": 0,
              "ticks": ""
             }
            },
            "marker": {
             "colorbar": {
              "outlinewidth": 0,
              "ticks": ""
             }
            },
            "type": "scatter3d"
           }
          ],
          "scattercarpet": [
           {
            "marker": {
             "colorbar": {
              "outlinewidth": 0,
              "ticks": ""
             }
            },
            "type": "scattercarpet"
           }
          ],
          "scattergeo": [
           {
            "marker": {
             "colorbar": {
              "outlinewidth": 0,
              "ticks": ""
             }
            },
            "type": "scattergeo"
           }
          ],
          "scattergl": [
           {
            "marker": {
             "colorbar": {
              "outlinewidth": 0,
              "ticks": ""
             }
            },
            "type": "scattergl"
           }
          ],
          "scattermapbox": [
           {
            "marker": {
             "colorbar": {
              "outlinewidth": 0,
              "ticks": ""
             }
            },
            "type": "scattermapbox"
           }
          ],
          "scatterpolar": [
           {
            "marker": {
             "colorbar": {
              "outlinewidth": 0,
              "ticks": ""
             }
            },
            "type": "scatterpolar"
           }
          ],
          "scatterpolargl": [
           {
            "marker": {
             "colorbar": {
              "outlinewidth": 0,
              "ticks": ""
             }
            },
            "type": "scatterpolargl"
           }
          ],
          "scatterternary": [
           {
            "marker": {
             "colorbar": {
              "outlinewidth": 0,
              "ticks": ""
             }
            },
            "type": "scatterternary"
           }
          ],
          "surface": [
           {
            "colorbar": {
             "outlinewidth": 0,
             "ticks": ""
            },
            "colorscale": [
             [
              0,
              "#0d0887"
             ],
             [
              0.1111111111111111,
              "#46039f"
             ],
             [
              0.2222222222222222,
              "#7201a8"
             ],
             [
              0.3333333333333333,
              "#9c179e"
             ],
             [
              0.4444444444444444,
              "#bd3786"
             ],
             [
              0.5555555555555556,
              "#d8576b"
             ],
             [
              0.6666666666666666,
              "#ed7953"
             ],
             [
              0.7777777777777778,
              "#fb9f3a"
             ],
             [
              0.8888888888888888,
              "#fdca26"
             ],
             [
              1,
              "#f0f921"
             ]
            ],
            "type": "surface"
           }
          ],
          "table": [
           {
            "cells": {
             "fill": {
              "color": "#EBF0F8"
             },
             "line": {
              "color": "white"
             }
            },
            "header": {
             "fill": {
              "color": "#C8D4E3"
             },
             "line": {
              "color": "white"
             }
            },
            "type": "table"
           }
          ]
         },
         "layout": {
          "annotationdefaults": {
           "arrowcolor": "#2a3f5f",
           "arrowhead": 0,
           "arrowwidth": 1
          },
          "autotypenumbers": "strict",
          "coloraxis": {
           "colorbar": {
            "outlinewidth": 0,
            "ticks": ""
           }
          },
          "colorscale": {
           "diverging": [
            [
             0,
             "#8e0152"
            ],
            [
             0.1,
             "#c51b7d"
            ],
            [
             0.2,
             "#de77ae"
            ],
            [
             0.3,
             "#f1b6da"
            ],
            [
             0.4,
             "#fde0ef"
            ],
            [
             0.5,
             "#f7f7f7"
            ],
            [
             0.6,
             "#e6f5d0"
            ],
            [
             0.7,
             "#b8e186"
            ],
            [
             0.8,
             "#7fbc41"
            ],
            [
             0.9,
             "#4d9221"
            ],
            [
             1,
             "#276419"
            ]
           ],
           "sequential": [
            [
             0,
             "#0d0887"
            ],
            [
             0.1111111111111111,
             "#46039f"
            ],
            [
             0.2222222222222222,
             "#7201a8"
            ],
            [
             0.3333333333333333,
             "#9c179e"
            ],
            [
             0.4444444444444444,
             "#bd3786"
            ],
            [
             0.5555555555555556,
             "#d8576b"
            ],
            [
             0.6666666666666666,
             "#ed7953"
            ],
            [
             0.7777777777777778,
             "#fb9f3a"
            ],
            [
             0.8888888888888888,
             "#fdca26"
            ],
            [
             1,
             "#f0f921"
            ]
           ],
           "sequentialminus": [
            [
             0,
             "#0d0887"
            ],
            [
             0.1111111111111111,
             "#46039f"
            ],
            [
             0.2222222222222222,
             "#7201a8"
            ],
            [
             0.3333333333333333,
             "#9c179e"
            ],
            [
             0.4444444444444444,
             "#bd3786"
            ],
            [
             0.5555555555555556,
             "#d8576b"
            ],
            [
             0.6666666666666666,
             "#ed7953"
            ],
            [
             0.7777777777777778,
             "#fb9f3a"
            ],
            [
             0.8888888888888888,
             "#fdca26"
            ],
            [
             1,
             "#f0f921"
            ]
           ]
          },
          "colorway": [
           "#636efa",
           "#EF553B",
           "#00cc96",
           "#ab63fa",
           "#FFA15A",
           "#19d3f3",
           "#FF6692",
           "#B6E880",
           "#FF97FF",
           "#FECB52"
          ],
          "font": {
           "color": "#2a3f5f"
          },
          "geo": {
           "bgcolor": "white",
           "lakecolor": "white",
           "landcolor": "#E5ECF6",
           "showlakes": true,
           "showland": true,
           "subunitcolor": "white"
          },
          "hoverlabel": {
           "align": "left"
          },
          "hovermode": "closest",
          "mapbox": {
           "style": "light"
          },
          "paper_bgcolor": "white",
          "plot_bgcolor": "#E5ECF6",
          "polar": {
           "angularaxis": {
            "gridcolor": "white",
            "linecolor": "white",
            "ticks": ""
           },
           "bgcolor": "#E5ECF6",
           "radialaxis": {
            "gridcolor": "white",
            "linecolor": "white",
            "ticks": ""
           }
          },
          "scene": {
           "xaxis": {
            "backgroundcolor": "#E5ECF6",
            "gridcolor": "white",
            "gridwidth": 2,
            "linecolor": "white",
            "showbackground": true,
            "ticks": "",
            "zerolinecolor": "white"
           },
           "yaxis": {
            "backgroundcolor": "#E5ECF6",
            "gridcolor": "white",
            "gridwidth": 2,
            "linecolor": "white",
            "showbackground": true,
            "ticks": "",
            "zerolinecolor": "white"
           },
           "zaxis": {
            "backgroundcolor": "#E5ECF6",
            "gridcolor": "white",
            "gridwidth": 2,
            "linecolor": "white",
            "showbackground": true,
            "ticks": "",
            "zerolinecolor": "white"
           }
          },
          "shapedefaults": {
           "line": {
            "color": "#2a3f5f"
           }
          },
          "ternary": {
           "aaxis": {
            "gridcolor": "white",
            "linecolor": "white",
            "ticks": ""
           },
           "baxis": {
            "gridcolor": "white",
            "linecolor": "white",
            "ticks": ""
           },
           "bgcolor": "#E5ECF6",
           "caxis": {
            "gridcolor": "white",
            "linecolor": "white",
            "ticks": ""
           }
          },
          "title": {
           "x": 0.05
          },
          "xaxis": {
           "automargin": true,
           "gridcolor": "white",
           "linecolor": "white",
           "ticks": "",
           "title": {
            "standoff": 15
           },
           "zerolinecolor": "white",
           "zerolinewidth": 2
          },
          "yaxis": {
           "automargin": true,
           "gridcolor": "white",
           "linecolor": "white",
           "ticks": "",
           "title": {
            "standoff": 15
           },
           "zerolinecolor": "white",
           "zerolinewidth": 2
          }
         }
        },
        "title": {
         "text": "Slice Plot"
        },
        "width": 2100,
        "xaxis": {
         "anchor": "y",
         "domain": [
          0,
          0.1183673469387755
         ],
         "title": {
          "text": "dropout_layer_0"
         }
        },
        "xaxis2": {
         "anchor": "y2",
         "domain": [
          0.14693877551020407,
          0.26530612244897955
         ],
         "title": {
          "text": "dropout_layer_1"
         }
        },
        "xaxis3": {
         "anchor": "y3",
         "domain": [
          0.29387755102040813,
          0.4122448979591836
         ],
         "title": {
          "text": "dropout_layer_2"
         }
        },
        "xaxis4": {
         "anchor": "y4",
         "domain": [
          0.4408163265306122,
          0.5591836734693877
         ],
         "title": {
          "text": "dropout_layer_3"
         }
        },
        "xaxis5": {
         "anchor": "y5",
         "domain": [
          0.5877551020408163,
          0.7061224489795918
         ],
         "title": {
          "text": "dropout_layer_4"
         }
        },
        "xaxis6": {
         "anchor": "y6",
         "domain": [
          0.7346938775510204,
          0.8530612244897959
         ],
         "title": {
          "text": "learning_rate"
         },
         "type": "log"
        },
        "xaxis7": {
         "anchor": "y7",
         "domain": [
          0.8816326530612244,
          0.9999999999999999
         ],
         "title": {
          "text": "num_hidden_layers"
         }
        },
        "yaxis": {
         "anchor": "x",
         "domain": [
          0,
          1
         ],
         "title": {
          "text": "Objective Value"
         }
        },
        "yaxis2": {
         "anchor": "x2",
         "domain": [
          0,
          1
         ],
         "matches": "y",
         "showticklabels": false
        },
        "yaxis3": {
         "anchor": "x3",
         "domain": [
          0,
          1
         ],
         "matches": "y",
         "showticklabels": false
        },
        "yaxis4": {
         "anchor": "x4",
         "domain": [
          0,
          1
         ],
         "matches": "y",
         "showticklabels": false
        },
        "yaxis5": {
         "anchor": "x5",
         "domain": [
          0,
          1
         ],
         "matches": "y",
         "showticklabels": false
        },
        "yaxis6": {
         "anchor": "x6",
         "domain": [
          0,
          1
         ],
         "matches": "y",
         "showticklabels": false
        },
        "yaxis7": {
         "anchor": "x7",
         "domain": [
          0,
          1
         ],
         "matches": "y",
         "showticklabels": false
        }
       }
      }
     },
     "metadata": {},
     "output_type": "display_data"
    }
   ],
   "source": [
    "optuna_viz.plot_slice(study)"
   ]
  },
  {
   "cell_type": "markdown",
   "id": "9f8310c5",
   "metadata": {},
   "source": [
    "#### Courbe de convergence"
   ]
  },
  {
   "cell_type": "code",
   "execution_count": 66,
   "id": "98b82f9f",
   "metadata": {},
   "outputs": [
    {
     "name": "stderr",
     "output_type": "stream",
     "text": [
      "[W 2023-09-06 19:47:19,559] Param dropout_layer_4 unique value length is less than 2.\n",
      "[W 2023-09-06 19:47:19,561] Param dropout_layer_4 unique value length is less than 2.\n",
      "[W 2023-09-06 19:47:19,562] Param dropout_layer_4 unique value length is less than 2.\n",
      "[W 2023-09-06 19:47:19,562] Param dropout_layer_4 unique value length is less than 2.\n",
      "[W 2023-09-06 19:47:19,564] Param dropout_layer_4 unique value length is less than 2.\n",
      "[W 2023-09-06 19:47:19,564] Param dropout_layer_4 unique value length is less than 2.\n",
      "[W 2023-09-06 19:47:19,564] Param dropout_layer_4 unique value length is less than 2.\n",
      "[W 2023-09-06 19:47:19,565] Param dropout_layer_4 unique value length is less than 2.\n",
      "[W 2023-09-06 19:47:19,566] Param dropout_layer_4 unique value length is less than 2.\n",
      "[W 2023-09-06 19:47:19,566] Param dropout_layer_4 unique value length is less than 2.\n",
      "[W 2023-09-06 19:47:19,567] Param dropout_layer_4 unique value length is less than 2.\n",
      "[W 2023-09-06 19:47:19,568] Param dropout_layer_4 unique value length is less than 2.\n"
     ]
    },
    {
     "data": {
      "application/vnd.plotly.v1+json": {
       "config": {
        "plotlyServerURL": "https://plot.ly"
       },
       "data": [
        {
         "type": "scatter",
         "xaxis": "x",
         "yaxis": "y"
        },
        {
         "colorbar": {
          "title": {
           "text": "Objective Value"
          }
         },
         "colorscale": [
          [
           0,
           "rgb(247,251,255)"
          ],
          [
           0.125,
           "rgb(222,235,247)"
          ],
          [
           0.25,
           "rgb(198,219,239)"
          ],
          [
           0.375,
           "rgb(158,202,225)"
          ],
          [
           0.5,
           "rgb(107,174,214)"
          ],
          [
           0.625,
           "rgb(66,146,198)"
          ],
          [
           0.75,
           "rgb(33,113,181)"
          ],
          [
           0.875,
           "rgb(8,81,156)"
          ],
          [
           1,
           "rgb(8,48,107)"
          ]
         ],
         "connectgaps": true,
         "contours": {
          "coloring": "heatmap"
         },
         "hoverinfo": "none",
         "line": {
          "smoothing": 1.3
         },
         "reversescale": true,
         "showscale": true,
         "type": "contour",
         "x": [
          0.0769029143460447,
          0.0935911829247435,
          0.29814465457771433,
          0.33949987373207413,
          0.4273565544987195,
          0.4440448230774183
         ],
         "xaxis": "x8",
         "y": [
          0.29250413811598736,
          0.3009901578535206,
          0.36342031287651133,
          0.47071055260418565,
          0.4791965723417189
         ],
         "yaxis": "y8",
         "z": [
          [
           null,
           null,
           null,
           null,
           null,
           null
          ],
          [
           null,
           null,
           -0.17391304347826086,
           null,
           null,
           null
          ],
          [
           null,
           -0.12795031055900621,
           null,
           null,
           null,
           null
          ],
          [
           null,
           null,
           null,
           -0.12919254658385093,
           null,
           null
          ],
          [
           null,
           null,
           null,
           null,
           null,
           null
          ]
         ]
        },
        {
         "marker": {
          "color": "black",
          "line": {
           "color": "Grey",
           "width": 2
          }
         },
         "mode": "markers",
         "showlegend": false,
         "type": "scatter",
         "x": [
          0.33949987373207413,
          0.29814465457771433,
          0.0935911829247435
         ],
         "xaxis": "x8",
         "y": [
          0.47071055260418565,
          0.3009901578535206,
          0.36342031287651133
         ],
         "yaxis": "y8"
        },
        {
         "colorbar": {
          "title": {
           "text": "Objective Value"
          }
         },
         "colorscale": [
          [
           0,
           "rgb(247,251,255)"
          ],
          [
           0.125,
           "rgb(222,235,247)"
          ],
          [
           0.25,
           "rgb(198,219,239)"
          ],
          [
           0.375,
           "rgb(158,202,225)"
          ],
          [
           0.5,
           "rgb(107,174,214)"
          ],
          [
           0.625,
           "rgb(66,146,198)"
          ],
          [
           0.75,
           "rgb(33,113,181)"
          ],
          [
           0.875,
           "rgb(8,81,156)"
          ],
          [
           1,
           "rgb(8,48,107)"
          ]
         ],
         "connectgaps": true,
         "contours": {
          "coloring": "heatmap"
         },
         "hoverinfo": "none",
         "line": {
          "smoothing": 1.3
         },
         "reversescale": true,
         "showscale": false,
         "type": "contour",
         "x": [
          0.0769029143460447,
          0.0935911829247435,
          0.29814465457771433,
          0.33949987373207413,
          0.4273565544987195,
          0.4440448230774183
         ],
         "xaxis": "x15",
         "y": [
          0.05981663192210099,
          0.07917457188067084,
          0.164650547536409,
          0.4663333710520679,
          0.4856913110106378
         ],
         "yaxis": "y15",
         "z": [
          [
           null,
           null,
           null,
           null,
           null,
           null
          ],
          [
           null,
           null,
           null,
           -0.12919254658385093,
           null,
           null
          ],
          [
           null,
           null,
           -0.17391304347826086,
           null,
           null,
           null
          ],
          [
           null,
           -0.12795031055900621,
           null,
           null,
           null,
           null
          ],
          [
           null,
           null,
           null,
           null,
           null,
           null
          ]
         ]
        },
        {
         "marker": {
          "color": "black",
          "line": {
           "color": "Grey",
           "width": 2
          }
         },
         "mode": "markers",
         "showlegend": false,
         "type": "scatter",
         "x": [
          0.33949987373207413,
          0.29814465457771433,
          0.0935911829247435
         ],
         "xaxis": "x15",
         "y": [
          0.07917457188067084,
          0.164650547536409,
          0.4663333710520679
         ],
         "yaxis": "y15"
        },
        {
         "colorbar": {
          "title": {
           "text": "Objective Value"
          }
         },
         "colorscale": [
          [
           0,
           "rgb(247,251,255)"
          ],
          [
           0.125,
           "rgb(222,235,247)"
          ],
          [
           0.25,
           "rgb(198,219,239)"
          ],
          [
           0.375,
           "rgb(158,202,225)"
          ],
          [
           0.5,
           "rgb(107,174,214)"
          ],
          [
           0.625,
           "rgb(66,146,198)"
          ],
          [
           0.75,
           "rgb(33,113,181)"
          ],
          [
           0.875,
           "rgb(8,81,156)"
          ],
          [
           1,
           "rgb(8,48,107)"
          ]
         ],
         "connectgaps": true,
         "contours": {
          "coloring": "heatmap"
         },
         "hoverinfo": "none",
         "line": {
          "smoothing": 1.3
         },
         "reversescale": true,
         "showscale": false,
         "type": "contour",
         "x": [
          0.0769029143460447,
          0.0935911829247435,
          0.29814465457771433,
          0.33949987373207413,
          0.4273565544987195,
          0.4440448230774183
         ],
         "xaxis": "x22",
         "y": [
          0.12964469757449704,
          0.13261022750284718,
          0.19192082606985023,
          0.19488635599820037
         ],
         "yaxis": "y22",
         "z": [
          [
           null,
           null,
           null,
           null,
           null,
           null
          ],
          [
           null,
           -0.12795031055900621,
           null,
           null,
           null,
           null
          ],
          [
           null,
           null,
           -0.17391304347826086,
           null,
           null,
           null
          ],
          [
           null,
           null,
           null,
           null,
           null,
           null
          ]
         ]
        },
        {
         "marker": {
          "color": "black",
          "line": {
           "color": "Grey",
           "width": 2
          }
         },
         "mode": "markers",
         "showlegend": false,
         "type": "scatter",
         "x": [
          0.29814465457771433,
          0.0935911829247435
         ],
         "xaxis": "x22",
         "y": [
          0.19192082606985023,
          0.13261022750284718
         ],
         "yaxis": "y22"
        },
        {
         "showscale": false,
         "type": "contour",
         "xaxis": "x29",
         "yaxis": "y29"
        },
        {
         "type": "scatter",
         "xaxis": "x29",
         "yaxis": "y29"
        },
        {
         "colorbar": {
          "title": {
           "text": "Objective Value"
          }
         },
         "colorscale": [
          [
           0,
           "rgb(247,251,255)"
          ],
          [
           0.125,
           "rgb(222,235,247)"
          ],
          [
           0.25,
           "rgb(198,219,239)"
          ],
          [
           0.375,
           "rgb(158,202,225)"
          ],
          [
           0.5,
           "rgb(107,174,214)"
          ],
          [
           0.625,
           "rgb(66,146,198)"
          ],
          [
           0.75,
           "rgb(33,113,181)"
          ],
          [
           0.875,
           "rgb(8,81,156)"
          ],
          [
           1,
           "rgb(8,48,107)"
          ]
         ],
         "connectgaps": true,
         "contours": {
          "coloring": "heatmap"
         },
         "hoverinfo": "none",
         "line": {
          "smoothing": 1.3
         },
         "reversescale": true,
         "showscale": false,
         "type": "contour",
         "x": [
          0.0769029143460447,
          0.0935911829247435,
          0.29814465457771433,
          0.33949987373207413,
          0.4273565544987195,
          0.4440448230774183
         ],
         "xaxis": "x36",
         "y": [
          0.00003713058652198904,
          0.000048896134579967844,
          0.004847450946538762,
          0.0063019955899054824,
          0.01202621313117321,
          0.01583695251894237
         ],
         "yaxis": "y36",
         "z": [
          [
           null,
           null,
           null,
           null,
           null,
           null
          ],
          [
           null,
           null,
           null,
           null,
           -0.14409937888198757,
           null
          ],
          [
           null,
           null,
           null,
           -0.12919254658385093,
           null,
           null
          ],
          [
           null,
           -0.12795031055900621,
           null,
           null,
           null,
           null
          ],
          [
           null,
           null,
           -0.17391304347826086,
           null,
           null,
           null
          ],
          [
           null,
           null,
           null,
           null,
           null,
           null
          ]
         ]
        },
        {
         "marker": {
          "color": "black",
          "line": {
           "color": "Grey",
           "width": 2
          }
         },
         "mode": "markers",
         "showlegend": false,
         "type": "scatter",
         "x": [
          0.33949987373207413,
          0.4273565544987195,
          0.29814465457771433,
          0.0935911829247435
         ],
         "xaxis": "x36",
         "y": [
          0.004847450946538762,
          0.000048896134579967844,
          0.01202621313117321,
          0.0063019955899054824
         ],
         "yaxis": "y36"
        },
        {
         "colorbar": {
          "title": {
           "text": "Objective Value"
          }
         },
         "colorscale": [
          [
           0,
           "rgb(247,251,255)"
          ],
          [
           0.125,
           "rgb(222,235,247)"
          ],
          [
           0.25,
           "rgb(198,219,239)"
          ],
          [
           0.375,
           "rgb(158,202,225)"
          ],
          [
           0.5,
           "rgb(107,174,214)"
          ],
          [
           0.625,
           "rgb(66,146,198)"
          ],
          [
           0.75,
           "rgb(33,113,181)"
          ],
          [
           0.875,
           "rgb(8,81,156)"
          ],
          [
           1,
           "rgb(8,48,107)"
          ]
         ],
         "connectgaps": true,
         "contours": {
          "coloring": "heatmap"
         },
         "hoverinfo": "none",
         "line": {
          "smoothing": 1.3
         },
         "reversescale": true,
         "showscale": false,
         "type": "contour",
         "x": [
          0.0769029143460447,
          0.0935911829247435,
          0.29814465457771433,
          0.33949987373207413,
          0.4273565544987195,
          0.4440448230774183
         ],
         "xaxis": "x43",
         "y": [
          0.8,
          1,
          3,
          4,
          5,
          5.2
         ],
         "yaxis": "y43",
         "z": [
          [
           null,
           null,
           null,
           null,
           null,
           null
          ],
          [
           null,
           null,
           null,
           null,
           -0.14409937888198757,
           null
          ],
          [
           null,
           null,
           null,
           -0.12919254658385093,
           null,
           null
          ],
          [
           null,
           -0.12795031055900621,
           null,
           null,
           null,
           null
          ],
          [
           null,
           null,
           -0.17391304347826086,
           null,
           null,
           null
          ],
          [
           null,
           null,
           null,
           null,
           null,
           null
          ]
         ]
        },
        {
         "marker": {
          "color": "black",
          "line": {
           "color": "Grey",
           "width": 2
          }
         },
         "mode": "markers",
         "showlegend": false,
         "type": "scatter",
         "x": [
          0.33949987373207413,
          0.4273565544987195,
          0.29814465457771433,
          0.0935911829247435
         ],
         "xaxis": "x43",
         "y": [
          3,
          1,
          5,
          4
         ],
         "yaxis": "y43"
        },
        {
         "colorbar": {
          "title": {
           "text": "Objective Value"
          }
         },
         "colorscale": [
          [
           0,
           "rgb(247,251,255)"
          ],
          [
           0.125,
           "rgb(222,235,247)"
          ],
          [
           0.25,
           "rgb(198,219,239)"
          ],
          [
           0.375,
           "rgb(158,202,225)"
          ],
          [
           0.5,
           "rgb(107,174,214)"
          ],
          [
           0.625,
           "rgb(66,146,198)"
          ],
          [
           0.75,
           "rgb(33,113,181)"
          ],
          [
           0.875,
           "rgb(8,81,156)"
          ],
          [
           1,
           "rgb(8,48,107)"
          ]
         ],
         "connectgaps": true,
         "contours": {
          "coloring": "heatmap"
         },
         "hoverinfo": "none",
         "line": {
          "smoothing": 1.3
         },
         "reversescale": true,
         "showscale": false,
         "type": "contour",
         "x": [
          0.29250413811598736,
          0.3009901578535206,
          0.36342031287651133,
          0.47071055260418565,
          0.4791965723417189
         ],
         "xaxis": "x2",
         "y": [
          0.0769029143460447,
          0.0935911829247435,
          0.29814465457771433,
          0.33949987373207413,
          0.4273565544987195,
          0.4440448230774183
         ],
         "yaxis": "y2",
         "z": [
          [
           null,
           null,
           null,
           null,
           null
          ],
          [
           null,
           null,
           -0.12795031055900621,
           null,
           null
          ],
          [
           null,
           -0.17391304347826086,
           null,
           null,
           null
          ],
          [
           null,
           null,
           null,
           -0.12919254658385093,
           null
          ],
          [
           null,
           null,
           null,
           null,
           null
          ],
          [
           null,
           null,
           null,
           null,
           null
          ]
         ]
        },
        {
         "marker": {
          "color": "black",
          "line": {
           "color": "Grey",
           "width": 2
          }
         },
         "mode": "markers",
         "showlegend": false,
         "type": "scatter",
         "x": [
          0.47071055260418565,
          0.3009901578535206,
          0.36342031287651133
         ],
         "xaxis": "x2",
         "y": [
          0.33949987373207413,
          0.29814465457771433,
          0.0935911829247435
         ],
         "yaxis": "y2"
        },
        {
         "type": "scatter",
         "xaxis": "x9",
         "yaxis": "y9"
        },
        {
         "colorbar": {
          "title": {
           "text": "Objective Value"
          }
         },
         "colorscale": [
          [
           0,
           "rgb(247,251,255)"
          ],
          [
           0.125,
           "rgb(222,235,247)"
          ],
          [
           0.25,
           "rgb(198,219,239)"
          ],
          [
           0.375,
           "rgb(158,202,225)"
          ],
          [
           0.5,
           "rgb(107,174,214)"
          ],
          [
           0.625,
           "rgb(66,146,198)"
          ],
          [
           0.75,
           "rgb(33,113,181)"
          ],
          [
           0.875,
           "rgb(8,81,156)"
          ],
          [
           1,
           "rgb(8,48,107)"
          ]
         ],
         "connectgaps": true,
         "contours": {
          "coloring": "heatmap"
         },
         "hoverinfo": "none",
         "line": {
          "smoothing": 1.3
         },
         "reversescale": true,
         "showscale": false,
         "type": "contour",
         "x": [
          0.29250413811598736,
          0.3009901578535206,
          0.36342031287651133,
          0.47071055260418565,
          0.4791965723417189
         ],
         "xaxis": "x16",
         "y": [
          0.05981663192210099,
          0.07917457188067084,
          0.164650547536409,
          0.4663333710520679,
          0.4856913110106378
         ],
         "yaxis": "y16",
         "z": [
          [
           null,
           null,
           null,
           null,
           null
          ],
          [
           null,
           null,
           null,
           -0.12919254658385093,
           null
          ],
          [
           null,
           -0.17391304347826086,
           null,
           null,
           null
          ],
          [
           null,
           null,
           -0.12795031055900621,
           null,
           null
          ],
          [
           null,
           null,
           null,
           null,
           null
          ]
         ]
        },
        {
         "marker": {
          "color": "black",
          "line": {
           "color": "Grey",
           "width": 2
          }
         },
         "mode": "markers",
         "showlegend": false,
         "type": "scatter",
         "x": [
          0.47071055260418565,
          0.3009901578535206,
          0.36342031287651133
         ],
         "xaxis": "x16",
         "y": [
          0.07917457188067084,
          0.164650547536409,
          0.4663333710520679
         ],
         "yaxis": "y16"
        },
        {
         "colorbar": {
          "title": {
           "text": "Objective Value"
          }
         },
         "colorscale": [
          [
           0,
           "rgb(247,251,255)"
          ],
          [
           0.125,
           "rgb(222,235,247)"
          ],
          [
           0.25,
           "rgb(198,219,239)"
          ],
          [
           0.375,
           "rgb(158,202,225)"
          ],
          [
           0.5,
           "rgb(107,174,214)"
          ],
          [
           0.625,
           "rgb(66,146,198)"
          ],
          [
           0.75,
           "rgb(33,113,181)"
          ],
          [
           0.875,
           "rgb(8,81,156)"
          ],
          [
           1,
           "rgb(8,48,107)"
          ]
         ],
         "connectgaps": true,
         "contours": {
          "coloring": "heatmap"
         },
         "hoverinfo": "none",
         "line": {
          "smoothing": 1.3
         },
         "reversescale": true,
         "showscale": false,
         "type": "contour",
         "x": [
          0.29250413811598736,
          0.3009901578535206,
          0.36342031287651133,
          0.47071055260418565,
          0.4791965723417189
         ],
         "xaxis": "x23",
         "y": [
          0.12964469757449704,
          0.13261022750284718,
          0.19192082606985023,
          0.19488635599820037
         ],
         "yaxis": "y23",
         "z": [
          [
           null,
           null,
           null,
           null,
           null
          ],
          [
           null,
           null,
           -0.12795031055900621,
           null,
           null
          ],
          [
           null,
           -0.17391304347826086,
           null,
           null,
           null
          ],
          [
           null,
           null,
           null,
           null,
           null
          ]
         ]
        },
        {
         "marker": {
          "color": "black",
          "line": {
           "color": "Grey",
           "width": 2
          }
         },
         "mode": "markers",
         "showlegend": false,
         "type": "scatter",
         "x": [
          0.3009901578535206,
          0.36342031287651133
         ],
         "xaxis": "x23",
         "y": [
          0.19192082606985023,
          0.13261022750284718
         ],
         "yaxis": "y23"
        },
        {
         "showscale": false,
         "type": "contour",
         "xaxis": "x30",
         "yaxis": "y30"
        },
        {
         "type": "scatter",
         "xaxis": "x30",
         "yaxis": "y30"
        },
        {
         "colorbar": {
          "title": {
           "text": "Objective Value"
          }
         },
         "colorscale": [
          [
           0,
           "rgb(247,251,255)"
          ],
          [
           0.125,
           "rgb(222,235,247)"
          ],
          [
           0.25,
           "rgb(198,219,239)"
          ],
          [
           0.375,
           "rgb(158,202,225)"
          ],
          [
           0.5,
           "rgb(107,174,214)"
          ],
          [
           0.625,
           "rgb(66,146,198)"
          ],
          [
           0.75,
           "rgb(33,113,181)"
          ],
          [
           0.875,
           "rgb(8,81,156)"
          ],
          [
           1,
           "rgb(8,48,107)"
          ]
         ],
         "connectgaps": true,
         "contours": {
          "coloring": "heatmap"
         },
         "hoverinfo": "none",
         "line": {
          "smoothing": 1.3
         },
         "reversescale": true,
         "showscale": false,
         "type": "contour",
         "x": [
          0.29250413811598736,
          0.3009901578535206,
          0.36342031287651133,
          0.47071055260418565,
          0.4791965723417189
         ],
         "xaxis": "x37",
         "y": [
          0.00003713058652198904,
          0.000048896134579967844,
          0.004847450946538762,
          0.0063019955899054824,
          0.01202621313117321,
          0.01583695251894237
         ],
         "yaxis": "y37",
         "z": [
          [
           null,
           null,
           null,
           null,
           null
          ],
          [
           null,
           null,
           null,
           null,
           null
          ],
          [
           null,
           null,
           null,
           -0.12919254658385093,
           null
          ],
          [
           null,
           null,
           -0.12795031055900621,
           null,
           null
          ],
          [
           null,
           -0.17391304347826086,
           null,
           null,
           null
          ],
          [
           null,
           null,
           null,
           null,
           null
          ]
         ]
        },
        {
         "marker": {
          "color": "black",
          "line": {
           "color": "Grey",
           "width": 2
          }
         },
         "mode": "markers",
         "showlegend": false,
         "type": "scatter",
         "x": [
          0.47071055260418565,
          0.3009901578535206,
          0.36342031287651133
         ],
         "xaxis": "x37",
         "y": [
          0.004847450946538762,
          0.01202621313117321,
          0.0063019955899054824
         ],
         "yaxis": "y37"
        },
        {
         "colorbar": {
          "title": {
           "text": "Objective Value"
          }
         },
         "colorscale": [
          [
           0,
           "rgb(247,251,255)"
          ],
          [
           0.125,
           "rgb(222,235,247)"
          ],
          [
           0.25,
           "rgb(198,219,239)"
          ],
          [
           0.375,
           "rgb(158,202,225)"
          ],
          [
           0.5,
           "rgb(107,174,214)"
          ],
          [
           0.625,
           "rgb(66,146,198)"
          ],
          [
           0.75,
           "rgb(33,113,181)"
          ],
          [
           0.875,
           "rgb(8,81,156)"
          ],
          [
           1,
           "rgb(8,48,107)"
          ]
         ],
         "connectgaps": true,
         "contours": {
          "coloring": "heatmap"
         },
         "hoverinfo": "none",
         "line": {
          "smoothing": 1.3
         },
         "reversescale": true,
         "showscale": false,
         "type": "contour",
         "x": [
          0.29250413811598736,
          0.3009901578535206,
          0.36342031287651133,
          0.47071055260418565,
          0.4791965723417189
         ],
         "xaxis": "x44",
         "y": [
          0.8,
          1,
          3,
          4,
          5,
          5.2
         ],
         "yaxis": "y44",
         "z": [
          [
           null,
           null,
           null,
           null,
           null
          ],
          [
           null,
           null,
           null,
           null,
           null
          ],
          [
           null,
           null,
           null,
           -0.12919254658385093,
           null
          ],
          [
           null,
           null,
           -0.12795031055900621,
           null,
           null
          ],
          [
           null,
           -0.17391304347826086,
           null,
           null,
           null
          ],
          [
           null,
           null,
           null,
           null,
           null
          ]
         ]
        },
        {
         "marker": {
          "color": "black",
          "line": {
           "color": "Grey",
           "width": 2
          }
         },
         "mode": "markers",
         "showlegend": false,
         "type": "scatter",
         "x": [
          0.47071055260418565,
          0.3009901578535206,
          0.36342031287651133
         ],
         "xaxis": "x44",
         "y": [
          3,
          5,
          4
         ],
         "yaxis": "y44"
        },
        {
         "colorbar": {
          "title": {
           "text": "Objective Value"
          }
         },
         "colorscale": [
          [
           0,
           "rgb(247,251,255)"
          ],
          [
           0.125,
           "rgb(222,235,247)"
          ],
          [
           0.25,
           "rgb(198,219,239)"
          ],
          [
           0.375,
           "rgb(158,202,225)"
          ],
          [
           0.5,
           "rgb(107,174,214)"
          ],
          [
           0.625,
           "rgb(66,146,198)"
          ],
          [
           0.75,
           "rgb(33,113,181)"
          ],
          [
           0.875,
           "rgb(8,81,156)"
          ],
          [
           1,
           "rgb(8,48,107)"
          ]
         ],
         "connectgaps": true,
         "contours": {
          "coloring": "heatmap"
         },
         "hoverinfo": "none",
         "line": {
          "smoothing": 1.3
         },
         "reversescale": true,
         "showscale": false,
         "type": "contour",
         "x": [
          0.05981663192210099,
          0.07917457188067084,
          0.164650547536409,
          0.4663333710520679,
          0.4856913110106378
         ],
         "xaxis": "x3",
         "y": [
          0.0769029143460447,
          0.0935911829247435,
          0.29814465457771433,
          0.33949987373207413,
          0.4273565544987195,
          0.4440448230774183
         ],
         "yaxis": "y3",
         "z": [
          [
           null,
           null,
           null,
           null,
           null
          ],
          [
           null,
           null,
           null,
           -0.12795031055900621,
           null
          ],
          [
           null,
           null,
           -0.17391304347826086,
           null,
           null
          ],
          [
           null,
           -0.12919254658385093,
           null,
           null,
           null
          ],
          [
           null,
           null,
           null,
           null,
           null
          ],
          [
           null,
           null,
           null,
           null,
           null
          ]
         ]
        },
        {
         "marker": {
          "color": "black",
          "line": {
           "color": "Grey",
           "width": 2
          }
         },
         "mode": "markers",
         "showlegend": false,
         "type": "scatter",
         "x": [
          0.07917457188067084,
          0.164650547536409,
          0.4663333710520679
         ],
         "xaxis": "x3",
         "y": [
          0.33949987373207413,
          0.29814465457771433,
          0.0935911829247435
         ],
         "yaxis": "y3"
        },
        {
         "colorbar": {
          "title": {
           "text": "Objective Value"
          }
         },
         "colorscale": [
          [
           0,
           "rgb(247,251,255)"
          ],
          [
           0.125,
           "rgb(222,235,247)"
          ],
          [
           0.25,
           "rgb(198,219,239)"
          ],
          [
           0.375,
           "rgb(158,202,225)"
          ],
          [
           0.5,
           "rgb(107,174,214)"
          ],
          [
           0.625,
           "rgb(66,146,198)"
          ],
          [
           0.75,
           "rgb(33,113,181)"
          ],
          [
           0.875,
           "rgb(8,81,156)"
          ],
          [
           1,
           "rgb(8,48,107)"
          ]
         ],
         "connectgaps": true,
         "contours": {
          "coloring": "heatmap"
         },
         "hoverinfo": "none",
         "line": {
          "smoothing": 1.3
         },
         "reversescale": true,
         "showscale": false,
         "type": "contour",
         "x": [
          0.05981663192210099,
          0.07917457188067084,
          0.164650547536409,
          0.4663333710520679,
          0.4856913110106378
         ],
         "xaxis": "x10",
         "y": [
          0.29250413811598736,
          0.3009901578535206,
          0.36342031287651133,
          0.47071055260418565,
          0.4791965723417189
         ],
         "yaxis": "y10",
         "z": [
          [
           null,
           null,
           null,
           null,
           null
          ],
          [
           null,
           null,
           -0.17391304347826086,
           null,
           null
          ],
          [
           null,
           null,
           null,
           -0.12795031055900621,
           null
          ],
          [
           null,
           -0.12919254658385093,
           null,
           null,
           null
          ],
          [
           null,
           null,
           null,
           null,
           null
          ]
         ]
        },
        {
         "marker": {
          "color": "black",
          "line": {
           "color": "Grey",
           "width": 2
          }
         },
         "mode": "markers",
         "showlegend": false,
         "type": "scatter",
         "x": [
          0.07917457188067084,
          0.164650547536409,
          0.4663333710520679
         ],
         "xaxis": "x10",
         "y": [
          0.47071055260418565,
          0.3009901578535206,
          0.36342031287651133
         ],
         "yaxis": "y10"
        },
        {
         "type": "scatter",
         "xaxis": "x17",
         "yaxis": "y17"
        },
        {
         "colorbar": {
          "title": {
           "text": "Objective Value"
          }
         },
         "colorscale": [
          [
           0,
           "rgb(247,251,255)"
          ],
          [
           0.125,
           "rgb(222,235,247)"
          ],
          [
           0.25,
           "rgb(198,219,239)"
          ],
          [
           0.375,
           "rgb(158,202,225)"
          ],
          [
           0.5,
           "rgb(107,174,214)"
          ],
          [
           0.625,
           "rgb(66,146,198)"
          ],
          [
           0.75,
           "rgb(33,113,181)"
          ],
          [
           0.875,
           "rgb(8,81,156)"
          ],
          [
           1,
           "rgb(8,48,107)"
          ]
         ],
         "connectgaps": true,
         "contours": {
          "coloring": "heatmap"
         },
         "hoverinfo": "none",
         "line": {
          "smoothing": 1.3
         },
         "reversescale": true,
         "showscale": false,
         "type": "contour",
         "x": [
          0.05981663192210099,
          0.07917457188067084,
          0.164650547536409,
          0.4663333710520679,
          0.4856913110106378
         ],
         "xaxis": "x24",
         "y": [
          0.12964469757449704,
          0.13261022750284718,
          0.19192082606985023,
          0.19488635599820037
         ],
         "yaxis": "y24",
         "z": [
          [
           null,
           null,
           null,
           null,
           null
          ],
          [
           null,
           null,
           null,
           -0.12795031055900621,
           null
          ],
          [
           null,
           null,
           -0.17391304347826086,
           null,
           null
          ],
          [
           null,
           null,
           null,
           null,
           null
          ]
         ]
        },
        {
         "marker": {
          "color": "black",
          "line": {
           "color": "Grey",
           "width": 2
          }
         },
         "mode": "markers",
         "showlegend": false,
         "type": "scatter",
         "x": [
          0.164650547536409,
          0.4663333710520679
         ],
         "xaxis": "x24",
         "y": [
          0.19192082606985023,
          0.13261022750284718
         ],
         "yaxis": "y24"
        },
        {
         "showscale": false,
         "type": "contour",
         "xaxis": "x31",
         "yaxis": "y31"
        },
        {
         "type": "scatter",
         "xaxis": "x31",
         "yaxis": "y31"
        },
        {
         "colorbar": {
          "title": {
           "text": "Objective Value"
          }
         },
         "colorscale": [
          [
           0,
           "rgb(247,251,255)"
          ],
          [
           0.125,
           "rgb(222,235,247)"
          ],
          [
           0.25,
           "rgb(198,219,239)"
          ],
          [
           0.375,
           "rgb(158,202,225)"
          ],
          [
           0.5,
           "rgb(107,174,214)"
          ],
          [
           0.625,
           "rgb(66,146,198)"
          ],
          [
           0.75,
           "rgb(33,113,181)"
          ],
          [
           0.875,
           "rgb(8,81,156)"
          ],
          [
           1,
           "rgb(8,48,107)"
          ]
         ],
         "connectgaps": true,
         "contours": {
          "coloring": "heatmap"
         },
         "hoverinfo": "none",
         "line": {
          "smoothing": 1.3
         },
         "reversescale": true,
         "showscale": false,
         "type": "contour",
         "x": [
          0.05981663192210099,
          0.07917457188067084,
          0.164650547536409,
          0.4663333710520679,
          0.4856913110106378
         ],
         "xaxis": "x38",
         "y": [
          0.00003713058652198904,
          0.000048896134579967844,
          0.004847450946538762,
          0.0063019955899054824,
          0.01202621313117321,
          0.01583695251894237
         ],
         "yaxis": "y38",
         "z": [
          [
           null,
           null,
           null,
           null,
           null
          ],
          [
           null,
           null,
           null,
           null,
           null
          ],
          [
           null,
           -0.12919254658385093,
           null,
           null,
           null
          ],
          [
           null,
           null,
           null,
           -0.12795031055900621,
           null
          ],
          [
           null,
           null,
           -0.17391304347826086,
           null,
           null
          ],
          [
           null,
           null,
           null,
           null,
           null
          ]
         ]
        },
        {
         "marker": {
          "color": "black",
          "line": {
           "color": "Grey",
           "width": 2
          }
         },
         "mode": "markers",
         "showlegend": false,
         "type": "scatter",
         "x": [
          0.07917457188067084,
          0.164650547536409,
          0.4663333710520679
         ],
         "xaxis": "x38",
         "y": [
          0.004847450946538762,
          0.01202621313117321,
          0.0063019955899054824
         ],
         "yaxis": "y38"
        },
        {
         "colorbar": {
          "title": {
           "text": "Objective Value"
          }
         },
         "colorscale": [
          [
           0,
           "rgb(247,251,255)"
          ],
          [
           0.125,
           "rgb(222,235,247)"
          ],
          [
           0.25,
           "rgb(198,219,239)"
          ],
          [
           0.375,
           "rgb(158,202,225)"
          ],
          [
           0.5,
           "rgb(107,174,214)"
          ],
          [
           0.625,
           "rgb(66,146,198)"
          ],
          [
           0.75,
           "rgb(33,113,181)"
          ],
          [
           0.875,
           "rgb(8,81,156)"
          ],
          [
           1,
           "rgb(8,48,107)"
          ]
         ],
         "connectgaps": true,
         "contours": {
          "coloring": "heatmap"
         },
         "hoverinfo": "none",
         "line": {
          "smoothing": 1.3
         },
         "reversescale": true,
         "showscale": false,
         "type": "contour",
         "x": [
          0.05981663192210099,
          0.07917457188067084,
          0.164650547536409,
          0.4663333710520679,
          0.4856913110106378
         ],
         "xaxis": "x45",
         "y": [
          0.8,
          1,
          3,
          4,
          5,
          5.2
         ],
         "yaxis": "y45",
         "z": [
          [
           null,
           null,
           null,
           null,
           null
          ],
          [
           null,
           null,
           null,
           null,
           null
          ],
          [
           null,
           -0.12919254658385093,
           null,
           null,
           null
          ],
          [
           null,
           null,
           null,
           -0.12795031055900621,
           null
          ],
          [
           null,
           null,
           -0.17391304347826086,
           null,
           null
          ],
          [
           null,
           null,
           null,
           null,
           null
          ]
         ]
        },
        {
         "marker": {
          "color": "black",
          "line": {
           "color": "Grey",
           "width": 2
          }
         },
         "mode": "markers",
         "showlegend": false,
         "type": "scatter",
         "x": [
          0.07917457188067084,
          0.164650547536409,
          0.4663333710520679
         ],
         "xaxis": "x45",
         "y": [
          3,
          5,
          4
         ],
         "yaxis": "y45"
        },
        {
         "colorbar": {
          "title": {
           "text": "Objective Value"
          }
         },
         "colorscale": [
          [
           0,
           "rgb(247,251,255)"
          ],
          [
           0.125,
           "rgb(222,235,247)"
          ],
          [
           0.25,
           "rgb(198,219,239)"
          ],
          [
           0.375,
           "rgb(158,202,225)"
          ],
          [
           0.5,
           "rgb(107,174,214)"
          ],
          [
           0.625,
           "rgb(66,146,198)"
          ],
          [
           0.75,
           "rgb(33,113,181)"
          ],
          [
           0.875,
           "rgb(8,81,156)"
          ],
          [
           1,
           "rgb(8,48,107)"
          ]
         ],
         "connectgaps": true,
         "contours": {
          "coloring": "heatmap"
         },
         "hoverinfo": "none",
         "line": {
          "smoothing": 1.3
         },
         "reversescale": true,
         "showscale": false,
         "type": "contour",
         "x": [
          0.12964469757449704,
          0.13261022750284718,
          0.19192082606985023,
          0.19488635599820037
         ],
         "xaxis": "x4",
         "y": [
          0.0769029143460447,
          0.0935911829247435,
          0.29814465457771433,
          0.33949987373207413,
          0.4273565544987195,
          0.4440448230774183
         ],
         "yaxis": "y4",
         "z": [
          [
           null,
           null,
           null,
           null
          ],
          [
           null,
           -0.12795031055900621,
           null,
           null
          ],
          [
           null,
           null,
           -0.17391304347826086,
           null
          ],
          [
           null,
           null,
           null,
           null
          ],
          [
           null,
           null,
           null,
           null
          ],
          [
           null,
           null,
           null,
           null
          ]
         ]
        },
        {
         "marker": {
          "color": "black",
          "line": {
           "color": "Grey",
           "width": 2
          }
         },
         "mode": "markers",
         "showlegend": false,
         "type": "scatter",
         "x": [
          0.19192082606985023,
          0.13261022750284718
         ],
         "xaxis": "x4",
         "y": [
          0.29814465457771433,
          0.0935911829247435
         ],
         "yaxis": "y4"
        },
        {
         "colorbar": {
          "title": {
           "text": "Objective Value"
          }
         },
         "colorscale": [
          [
           0,
           "rgb(247,251,255)"
          ],
          [
           0.125,
           "rgb(222,235,247)"
          ],
          [
           0.25,
           "rgb(198,219,239)"
          ],
          [
           0.375,
           "rgb(158,202,225)"
          ],
          [
           0.5,
           "rgb(107,174,214)"
          ],
          [
           0.625,
           "rgb(66,146,198)"
          ],
          [
           0.75,
           "rgb(33,113,181)"
          ],
          [
           0.875,
           "rgb(8,81,156)"
          ],
          [
           1,
           "rgb(8,48,107)"
          ]
         ],
         "connectgaps": true,
         "contours": {
          "coloring": "heatmap"
         },
         "hoverinfo": "none",
         "line": {
          "smoothing": 1.3
         },
         "reversescale": true,
         "showscale": false,
         "type": "contour",
         "x": [
          0.12964469757449704,
          0.13261022750284718,
          0.19192082606985023,
          0.19488635599820037
         ],
         "xaxis": "x11",
         "y": [
          0.29250413811598736,
          0.3009901578535206,
          0.36342031287651133,
          0.47071055260418565,
          0.4791965723417189
         ],
         "yaxis": "y11",
         "z": [
          [
           null,
           null,
           null,
           null
          ],
          [
           null,
           null,
           -0.17391304347826086,
           null
          ],
          [
           null,
           -0.12795031055900621,
           null,
           null
          ],
          [
           null,
           null,
           null,
           null
          ],
          [
           null,
           null,
           null,
           null
          ]
         ]
        },
        {
         "marker": {
          "color": "black",
          "line": {
           "color": "Grey",
           "width": 2
          }
         },
         "mode": "markers",
         "showlegend": false,
         "type": "scatter",
         "x": [
          0.19192082606985023,
          0.13261022750284718
         ],
         "xaxis": "x11",
         "y": [
          0.3009901578535206,
          0.36342031287651133
         ],
         "yaxis": "y11"
        },
        {
         "colorbar": {
          "title": {
           "text": "Objective Value"
          }
         },
         "colorscale": [
          [
           0,
           "rgb(247,251,255)"
          ],
          [
           0.125,
           "rgb(222,235,247)"
          ],
          [
           0.25,
           "rgb(198,219,239)"
          ],
          [
           0.375,
           "rgb(158,202,225)"
          ],
          [
           0.5,
           "rgb(107,174,214)"
          ],
          [
           0.625,
           "rgb(66,146,198)"
          ],
          [
           0.75,
           "rgb(33,113,181)"
          ],
          [
           0.875,
           "rgb(8,81,156)"
          ],
          [
           1,
           "rgb(8,48,107)"
          ]
         ],
         "connectgaps": true,
         "contours": {
          "coloring": "heatmap"
         },
         "hoverinfo": "none",
         "line": {
          "smoothing": 1.3
         },
         "reversescale": true,
         "showscale": false,
         "type": "contour",
         "x": [
          0.12964469757449704,
          0.13261022750284718,
          0.19192082606985023,
          0.19488635599820037
         ],
         "xaxis": "x18",
         "y": [
          0.05981663192210099,
          0.07917457188067084,
          0.164650547536409,
          0.4663333710520679,
          0.4856913110106378
         ],
         "yaxis": "y18",
         "z": [
          [
           null,
           null,
           null,
           null
          ],
          [
           null,
           null,
           null,
           null
          ],
          [
           null,
           null,
           -0.17391304347826086,
           null
          ],
          [
           null,
           -0.12795031055900621,
           null,
           null
          ],
          [
           null,
           null,
           null,
           null
          ]
         ]
        },
        {
         "marker": {
          "color": "black",
          "line": {
           "color": "Grey",
           "width": 2
          }
         },
         "mode": "markers",
         "showlegend": false,
         "type": "scatter",
         "x": [
          0.19192082606985023,
          0.13261022750284718
         ],
         "xaxis": "x18",
         "y": [
          0.164650547536409,
          0.4663333710520679
         ],
         "yaxis": "y18"
        },
        {
         "type": "scatter",
         "xaxis": "x25",
         "yaxis": "y25"
        },
        {
         "showscale": false,
         "type": "contour",
         "xaxis": "x32",
         "yaxis": "y32"
        },
        {
         "type": "scatter",
         "xaxis": "x32",
         "yaxis": "y32"
        },
        {
         "colorbar": {
          "title": {
           "text": "Objective Value"
          }
         },
         "colorscale": [
          [
           0,
           "rgb(247,251,255)"
          ],
          [
           0.125,
           "rgb(222,235,247)"
          ],
          [
           0.25,
           "rgb(198,219,239)"
          ],
          [
           0.375,
           "rgb(158,202,225)"
          ],
          [
           0.5,
           "rgb(107,174,214)"
          ],
          [
           0.625,
           "rgb(66,146,198)"
          ],
          [
           0.75,
           "rgb(33,113,181)"
          ],
          [
           0.875,
           "rgb(8,81,156)"
          ],
          [
           1,
           "rgb(8,48,107)"
          ]
         ],
         "connectgaps": true,
         "contours": {
          "coloring": "heatmap"
         },
         "hoverinfo": "none",
         "line": {
          "smoothing": 1.3
         },
         "reversescale": true,
         "showscale": false,
         "type": "contour",
         "x": [
          0.12964469757449704,
          0.13261022750284718,
          0.19192082606985023,
          0.19488635599820037
         ],
         "xaxis": "x39",
         "y": [
          0.00003713058652198904,
          0.000048896134579967844,
          0.004847450946538762,
          0.0063019955899054824,
          0.01202621313117321,
          0.01583695251894237
         ],
         "yaxis": "y39",
         "z": [
          [
           null,
           null,
           null,
           null
          ],
          [
           null,
           null,
           null,
           null
          ],
          [
           null,
           null,
           null,
           null
          ],
          [
           null,
           -0.12795031055900621,
           null,
           null
          ],
          [
           null,
           null,
           -0.17391304347826086,
           null
          ],
          [
           null,
           null,
           null,
           null
          ]
         ]
        },
        {
         "marker": {
          "color": "black",
          "line": {
           "color": "Grey",
           "width": 2
          }
         },
         "mode": "markers",
         "showlegend": false,
         "type": "scatter",
         "x": [
          0.19192082606985023,
          0.13261022750284718
         ],
         "xaxis": "x39",
         "y": [
          0.01202621313117321,
          0.0063019955899054824
         ],
         "yaxis": "y39"
        },
        {
         "colorbar": {
          "title": {
           "text": "Objective Value"
          }
         },
         "colorscale": [
          [
           0,
           "rgb(247,251,255)"
          ],
          [
           0.125,
           "rgb(222,235,247)"
          ],
          [
           0.25,
           "rgb(198,219,239)"
          ],
          [
           0.375,
           "rgb(158,202,225)"
          ],
          [
           0.5,
           "rgb(107,174,214)"
          ],
          [
           0.625,
           "rgb(66,146,198)"
          ],
          [
           0.75,
           "rgb(33,113,181)"
          ],
          [
           0.875,
           "rgb(8,81,156)"
          ],
          [
           1,
           "rgb(8,48,107)"
          ]
         ],
         "connectgaps": true,
         "contours": {
          "coloring": "heatmap"
         },
         "hoverinfo": "none",
         "line": {
          "smoothing": 1.3
         },
         "reversescale": true,
         "showscale": false,
         "type": "contour",
         "x": [
          0.12964469757449704,
          0.13261022750284718,
          0.19192082606985023,
          0.19488635599820037
         ],
         "xaxis": "x46",
         "y": [
          0.8,
          1,
          3,
          4,
          5,
          5.2
         ],
         "yaxis": "y46",
         "z": [
          [
           null,
           null,
           null,
           null
          ],
          [
           null,
           null,
           null,
           null
          ],
          [
           null,
           null,
           null,
           null
          ],
          [
           null,
           -0.12795031055900621,
           null,
           null
          ],
          [
           null,
           null,
           -0.17391304347826086,
           null
          ],
          [
           null,
           null,
           null,
           null
          ]
         ]
        },
        {
         "marker": {
          "color": "black",
          "line": {
           "color": "Grey",
           "width": 2
          }
         },
         "mode": "markers",
         "showlegend": false,
         "type": "scatter",
         "x": [
          0.19192082606985023,
          0.13261022750284718
         ],
         "xaxis": "x46",
         "y": [
          5,
          4
         ],
         "yaxis": "y46"
        },
        {
         "showscale": false,
         "type": "contour",
         "xaxis": "x5",
         "yaxis": "y5"
        },
        {
         "type": "scatter",
         "xaxis": "x5",
         "yaxis": "y5"
        },
        {
         "showscale": false,
         "type": "contour",
         "xaxis": "x12",
         "yaxis": "y12"
        },
        {
         "type": "scatter",
         "xaxis": "x12",
         "yaxis": "y12"
        },
        {
         "showscale": false,
         "type": "contour",
         "xaxis": "x19",
         "yaxis": "y19"
        },
        {
         "type": "scatter",
         "xaxis": "x19",
         "yaxis": "y19"
        },
        {
         "showscale": false,
         "type": "contour",
         "xaxis": "x26",
         "yaxis": "y26"
        },
        {
         "type": "scatter",
         "xaxis": "x26",
         "yaxis": "y26"
        },
        {
         "type": "scatter",
         "xaxis": "x33",
         "yaxis": "y33"
        },
        {
         "showscale": false,
         "type": "contour",
         "xaxis": "x40",
         "yaxis": "y40"
        },
        {
         "type": "scatter",
         "xaxis": "x40",
         "yaxis": "y40"
        },
        {
         "showscale": false,
         "type": "contour",
         "xaxis": "x47",
         "yaxis": "y47"
        },
        {
         "type": "scatter",
         "xaxis": "x47",
         "yaxis": "y47"
        },
        {
         "colorbar": {
          "title": {
           "text": "Objective Value"
          }
         },
         "colorscale": [
          [
           0,
           "rgb(247,251,255)"
          ],
          [
           0.125,
           "rgb(222,235,247)"
          ],
          [
           0.25,
           "rgb(198,219,239)"
          ],
          [
           0.375,
           "rgb(158,202,225)"
          ],
          [
           0.5,
           "rgb(107,174,214)"
          ],
          [
           0.625,
           "rgb(66,146,198)"
          ],
          [
           0.75,
           "rgb(33,113,181)"
          ],
          [
           0.875,
           "rgb(8,81,156)"
          ],
          [
           1,
           "rgb(8,48,107)"
          ]
         ],
         "connectgaps": true,
         "contours": {
          "coloring": "heatmap"
         },
         "hoverinfo": "none",
         "line": {
          "smoothing": 1.3
         },
         "reversescale": true,
         "showscale": false,
         "type": "contour",
         "x": [
          0.00003713058652198904,
          0.000048896134579967844,
          0.004847450946538762,
          0.0063019955899054824,
          0.01202621313117321,
          0.01583695251894237
         ],
         "xaxis": "x6",
         "y": [
          0.0769029143460447,
          0.0935911829247435,
          0.29814465457771433,
          0.33949987373207413,
          0.4273565544987195,
          0.4440448230774183
         ],
         "yaxis": "y6",
         "z": [
          [
           null,
           null,
           null,
           null,
           null,
           null
          ],
          [
           null,
           null,
           null,
           -0.12795031055900621,
           null,
           null
          ],
          [
           null,
           null,
           null,
           null,
           -0.17391304347826086,
           null
          ],
          [
           null,
           null,
           -0.12919254658385093,
           null,
           null,
           null
          ],
          [
           null,
           -0.14409937888198757,
           null,
           null,
           null,
           null
          ],
          [
           null,
           null,
           null,
           null,
           null,
           null
          ]
         ]
        },
        {
         "marker": {
          "color": "black",
          "line": {
           "color": "Grey",
           "width": 2
          }
         },
         "mode": "markers",
         "showlegend": false,
         "type": "scatter",
         "x": [
          0.004847450946538762,
          0.000048896134579967844,
          0.01202621313117321,
          0.0063019955899054824
         ],
         "xaxis": "x6",
         "y": [
          0.33949987373207413,
          0.4273565544987195,
          0.29814465457771433,
          0.0935911829247435
         ],
         "yaxis": "y6"
        },
        {
         "colorbar": {
          "title": {
           "text": "Objective Value"
          }
         },
         "colorscale": [
          [
           0,
           "rgb(247,251,255)"
          ],
          [
           0.125,
           "rgb(222,235,247)"
          ],
          [
           0.25,
           "rgb(198,219,239)"
          ],
          [
           0.375,
           "rgb(158,202,225)"
          ],
          [
           0.5,
           "rgb(107,174,214)"
          ],
          [
           0.625,
           "rgb(66,146,198)"
          ],
          [
           0.75,
           "rgb(33,113,181)"
          ],
          [
           0.875,
           "rgb(8,81,156)"
          ],
          [
           1,
           "rgb(8,48,107)"
          ]
         ],
         "connectgaps": true,
         "contours": {
          "coloring": "heatmap"
         },
         "hoverinfo": "none",
         "line": {
          "smoothing": 1.3
         },
         "reversescale": true,
         "showscale": false,
         "type": "contour",
         "x": [
          0.00003713058652198904,
          0.000048896134579967844,
          0.004847450946538762,
          0.0063019955899054824,
          0.01202621313117321,
          0.01583695251894237
         ],
         "xaxis": "x13",
         "y": [
          0.29250413811598736,
          0.3009901578535206,
          0.36342031287651133,
          0.47071055260418565,
          0.4791965723417189
         ],
         "yaxis": "y13",
         "z": [
          [
           null,
           null,
           null,
           null,
           null,
           null
          ],
          [
           null,
           null,
           null,
           null,
           -0.17391304347826086,
           null
          ],
          [
           null,
           null,
           null,
           -0.12795031055900621,
           null,
           null
          ],
          [
           null,
           null,
           -0.12919254658385093,
           null,
           null,
           null
          ],
          [
           null,
           null,
           null,
           null,
           null,
           null
          ]
         ]
        },
        {
         "marker": {
          "color": "black",
          "line": {
           "color": "Grey",
           "width": 2
          }
         },
         "mode": "markers",
         "showlegend": false,
         "type": "scatter",
         "x": [
          0.004847450946538762,
          0.01202621313117321,
          0.0063019955899054824
         ],
         "xaxis": "x13",
         "y": [
          0.47071055260418565,
          0.3009901578535206,
          0.36342031287651133
         ],
         "yaxis": "y13"
        },
        {
         "colorbar": {
          "title": {
           "text": "Objective Value"
          }
         },
         "colorscale": [
          [
           0,
           "rgb(247,251,255)"
          ],
          [
           0.125,
           "rgb(222,235,247)"
          ],
          [
           0.25,
           "rgb(198,219,239)"
          ],
          [
           0.375,
           "rgb(158,202,225)"
          ],
          [
           0.5,
           "rgb(107,174,214)"
          ],
          [
           0.625,
           "rgb(66,146,198)"
          ],
          [
           0.75,
           "rgb(33,113,181)"
          ],
          [
           0.875,
           "rgb(8,81,156)"
          ],
          [
           1,
           "rgb(8,48,107)"
          ]
         ],
         "connectgaps": true,
         "contours": {
          "coloring": "heatmap"
         },
         "hoverinfo": "none",
         "line": {
          "smoothing": 1.3
         },
         "reversescale": true,
         "showscale": false,
         "type": "contour",
         "x": [
          0.00003713058652198904,
          0.000048896134579967844,
          0.004847450946538762,
          0.0063019955899054824,
          0.01202621313117321,
          0.01583695251894237
         ],
         "xaxis": "x20",
         "y": [
          0.05981663192210099,
          0.07917457188067084,
          0.164650547536409,
          0.4663333710520679,
          0.4856913110106378
         ],
         "yaxis": "y20",
         "z": [
          [
           null,
           null,
           null,
           null,
           null,
           null
          ],
          [
           null,
           null,
           -0.12919254658385093,
           null,
           null,
           null
          ],
          [
           null,
           null,
           null,
           null,
           -0.17391304347826086,
           null
          ],
          [
           null,
           null,
           null,
           -0.12795031055900621,
           null,
           null
          ],
          [
           null,
           null,
           null,
           null,
           null,
           null
          ]
         ]
        },
        {
         "marker": {
          "color": "black",
          "line": {
           "color": "Grey",
           "width": 2
          }
         },
         "mode": "markers",
         "showlegend": false,
         "type": "scatter",
         "x": [
          0.004847450946538762,
          0.01202621313117321,
          0.0063019955899054824
         ],
         "xaxis": "x20",
         "y": [
          0.07917457188067084,
          0.164650547536409,
          0.4663333710520679
         ],
         "yaxis": "y20"
        },
        {
         "colorbar": {
          "title": {
           "text": "Objective Value"
          }
         },
         "colorscale": [
          [
           0,
           "rgb(247,251,255)"
          ],
          [
           0.125,
           "rgb(222,235,247)"
          ],
          [
           0.25,
           "rgb(198,219,239)"
          ],
          [
           0.375,
           "rgb(158,202,225)"
          ],
          [
           0.5,
           "rgb(107,174,214)"
          ],
          [
           0.625,
           "rgb(66,146,198)"
          ],
          [
           0.75,
           "rgb(33,113,181)"
          ],
          [
           0.875,
           "rgb(8,81,156)"
          ],
          [
           1,
           "rgb(8,48,107)"
          ]
         ],
         "connectgaps": true,
         "contours": {
          "coloring": "heatmap"
         },
         "hoverinfo": "none",
         "line": {
          "smoothing": 1.3
         },
         "reversescale": true,
         "showscale": false,
         "type": "contour",
         "x": [
          0.00003713058652198904,
          0.000048896134579967844,
          0.004847450946538762,
          0.0063019955899054824,
          0.01202621313117321,
          0.01583695251894237
         ],
         "xaxis": "x27",
         "y": [
          0.12964469757449704,
          0.13261022750284718,
          0.19192082606985023,
          0.19488635599820037
         ],
         "yaxis": "y27",
         "z": [
          [
           null,
           null,
           null,
           null,
           null,
           null
          ],
          [
           null,
           null,
           null,
           -0.12795031055900621,
           null,
           null
          ],
          [
           null,
           null,
           null,
           null,
           -0.17391304347826086,
           null
          ],
          [
           null,
           null,
           null,
           null,
           null,
           null
          ]
         ]
        },
        {
         "marker": {
          "color": "black",
          "line": {
           "color": "Grey",
           "width": 2
          }
         },
         "mode": "markers",
         "showlegend": false,
         "type": "scatter",
         "x": [
          0.01202621313117321,
          0.0063019955899054824
         ],
         "xaxis": "x27",
         "y": [
          0.19192082606985023,
          0.13261022750284718
         ],
         "yaxis": "y27"
        },
        {
         "showscale": false,
         "type": "contour",
         "xaxis": "x34",
         "yaxis": "y34"
        },
        {
         "type": "scatter",
         "xaxis": "x34",
         "yaxis": "y34"
        },
        {
         "type": "scatter",
         "xaxis": "x41",
         "yaxis": "y41"
        },
        {
         "colorbar": {
          "title": {
           "text": "Objective Value"
          }
         },
         "colorscale": [
          [
           0,
           "rgb(247,251,255)"
          ],
          [
           0.125,
           "rgb(222,235,247)"
          ],
          [
           0.25,
           "rgb(198,219,239)"
          ],
          [
           0.375,
           "rgb(158,202,225)"
          ],
          [
           0.5,
           "rgb(107,174,214)"
          ],
          [
           0.625,
           "rgb(66,146,198)"
          ],
          [
           0.75,
           "rgb(33,113,181)"
          ],
          [
           0.875,
           "rgb(8,81,156)"
          ],
          [
           1,
           "rgb(8,48,107)"
          ]
         ],
         "connectgaps": true,
         "contours": {
          "coloring": "heatmap"
         },
         "hoverinfo": "none",
         "line": {
          "smoothing": 1.3
         },
         "reversescale": true,
         "showscale": false,
         "type": "contour",
         "x": [
          0.00003713058652198904,
          0.000048896134579967844,
          0.004847450946538762,
          0.0063019955899054824,
          0.01202621313117321,
          0.01583695251894237
         ],
         "xaxis": "x48",
         "y": [
          0.8,
          1,
          3,
          4,
          5,
          5.2
         ],
         "yaxis": "y48",
         "z": [
          [
           null,
           null,
           null,
           null,
           null,
           null
          ],
          [
           null,
           -0.14409937888198757,
           null,
           null,
           null,
           null
          ],
          [
           null,
           null,
           -0.12919254658385093,
           null,
           null,
           null
          ],
          [
           null,
           null,
           null,
           -0.12795031055900621,
           null,
           null
          ],
          [
           null,
           null,
           null,
           null,
           -0.17391304347826086,
           null
          ],
          [
           null,
           null,
           null,
           null,
           null,
           null
          ]
         ]
        },
        {
         "marker": {
          "color": "black",
          "line": {
           "color": "Grey",
           "width": 2
          }
         },
         "mode": "markers",
         "showlegend": false,
         "type": "scatter",
         "x": [
          0.004847450946538762,
          0.000048896134579967844,
          0.01202621313117321,
          0.0063019955899054824
         ],
         "xaxis": "x48",
         "y": [
          3,
          1,
          5,
          4
         ],
         "yaxis": "y48"
        },
        {
         "colorbar": {
          "title": {
           "text": "Objective Value"
          }
         },
         "colorscale": [
          [
           0,
           "rgb(247,251,255)"
          ],
          [
           0.125,
           "rgb(222,235,247)"
          ],
          [
           0.25,
           "rgb(198,219,239)"
          ],
          [
           0.375,
           "rgb(158,202,225)"
          ],
          [
           0.5,
           "rgb(107,174,214)"
          ],
          [
           0.625,
           "rgb(66,146,198)"
          ],
          [
           0.75,
           "rgb(33,113,181)"
          ],
          [
           0.875,
           "rgb(8,81,156)"
          ],
          [
           1,
           "rgb(8,48,107)"
          ]
         ],
         "connectgaps": true,
         "contours": {
          "coloring": "heatmap"
         },
         "hoverinfo": "none",
         "line": {
          "smoothing": 1.3
         },
         "reversescale": true,
         "showscale": false,
         "type": "contour",
         "x": [
          0.8,
          1,
          3,
          4,
          5,
          5.2
         ],
         "xaxis": "x7",
         "y": [
          0.0769029143460447,
          0.0935911829247435,
          0.29814465457771433,
          0.33949987373207413,
          0.4273565544987195,
          0.4440448230774183
         ],
         "yaxis": "y7",
         "z": [
          [
           null,
           null,
           null,
           null,
           null,
           null
          ],
          [
           null,
           null,
           null,
           -0.12795031055900621,
           null,
           null
          ],
          [
           null,
           null,
           null,
           null,
           -0.17391304347826086,
           null
          ],
          [
           null,
           null,
           -0.12919254658385093,
           null,
           null,
           null
          ],
          [
           null,
           -0.14409937888198757,
           null,
           null,
           null,
           null
          ],
          [
           null,
           null,
           null,
           null,
           null,
           null
          ]
         ]
        },
        {
         "marker": {
          "color": "black",
          "line": {
           "color": "Grey",
           "width": 2
          }
         },
         "mode": "markers",
         "showlegend": false,
         "type": "scatter",
         "x": [
          3,
          1,
          5,
          4
         ],
         "xaxis": "x7",
         "y": [
          0.33949987373207413,
          0.4273565544987195,
          0.29814465457771433,
          0.0935911829247435
         ],
         "yaxis": "y7"
        },
        {
         "colorbar": {
          "title": {
           "text": "Objective Value"
          }
         },
         "colorscale": [
          [
           0,
           "rgb(247,251,255)"
          ],
          [
           0.125,
           "rgb(222,235,247)"
          ],
          [
           0.25,
           "rgb(198,219,239)"
          ],
          [
           0.375,
           "rgb(158,202,225)"
          ],
          [
           0.5,
           "rgb(107,174,214)"
          ],
          [
           0.625,
           "rgb(66,146,198)"
          ],
          [
           0.75,
           "rgb(33,113,181)"
          ],
          [
           0.875,
           "rgb(8,81,156)"
          ],
          [
           1,
           "rgb(8,48,107)"
          ]
         ],
         "connectgaps": true,
         "contours": {
          "coloring": "heatmap"
         },
         "hoverinfo": "none",
         "line": {
          "smoothing": 1.3
         },
         "reversescale": true,
         "showscale": false,
         "type": "contour",
         "x": [
          0.8,
          1,
          3,
          4,
          5,
          5.2
         ],
         "xaxis": "x14",
         "y": [
          0.29250413811598736,
          0.3009901578535206,
          0.36342031287651133,
          0.47071055260418565,
          0.4791965723417189
         ],
         "yaxis": "y14",
         "z": [
          [
           null,
           null,
           null,
           null,
           null,
           null
          ],
          [
           null,
           null,
           null,
           null,
           -0.17391304347826086,
           null
          ],
          [
           null,
           null,
           null,
           -0.12795031055900621,
           null,
           null
          ],
          [
           null,
           null,
           -0.12919254658385093,
           null,
           null,
           null
          ],
          [
           null,
           null,
           null,
           null,
           null,
           null
          ]
         ]
        },
        {
         "marker": {
          "color": "black",
          "line": {
           "color": "Grey",
           "width": 2
          }
         },
         "mode": "markers",
         "showlegend": false,
         "type": "scatter",
         "x": [
          3,
          5,
          4
         ],
         "xaxis": "x14",
         "y": [
          0.47071055260418565,
          0.3009901578535206,
          0.36342031287651133
         ],
         "yaxis": "y14"
        },
        {
         "colorbar": {
          "title": {
           "text": "Objective Value"
          }
         },
         "colorscale": [
          [
           0,
           "rgb(247,251,255)"
          ],
          [
           0.125,
           "rgb(222,235,247)"
          ],
          [
           0.25,
           "rgb(198,219,239)"
          ],
          [
           0.375,
           "rgb(158,202,225)"
          ],
          [
           0.5,
           "rgb(107,174,214)"
          ],
          [
           0.625,
           "rgb(66,146,198)"
          ],
          [
           0.75,
           "rgb(33,113,181)"
          ],
          [
           0.875,
           "rgb(8,81,156)"
          ],
          [
           1,
           "rgb(8,48,107)"
          ]
         ],
         "connectgaps": true,
         "contours": {
          "coloring": "heatmap"
         },
         "hoverinfo": "none",
         "line": {
          "smoothing": 1.3
         },
         "reversescale": true,
         "showscale": false,
         "type": "contour",
         "x": [
          0.8,
          1,
          3,
          4,
          5,
          5.2
         ],
         "xaxis": "x21",
         "y": [
          0.05981663192210099,
          0.07917457188067084,
          0.164650547536409,
          0.4663333710520679,
          0.4856913110106378
         ],
         "yaxis": "y21",
         "z": [
          [
           null,
           null,
           null,
           null,
           null,
           null
          ],
          [
           null,
           null,
           -0.12919254658385093,
           null,
           null,
           null
          ],
          [
           null,
           null,
           null,
           null,
           -0.17391304347826086,
           null
          ],
          [
           null,
           null,
           null,
           -0.12795031055900621,
           null,
           null
          ],
          [
           null,
           null,
           null,
           null,
           null,
           null
          ]
         ]
        },
        {
         "marker": {
          "color": "black",
          "line": {
           "color": "Grey",
           "width": 2
          }
         },
         "mode": "markers",
         "showlegend": false,
         "type": "scatter",
         "x": [
          3,
          5,
          4
         ],
         "xaxis": "x21",
         "y": [
          0.07917457188067084,
          0.164650547536409,
          0.4663333710520679
         ],
         "yaxis": "y21"
        },
        {
         "colorbar": {
          "title": {
           "text": "Objective Value"
          }
         },
         "colorscale": [
          [
           0,
           "rgb(247,251,255)"
          ],
          [
           0.125,
           "rgb(222,235,247)"
          ],
          [
           0.25,
           "rgb(198,219,239)"
          ],
          [
           0.375,
           "rgb(158,202,225)"
          ],
          [
           0.5,
           "rgb(107,174,214)"
          ],
          [
           0.625,
           "rgb(66,146,198)"
          ],
          [
           0.75,
           "rgb(33,113,181)"
          ],
          [
           0.875,
           "rgb(8,81,156)"
          ],
          [
           1,
           "rgb(8,48,107)"
          ]
         ],
         "connectgaps": true,
         "contours": {
          "coloring": "heatmap"
         },
         "hoverinfo": "none",
         "line": {
          "smoothing": 1.3
         },
         "reversescale": true,
         "showscale": false,
         "type": "contour",
         "x": [
          0.8,
          1,
          3,
          4,
          5,
          5.2
         ],
         "xaxis": "x28",
         "y": [
          0.12964469757449704,
          0.13261022750284718,
          0.19192082606985023,
          0.19488635599820037
         ],
         "yaxis": "y28",
         "z": [
          [
           null,
           null,
           null,
           null,
           null,
           null
          ],
          [
           null,
           null,
           null,
           -0.12795031055900621,
           null,
           null
          ],
          [
           null,
           null,
           null,
           null,
           -0.17391304347826086,
           null
          ],
          [
           null,
           null,
           null,
           null,
           null,
           null
          ]
         ]
        },
        {
         "marker": {
          "color": "black",
          "line": {
           "color": "Grey",
           "width": 2
          }
         },
         "mode": "markers",
         "showlegend": false,
         "type": "scatter",
         "x": [
          5,
          4
         ],
         "xaxis": "x28",
         "y": [
          0.19192082606985023,
          0.13261022750284718
         ],
         "yaxis": "y28"
        },
        {
         "showscale": false,
         "type": "contour",
         "xaxis": "x35",
         "yaxis": "y35"
        },
        {
         "type": "scatter",
         "xaxis": "x35",
         "yaxis": "y35"
        },
        {
         "colorbar": {
          "title": {
           "text": "Objective Value"
          }
         },
         "colorscale": [
          [
           0,
           "rgb(247,251,255)"
          ],
          [
           0.125,
           "rgb(222,235,247)"
          ],
          [
           0.25,
           "rgb(198,219,239)"
          ],
          [
           0.375,
           "rgb(158,202,225)"
          ],
          [
           0.5,
           "rgb(107,174,214)"
          ],
          [
           0.625,
           "rgb(66,146,198)"
          ],
          [
           0.75,
           "rgb(33,113,181)"
          ],
          [
           0.875,
           "rgb(8,81,156)"
          ],
          [
           1,
           "rgb(8,48,107)"
          ]
         ],
         "connectgaps": true,
         "contours": {
          "coloring": "heatmap"
         },
         "hoverinfo": "none",
         "line": {
          "smoothing": 1.3
         },
         "reversescale": true,
         "showscale": false,
         "type": "contour",
         "x": [
          0.8,
          1,
          3,
          4,
          5,
          5.2
         ],
         "xaxis": "x42",
         "y": [
          0.00003713058652198904,
          0.000048896134579967844,
          0.004847450946538762,
          0.0063019955899054824,
          0.01202621313117321,
          0.01583695251894237
         ],
         "yaxis": "y42",
         "z": [
          [
           null,
           null,
           null,
           null,
           null,
           null
          ],
          [
           null,
           -0.14409937888198757,
           null,
           null,
           null,
           null
          ],
          [
           null,
           null,
           -0.12919254658385093,
           null,
           null,
           null
          ],
          [
           null,
           null,
           null,
           -0.12795031055900621,
           null,
           null
          ],
          [
           null,
           null,
           null,
           null,
           -0.17391304347826086,
           null
          ],
          [
           null,
           null,
           null,
           null,
           null,
           null
          ]
         ]
        },
        {
         "marker": {
          "color": "black",
          "line": {
           "color": "Grey",
           "width": 2
          }
         },
         "mode": "markers",
         "showlegend": false,
         "type": "scatter",
         "x": [
          3,
          1,
          5,
          4
         ],
         "xaxis": "x42",
         "y": [
          0.004847450946538762,
          0.000048896134579967844,
          0.01202621313117321,
          0.0063019955899054824
         ],
         "yaxis": "y42"
        },
        {
         "type": "scatter",
         "xaxis": "x49",
         "yaxis": "y49"
        }
       ],
       "layout": {
        "template": {
         "data": {
          "bar": [
           {
            "error_x": {
             "color": "#2a3f5f"
            },
            "error_y": {
             "color": "#2a3f5f"
            },
            "marker": {
             "line": {
              "color": "#E5ECF6",
              "width": 0.5
             },
             "pattern": {
              "fillmode": "overlay",
              "size": 10,
              "solidity": 0.2
             }
            },
            "type": "bar"
           }
          ],
          "barpolar": [
           {
            "marker": {
             "line": {
              "color": "#E5ECF6",
              "width": 0.5
             },
             "pattern": {
              "fillmode": "overlay",
              "size": 10,
              "solidity": 0.2
             }
            },
            "type": "barpolar"
           }
          ],
          "carpet": [
           {
            "aaxis": {
             "endlinecolor": "#2a3f5f",
             "gridcolor": "white",
             "linecolor": "white",
             "minorgridcolor": "white",
             "startlinecolor": "#2a3f5f"
            },
            "baxis": {
             "endlinecolor": "#2a3f5f",
             "gridcolor": "white",
             "linecolor": "white",
             "minorgridcolor": "white",
             "startlinecolor": "#2a3f5f"
            },
            "type": "carpet"
           }
          ],
          "choropleth": [
           {
            "colorbar": {
             "outlinewidth": 0,
             "ticks": ""
            },
            "type": "choropleth"
           }
          ],
          "contour": [
           {
            "colorbar": {
             "outlinewidth": 0,
             "ticks": ""
            },
            "colorscale": [
             [
              0,
              "#0d0887"
             ],
             [
              0.1111111111111111,
              "#46039f"
             ],
             [
              0.2222222222222222,
              "#7201a8"
             ],
             [
              0.3333333333333333,
              "#9c179e"
             ],
             [
              0.4444444444444444,
              "#bd3786"
             ],
             [
              0.5555555555555556,
              "#d8576b"
             ],
             [
              0.6666666666666666,
              "#ed7953"
             ],
             [
              0.7777777777777778,
              "#fb9f3a"
             ],
             [
              0.8888888888888888,
              "#fdca26"
             ],
             [
              1,
              "#f0f921"
             ]
            ],
            "type": "contour"
           }
          ],
          "contourcarpet": [
           {
            "colorbar": {
             "outlinewidth": 0,
             "ticks": ""
            },
            "type": "contourcarpet"
           }
          ],
          "heatmap": [
           {
            "colorbar": {
             "outlinewidth": 0,
             "ticks": ""
            },
            "colorscale": [
             [
              0,
              "#0d0887"
             ],
             [
              0.1111111111111111,
              "#46039f"
             ],
             [
              0.2222222222222222,
              "#7201a8"
             ],
             [
              0.3333333333333333,
              "#9c179e"
             ],
             [
              0.4444444444444444,
              "#bd3786"
             ],
             [
              0.5555555555555556,
              "#d8576b"
             ],
             [
              0.6666666666666666,
              "#ed7953"
             ],
             [
              0.7777777777777778,
              "#fb9f3a"
             ],
             [
              0.8888888888888888,
              "#fdca26"
             ],
             [
              1,
              "#f0f921"
             ]
            ],
            "type": "heatmap"
           }
          ],
          "heatmapgl": [
           {
            "colorbar": {
             "outlinewidth": 0,
             "ticks": ""
            },
            "colorscale": [
             [
              0,
              "#0d0887"
             ],
             [
              0.1111111111111111,
              "#46039f"
             ],
             [
              0.2222222222222222,
              "#7201a8"
             ],
             [
              0.3333333333333333,
              "#9c179e"
             ],
             [
              0.4444444444444444,
              "#bd3786"
             ],
             [
              0.5555555555555556,
              "#d8576b"
             ],
             [
              0.6666666666666666,
              "#ed7953"
             ],
             [
              0.7777777777777778,
              "#fb9f3a"
             ],
             [
              0.8888888888888888,
              "#fdca26"
             ],
             [
              1,
              "#f0f921"
             ]
            ],
            "type": "heatmapgl"
           }
          ],
          "histogram": [
           {
            "marker": {
             "pattern": {
              "fillmode": "overlay",
              "size": 10,
              "solidity": 0.2
             }
            },
            "type": "histogram"
           }
          ],
          "histogram2d": [
           {
            "colorbar": {
             "outlinewidth": 0,
             "ticks": ""
            },
            "colorscale": [
             [
              0,
              "#0d0887"
             ],
             [
              0.1111111111111111,
              "#46039f"
             ],
             [
              0.2222222222222222,
              "#7201a8"
             ],
             [
              0.3333333333333333,
              "#9c179e"
             ],
             [
              0.4444444444444444,
              "#bd3786"
             ],
             [
              0.5555555555555556,
              "#d8576b"
             ],
             [
              0.6666666666666666,
              "#ed7953"
             ],
             [
              0.7777777777777778,
              "#fb9f3a"
             ],
             [
              0.8888888888888888,
              "#fdca26"
             ],
             [
              1,
              "#f0f921"
             ]
            ],
            "type": "histogram2d"
           }
          ],
          "histogram2dcontour": [
           {
            "colorbar": {
             "outlinewidth": 0,
             "ticks": ""
            },
            "colorscale": [
             [
              0,
              "#0d0887"
             ],
             [
              0.1111111111111111,
              "#46039f"
             ],
             [
              0.2222222222222222,
              "#7201a8"
             ],
             [
              0.3333333333333333,
              "#9c179e"
             ],
             [
              0.4444444444444444,
              "#bd3786"
             ],
             [
              0.5555555555555556,
              "#d8576b"
             ],
             [
              0.6666666666666666,
              "#ed7953"
             ],
             [
              0.7777777777777778,
              "#fb9f3a"
             ],
             [
              0.8888888888888888,
              "#fdca26"
             ],
             [
              1,
              "#f0f921"
             ]
            ],
            "type": "histogram2dcontour"
           }
          ],
          "mesh3d": [
           {
            "colorbar": {
             "outlinewidth": 0,
             "ticks": ""
            },
            "type": "mesh3d"
           }
          ],
          "parcoords": [
           {
            "line": {
             "colorbar": {
              "outlinewidth": 0,
              "ticks": ""
             }
            },
            "type": "parcoords"
           }
          ],
          "pie": [
           {
            "automargin": true,
            "type": "pie"
           }
          ],
          "scatter": [
           {
            "fillpattern": {
             "fillmode": "overlay",
             "size": 10,
             "solidity": 0.2
            },
            "type": "scatter"
           }
          ],
          "scatter3d": [
           {
            "line": {
             "colorbar": {
              "outlinewidth": 0,
              "ticks": ""
             }
            },
            "marker": {
             "colorbar": {
              "outlinewidth": 0,
              "ticks": ""
             }
            },
            "type": "scatter3d"
           }
          ],
          "scattercarpet": [
           {
            "marker": {
             "colorbar": {
              "outlinewidth": 0,
              "ticks": ""
             }
            },
            "type": "scattercarpet"
           }
          ],
          "scattergeo": [
           {
            "marker": {
             "colorbar": {
              "outlinewidth": 0,
              "ticks": ""
             }
            },
            "type": "scattergeo"
           }
          ],
          "scattergl": [
           {
            "marker": {
             "colorbar": {
              "outlinewidth": 0,
              "ticks": ""
             }
            },
            "type": "scattergl"
           }
          ],
          "scattermapbox": [
           {
            "marker": {
             "colorbar": {
              "outlinewidth": 0,
              "ticks": ""
             }
            },
            "type": "scattermapbox"
           }
          ],
          "scatterpolar": [
           {
            "marker": {
             "colorbar": {
              "outlinewidth": 0,
              "ticks": ""
             }
            },
            "type": "scatterpolar"
           }
          ],
          "scatterpolargl": [
           {
            "marker": {
             "colorbar": {
              "outlinewidth": 0,
              "ticks": ""
             }
            },
            "type": "scatterpolargl"
           }
          ],
          "scatterternary": [
           {
            "marker": {
             "colorbar": {
              "outlinewidth": 0,
              "ticks": ""
             }
            },
            "type": "scatterternary"
           }
          ],
          "surface": [
           {
            "colorbar": {
             "outlinewidth": 0,
             "ticks": ""
            },
            "colorscale": [
             [
              0,
              "#0d0887"
             ],
             [
              0.1111111111111111,
              "#46039f"
             ],
             [
              0.2222222222222222,
              "#7201a8"
             ],
             [
              0.3333333333333333,
              "#9c179e"
             ],
             [
              0.4444444444444444,
              "#bd3786"
             ],
             [
              0.5555555555555556,
              "#d8576b"
             ],
             [
              0.6666666666666666,
              "#ed7953"
             ],
             [
              0.7777777777777778,
              "#fb9f3a"
             ],
             [
              0.8888888888888888,
              "#fdca26"
             ],
             [
              1,
              "#f0f921"
             ]
            ],
            "type": "surface"
           }
          ],
          "table": [
           {
            "cells": {
             "fill": {
              "color": "#EBF0F8"
             },
             "line": {
              "color": "white"
             }
            },
            "header": {
             "fill": {
              "color": "#C8D4E3"
             },
             "line": {
              "color": "white"
             }
            },
            "type": "table"
           }
          ]
         },
         "layout": {
          "annotationdefaults": {
           "arrowcolor": "#2a3f5f",
           "arrowhead": 0,
           "arrowwidth": 1
          },
          "autotypenumbers": "strict",
          "coloraxis": {
           "colorbar": {
            "outlinewidth": 0,
            "ticks": ""
           }
          },
          "colorscale": {
           "diverging": [
            [
             0,
             "#8e0152"
            ],
            [
             0.1,
             "#c51b7d"
            ],
            [
             0.2,
             "#de77ae"
            ],
            [
             0.3,
             "#f1b6da"
            ],
            [
             0.4,
             "#fde0ef"
            ],
            [
             0.5,
             "#f7f7f7"
            ],
            [
             0.6,
             "#e6f5d0"
            ],
            [
             0.7,
             "#b8e186"
            ],
            [
             0.8,
             "#7fbc41"
            ],
            [
             0.9,
             "#4d9221"
            ],
            [
             1,
             "#276419"
            ]
           ],
           "sequential": [
            [
             0,
             "#0d0887"
            ],
            [
             0.1111111111111111,
             "#46039f"
            ],
            [
             0.2222222222222222,
             "#7201a8"
            ],
            [
             0.3333333333333333,
             "#9c179e"
            ],
            [
             0.4444444444444444,
             "#bd3786"
            ],
            [
             0.5555555555555556,
             "#d8576b"
            ],
            [
             0.6666666666666666,
             "#ed7953"
            ],
            [
             0.7777777777777778,
             "#fb9f3a"
            ],
            [
             0.8888888888888888,
             "#fdca26"
            ],
            [
             1,
             "#f0f921"
            ]
           ],
           "sequentialminus": [
            [
             0,
             "#0d0887"
            ],
            [
             0.1111111111111111,
             "#46039f"
            ],
            [
             0.2222222222222222,
             "#7201a8"
            ],
            [
             0.3333333333333333,
             "#9c179e"
            ],
            [
             0.4444444444444444,
             "#bd3786"
            ],
            [
             0.5555555555555556,
             "#d8576b"
            ],
            [
             0.6666666666666666,
             "#ed7953"
            ],
            [
             0.7777777777777778,
             "#fb9f3a"
            ],
            [
             0.8888888888888888,
             "#fdca26"
            ],
            [
             1,
             "#f0f921"
            ]
           ]
          },
          "colorway": [
           "#636efa",
           "#EF553B",
           "#00cc96",
           "#ab63fa",
           "#FFA15A",
           "#19d3f3",
           "#FF6692",
           "#B6E880",
           "#FF97FF",
           "#FECB52"
          ],
          "font": {
           "color": "#2a3f5f"
          },
          "geo": {
           "bgcolor": "white",
           "lakecolor": "white",
           "landcolor": "#E5ECF6",
           "showlakes": true,
           "showland": true,
           "subunitcolor": "white"
          },
          "hoverlabel": {
           "align": "left"
          },
          "hovermode": "closest",
          "mapbox": {
           "style": "light"
          },
          "paper_bgcolor": "white",
          "plot_bgcolor": "#E5ECF6",
          "polar": {
           "angularaxis": {
            "gridcolor": "white",
            "linecolor": "white",
            "ticks": ""
           },
           "bgcolor": "#E5ECF6",
           "radialaxis": {
            "gridcolor": "white",
            "linecolor": "white",
            "ticks": ""
           }
          },
          "scene": {
           "xaxis": {
            "backgroundcolor": "#E5ECF6",
            "gridcolor": "white",
            "gridwidth": 2,
            "linecolor": "white",
            "showbackground": true,
            "ticks": "",
            "zerolinecolor": "white"
           },
           "yaxis": {
            "backgroundcolor": "#E5ECF6",
            "gridcolor": "white",
            "gridwidth": 2,
            "linecolor": "white",
            "showbackground": true,
            "ticks": "",
            "zerolinecolor": "white"
           },
           "zaxis": {
            "backgroundcolor": "#E5ECF6",
            "gridcolor": "white",
            "gridwidth": 2,
            "linecolor": "white",
            "showbackground": true,
            "ticks": "",
            "zerolinecolor": "white"
           }
          },
          "shapedefaults": {
           "line": {
            "color": "#2a3f5f"
           }
          },
          "ternary": {
           "aaxis": {
            "gridcolor": "white",
            "linecolor": "white",
            "ticks": ""
           },
           "baxis": {
            "gridcolor": "white",
            "linecolor": "white",
            "ticks": ""
           },
           "bgcolor": "#E5ECF6",
           "caxis": {
            "gridcolor": "white",
            "linecolor": "white",
            "ticks": ""
           }
          },
          "title": {
           "x": 0.05
          },
          "xaxis": {
           "automargin": true,
           "gridcolor": "white",
           "linecolor": "white",
           "ticks": "",
           "title": {
            "standoff": 15
           },
           "zerolinecolor": "white",
           "zerolinewidth": 2
          },
          "yaxis": {
           "automargin": true,
           "gridcolor": "white",
           "linecolor": "white",
           "ticks": "",
           "title": {
            "standoff": 15
           },
           "zerolinecolor": "white",
           "zerolinewidth": 2
          }
         }
        },
        "title": {
         "text": "Contour Plot"
        },
        "xaxis": {
         "anchor": "y",
         "domain": [
          0,
          0.1183673469387755
         ],
         "matches": "x43",
         "range": [
          0.0769029143460447,
          0.4440448230774183
         ],
         "showticklabels": false
        },
        "xaxis10": {
         "anchor": "y10",
         "domain": [
          0.29387755102040813,
          0.4122448979591836
         ],
         "matches": "x45",
         "range": [
          0.05981663192210099,
          0.4856913110106378
         ],
         "showticklabels": false
        },
        "xaxis11": {
         "anchor": "y11",
         "domain": [
          0.4408163265306122,
          0.5591836734693877
         ],
         "matches": "x46",
         "range": [
          0.12964469757449704,
          0.19488635599820037
         ],
         "showticklabels": false
        },
        "xaxis12": {
         "anchor": "y12",
         "domain": [
          0.5877551020408163,
          0.7061224489795918
         ],
         "matches": "x47",
         "range": [
          0.19229664969483762,
          0.19229664969483762
         ],
         "showticklabels": false
        },
        "xaxis13": {
         "anchor": "y13",
         "domain": [
          0.7346938775510204,
          0.8530612244897959
         ],
         "matches": "x48",
         "range": [
          -4.430268190519289,
          -1.8003283853436738
         ],
         "showticklabels": false,
         "type": "log"
        },
        "xaxis14": {
         "anchor": "y14",
         "domain": [
          0.8816326530612244,
          0.9999999999999999
         ],
         "matches": "x49",
         "range": [
          0.8,
          5.2
         ],
         "showticklabels": false
        },
        "xaxis15": {
         "anchor": "y15",
         "domain": [
          0,
          0.1183673469387755
         ],
         "matches": "x43",
         "range": [
          0.0769029143460447,
          0.4440448230774183
         ],
         "showticklabels": false
        },
        "xaxis16": {
         "anchor": "y16",
         "domain": [
          0.14693877551020407,
          0.26530612244897955
         ],
         "matches": "x44",
         "range": [
          0.29250413811598736,
          0.4791965723417189
         ],
         "showticklabels": false
        },
        "xaxis17": {
         "anchor": "y17",
         "domain": [
          0.29387755102040813,
          0.4122448979591836
         ],
         "matches": "x45",
         "range": [
          0.05981663192210099,
          0.4856913110106378
         ],
         "showticklabels": false
        },
        "xaxis18": {
         "anchor": "y18",
         "domain": [
          0.4408163265306122,
          0.5591836734693877
         ],
         "matches": "x46",
         "range": [
          0.12964469757449704,
          0.19488635599820037
         ],
         "showticklabels": false
        },
        "xaxis19": {
         "anchor": "y19",
         "domain": [
          0.5877551020408163,
          0.7061224489795918
         ],
         "matches": "x47",
         "range": [
          0.19229664969483762,
          0.19229664969483762
         ],
         "showticklabels": false
        },
        "xaxis2": {
         "anchor": "y2",
         "domain": [
          0.14693877551020407,
          0.26530612244897955
         ],
         "matches": "x44",
         "range": [
          0.29250413811598736,
          0.4791965723417189
         ],
         "showticklabels": false
        },
        "xaxis20": {
         "anchor": "y20",
         "domain": [
          0.7346938775510204,
          0.8530612244897959
         ],
         "matches": "x48",
         "range": [
          -4.430268190519289,
          -1.8003283853436738
         ],
         "showticklabels": false,
         "type": "log"
        },
        "xaxis21": {
         "anchor": "y21",
         "domain": [
          0.8816326530612244,
          0.9999999999999999
         ],
         "matches": "x49",
         "range": [
          0.8,
          5.2
         ],
         "showticklabels": false
        },
        "xaxis22": {
         "anchor": "y22",
         "domain": [
          0,
          0.1183673469387755
         ],
         "matches": "x43",
         "range": [
          0.0769029143460447,
          0.4440448230774183
         ],
         "showticklabels": false
        },
        "xaxis23": {
         "anchor": "y23",
         "domain": [
          0.14693877551020407,
          0.26530612244897955
         ],
         "matches": "x44",
         "range": [
          0.29250413811598736,
          0.4791965723417189
         ],
         "showticklabels": false
        },
        "xaxis24": {
         "anchor": "y24",
         "domain": [
          0.29387755102040813,
          0.4122448979591836
         ],
         "matches": "x45",
         "range": [
          0.05981663192210099,
          0.4856913110106378
         ],
         "showticklabels": false
        },
        "xaxis25": {
         "anchor": "y25",
         "domain": [
          0.4408163265306122,
          0.5591836734693877
         ],
         "matches": "x46",
         "range": [
          0.12964469757449704,
          0.19488635599820037
         ],
         "showticklabels": false
        },
        "xaxis26": {
         "anchor": "y26",
         "domain": [
          0.5877551020408163,
          0.7061224489795918
         ],
         "matches": "x47",
         "range": [
          0.19229664969483762,
          0.19229664969483762
         ],
         "showticklabels": false
        },
        "xaxis27": {
         "anchor": "y27",
         "domain": [
          0.7346938775510204,
          0.8530612244897959
         ],
         "matches": "x48",
         "range": [
          -4.430268190519289,
          -1.8003283853436738
         ],
         "showticklabels": false,
         "type": "log"
        },
        "xaxis28": {
         "anchor": "y28",
         "domain": [
          0.8816326530612244,
          0.9999999999999999
         ],
         "matches": "x49",
         "range": [
          0.8,
          5.2
         ],
         "showticklabels": false
        },
        "xaxis29": {
         "anchor": "y29",
         "domain": [
          0,
          0.1183673469387755
         ],
         "matches": "x43",
         "range": [
          0.0769029143460447,
          0.4440448230774183
         ],
         "showticklabels": false
        },
        "xaxis3": {
         "anchor": "y3",
         "domain": [
          0.29387755102040813,
          0.4122448979591836
         ],
         "matches": "x45",
         "range": [
          0.05981663192210099,
          0.4856913110106378
         ],
         "showticklabels": false
        },
        "xaxis30": {
         "anchor": "y30",
         "domain": [
          0.14693877551020407,
          0.26530612244897955
         ],
         "matches": "x44",
         "range": [
          0.29250413811598736,
          0.4791965723417189
         ],
         "showticklabels": false
        },
        "xaxis31": {
         "anchor": "y31",
         "domain": [
          0.29387755102040813,
          0.4122448979591836
         ],
         "matches": "x45",
         "range": [
          0.05981663192210099,
          0.4856913110106378
         ],
         "showticklabels": false
        },
        "xaxis32": {
         "anchor": "y32",
         "domain": [
          0.4408163265306122,
          0.5591836734693877
         ],
         "matches": "x46",
         "range": [
          0.12964469757449704,
          0.19488635599820037
         ],
         "showticklabels": false
        },
        "xaxis33": {
         "anchor": "y33",
         "domain": [
          0.5877551020408163,
          0.7061224489795918
         ],
         "matches": "x47",
         "range": [
          0.19229664969483762,
          0.19229664969483762
         ],
         "showticklabels": false
        },
        "xaxis34": {
         "anchor": "y34",
         "domain": [
          0.7346938775510204,
          0.8530612244897959
         ],
         "matches": "x48",
         "range": [
          -4.430268190519289,
          -1.8003283853436738
         ],
         "showticklabels": false,
         "type": "log"
        },
        "xaxis35": {
         "anchor": "y35",
         "domain": [
          0.8816326530612244,
          0.9999999999999999
         ],
         "matches": "x49",
         "range": [
          0.8,
          5.2
         ],
         "showticklabels": false
        },
        "xaxis36": {
         "anchor": "y36",
         "domain": [
          0,
          0.1183673469387755
         ],
         "matches": "x43",
         "range": [
          0.0769029143460447,
          0.4440448230774183
         ],
         "showticklabels": false
        },
        "xaxis37": {
         "anchor": "y37",
         "domain": [
          0.14693877551020407,
          0.26530612244897955
         ],
         "matches": "x44",
         "range": [
          0.29250413811598736,
          0.4791965723417189
         ],
         "showticklabels": false
        },
        "xaxis38": {
         "anchor": "y38",
         "domain": [
          0.29387755102040813,
          0.4122448979591836
         ],
         "matches": "x45",
         "range": [
          0.05981663192210099,
          0.4856913110106378
         ],
         "showticklabels": false
        },
        "xaxis39": {
         "anchor": "y39",
         "domain": [
          0.4408163265306122,
          0.5591836734693877
         ],
         "matches": "x46",
         "range": [
          0.12964469757449704,
          0.19488635599820037
         ],
         "showticklabels": false
        },
        "xaxis4": {
         "anchor": "y4",
         "domain": [
          0.4408163265306122,
          0.5591836734693877
         ],
         "matches": "x46",
         "range": [
          0.12964469757449704,
          0.19488635599820037
         ],
         "showticklabels": false
        },
        "xaxis40": {
         "anchor": "y40",
         "domain": [
          0.5877551020408163,
          0.7061224489795918
         ],
         "matches": "x47",
         "range": [
          0.19229664969483762,
          0.19229664969483762
         ],
         "showticklabels": false
        },
        "xaxis41": {
         "anchor": "y41",
         "domain": [
          0.7346938775510204,
          0.8530612244897959
         ],
         "matches": "x48",
         "range": [
          -4.430268190519289,
          -1.8003283853436738
         ],
         "showticklabels": false,
         "type": "log"
        },
        "xaxis42": {
         "anchor": "y42",
         "domain": [
          0.8816326530612244,
          0.9999999999999999
         ],
         "matches": "x49",
         "range": [
          0.8,
          5.2
         ],
         "showticklabels": false
        },
        "xaxis43": {
         "anchor": "y43",
         "domain": [
          0,
          0.1183673469387755
         ],
         "range": [
          0.0769029143460447,
          0.4440448230774183
         ],
         "title": {
          "text": "dropout_layer_0"
         }
        },
        "xaxis44": {
         "anchor": "y44",
         "domain": [
          0.14693877551020407,
          0.26530612244897955
         ],
         "range": [
          0.29250413811598736,
          0.4791965723417189
         ],
         "title": {
          "text": "dropout_layer_1"
         }
        },
        "xaxis45": {
         "anchor": "y45",
         "domain": [
          0.29387755102040813,
          0.4122448979591836
         ],
         "range": [
          0.05981663192210099,
          0.4856913110106378
         ],
         "title": {
          "text": "dropout_layer_2"
         }
        },
        "xaxis46": {
         "anchor": "y46",
         "domain": [
          0.4408163265306122,
          0.5591836734693877
         ],
         "range": [
          0.12964469757449704,
          0.19488635599820037
         ],
         "title": {
          "text": "dropout_layer_3"
         }
        },
        "xaxis47": {
         "anchor": "y47",
         "domain": [
          0.5877551020408163,
          0.7061224489795918
         ],
         "range": [
          0.19229664969483762,
          0.19229664969483762
         ],
         "title": {
          "text": "dropout_layer_4"
         }
        },
        "xaxis48": {
         "anchor": "y48",
         "domain": [
          0.7346938775510204,
          0.8530612244897959
         ],
         "range": [
          -4.430268190519289,
          -1.8003283853436738
         ],
         "title": {
          "text": "learning_rate"
         },
         "type": "log"
        },
        "xaxis49": {
         "anchor": "y49",
         "domain": [
          0.8816326530612244,
          0.9999999999999999
         ],
         "range": [
          0.8,
          5.2
         ],
         "title": {
          "text": "num_hidden_layers"
         }
        },
        "xaxis5": {
         "anchor": "y5",
         "domain": [
          0.5877551020408163,
          0.7061224489795918
         ],
         "matches": "x47",
         "range": [
          0.19229664969483762,
          0.19229664969483762
         ],
         "showticklabels": false
        },
        "xaxis6": {
         "anchor": "y6",
         "domain": [
          0.7346938775510204,
          0.8530612244897959
         ],
         "matches": "x48",
         "range": [
          -4.430268190519289,
          -1.8003283853436738
         ],
         "showticklabels": false,
         "type": "log"
        },
        "xaxis7": {
         "anchor": "y7",
         "domain": [
          0.8816326530612244,
          0.9999999999999999
         ],
         "matches": "x49",
         "range": [
          0.8,
          5.2
         ],
         "showticklabels": false
        },
        "xaxis8": {
         "anchor": "y8",
         "domain": [
          0,
          0.1183673469387755
         ],
         "matches": "x43",
         "range": [
          0.0769029143460447,
          0.4440448230774183
         ],
         "showticklabels": false
        },
        "xaxis9": {
         "anchor": "y9",
         "domain": [
          0.14693877551020407,
          0.26530612244897955
         ],
         "matches": "x44",
         "range": [
          0.29250413811598736,
          0.4791965723417189
         ],
         "showticklabels": false
        },
        "yaxis": {
         "anchor": "x",
         "domain": [
          0.8938775510204082,
          1
         ],
         "range": [
          0.0769029143460447,
          0.4440448230774183
         ],
         "title": {
          "text": "dropout_layer_0"
         }
        },
        "yaxis10": {
         "anchor": "x10",
         "domain": [
          0.7448979591836735,
          0.8510204081632654
         ],
         "matches": "y8",
         "range": [
          0.29250413811598736,
          0.4791965723417189
         ],
         "showticklabels": false
        },
        "yaxis11": {
         "anchor": "x11",
         "domain": [
          0.7448979591836735,
          0.8510204081632654
         ],
         "matches": "y8",
         "range": [
          0.29250413811598736,
          0.4791965723417189
         ],
         "showticklabels": false
        },
        "yaxis12": {
         "anchor": "x12",
         "domain": [
          0.7448979591836735,
          0.8510204081632654
         ],
         "matches": "y8",
         "range": [
          0.29250413811598736,
          0.4791965723417189
         ],
         "showticklabels": false
        },
        "yaxis13": {
         "anchor": "x13",
         "domain": [
          0.7448979591836735,
          0.8510204081632654
         ],
         "matches": "y8",
         "range": [
          0.29250413811598736,
          0.4791965723417189
         ],
         "showticklabels": false
        },
        "yaxis14": {
         "anchor": "x14",
         "domain": [
          0.7448979591836735,
          0.8510204081632654
         ],
         "matches": "y8",
         "range": [
          0.29250413811598736,
          0.4791965723417189
         ],
         "showticklabels": false
        },
        "yaxis15": {
         "anchor": "x15",
         "domain": [
          0.5959183673469388,
          0.7020408163265307
         ],
         "range": [
          0.05981663192210099,
          0.4856913110106378
         ],
         "title": {
          "text": "dropout_layer_2"
         }
        },
        "yaxis16": {
         "anchor": "x16",
         "domain": [
          0.5959183673469388,
          0.7020408163265307
         ],
         "matches": "y15",
         "range": [
          0.05981663192210099,
          0.4856913110106378
         ],
         "showticklabels": false
        },
        "yaxis17": {
         "anchor": "x17",
         "domain": [
          0.5959183673469388,
          0.7020408163265307
         ],
         "matches": "y15",
         "range": [
          0.05981663192210099,
          0.4856913110106378
         ],
         "showticklabels": false
        },
        "yaxis18": {
         "anchor": "x18",
         "domain": [
          0.5959183673469388,
          0.7020408163265307
         ],
         "matches": "y15",
         "range": [
          0.05981663192210099,
          0.4856913110106378
         ],
         "showticklabels": false
        },
        "yaxis19": {
         "anchor": "x19",
         "domain": [
          0.5959183673469388,
          0.7020408163265307
         ],
         "matches": "y15",
         "range": [
          0.05981663192210099,
          0.4856913110106378
         ],
         "showticklabels": false
        },
        "yaxis2": {
         "anchor": "x2",
         "domain": [
          0.8938775510204082,
          1
         ],
         "matches": "y",
         "range": [
          0.0769029143460447,
          0.4440448230774183
         ],
         "showticklabels": false
        },
        "yaxis20": {
         "anchor": "x20",
         "domain": [
          0.5959183673469388,
          0.7020408163265307
         ],
         "matches": "y15",
         "range": [
          0.05981663192210099,
          0.4856913110106378
         ],
         "showticklabels": false
        },
        "yaxis21": {
         "anchor": "x21",
         "domain": [
          0.5959183673469388,
          0.7020408163265307
         ],
         "matches": "y15",
         "range": [
          0.05981663192210099,
          0.4856913110106378
         ],
         "showticklabels": false
        },
        "yaxis22": {
         "anchor": "x22",
         "domain": [
          0.4469387755102041,
          0.553061224489796
         ],
         "range": [
          0.12964469757449704,
          0.19488635599820037
         ],
         "title": {
          "text": "dropout_layer_3"
         }
        },
        "yaxis23": {
         "anchor": "x23",
         "domain": [
          0.4469387755102041,
          0.553061224489796
         ],
         "matches": "y22",
         "range": [
          0.12964469757449704,
          0.19488635599820037
         ],
         "showticklabels": false
        },
        "yaxis24": {
         "anchor": "x24",
         "domain": [
          0.4469387755102041,
          0.553061224489796
         ],
         "matches": "y22",
         "range": [
          0.12964469757449704,
          0.19488635599820037
         ],
         "showticklabels": false
        },
        "yaxis25": {
         "anchor": "x25",
         "domain": [
          0.4469387755102041,
          0.553061224489796
         ],
         "matches": "y22",
         "range": [
          0.12964469757449704,
          0.19488635599820037
         ],
         "showticklabels": false
        },
        "yaxis26": {
         "anchor": "x26",
         "domain": [
          0.4469387755102041,
          0.553061224489796
         ],
         "matches": "y22",
         "range": [
          0.12964469757449704,
          0.19488635599820037
         ],
         "showticklabels": false
        },
        "yaxis27": {
         "anchor": "x27",
         "domain": [
          0.4469387755102041,
          0.553061224489796
         ],
         "matches": "y22",
         "range": [
          0.12964469757449704,
          0.19488635599820037
         ],
         "showticklabels": false
        },
        "yaxis28": {
         "anchor": "x28",
         "domain": [
          0.4469387755102041,
          0.553061224489796
         ],
         "matches": "y22",
         "range": [
          0.12964469757449704,
          0.19488635599820037
         ],
         "showticklabels": false
        },
        "yaxis29": {
         "anchor": "x29",
         "domain": [
          0.2979591836734694,
          0.40408163265306124
         ],
         "range": [
          0.19229664969483762,
          0.19229664969483762
         ],
         "title": {
          "text": "dropout_layer_4"
         }
        },
        "yaxis3": {
         "anchor": "x3",
         "domain": [
          0.8938775510204082,
          1
         ],
         "matches": "y",
         "range": [
          0.0769029143460447,
          0.4440448230774183
         ],
         "showticklabels": false
        },
        "yaxis30": {
         "anchor": "x30",
         "domain": [
          0.2979591836734694,
          0.40408163265306124
         ],
         "matches": "y29",
         "range": [
          0.19229664969483762,
          0.19229664969483762
         ],
         "showticklabels": false
        },
        "yaxis31": {
         "anchor": "x31",
         "domain": [
          0.2979591836734694,
          0.40408163265306124
         ],
         "matches": "y29",
         "range": [
          0.19229664969483762,
          0.19229664969483762
         ],
         "showticklabels": false
        },
        "yaxis32": {
         "anchor": "x32",
         "domain": [
          0.2979591836734694,
          0.40408163265306124
         ],
         "matches": "y29",
         "range": [
          0.19229664969483762,
          0.19229664969483762
         ],
         "showticklabels": false
        },
        "yaxis33": {
         "anchor": "x33",
         "domain": [
          0.2979591836734694,
          0.40408163265306124
         ],
         "matches": "y29",
         "range": [
          0.19229664969483762,
          0.19229664969483762
         ],
         "showticklabels": false
        },
        "yaxis34": {
         "anchor": "x34",
         "domain": [
          0.2979591836734694,
          0.40408163265306124
         ],
         "matches": "y29",
         "range": [
          0.19229664969483762,
          0.19229664969483762
         ],
         "showticklabels": false
        },
        "yaxis35": {
         "anchor": "x35",
         "domain": [
          0.2979591836734694,
          0.40408163265306124
         ],
         "matches": "y29",
         "range": [
          0.19229664969483762,
          0.19229664969483762
         ],
         "showticklabels": false
        },
        "yaxis36": {
         "anchor": "x36",
         "domain": [
          0.1489795918367347,
          0.25510204081632654
         ],
         "range": [
          -4.430268190519289,
          -1.8003283853436738
         ],
         "title": {
          "text": "learning_rate"
         },
         "type": "log"
        },
        "yaxis37": {
         "anchor": "x37",
         "domain": [
          0.1489795918367347,
          0.25510204081632654
         ],
         "matches": "y36",
         "range": [
          -4.430268190519289,
          -1.8003283853436738
         ],
         "showticklabels": false,
         "type": "log"
        },
        "yaxis38": {
         "anchor": "x38",
         "domain": [
          0.1489795918367347,
          0.25510204081632654
         ],
         "matches": "y36",
         "range": [
          -4.430268190519289,
          -1.8003283853436738
         ],
         "showticklabels": false,
         "type": "log"
        },
        "yaxis39": {
         "anchor": "x39",
         "domain": [
          0.1489795918367347,
          0.25510204081632654
         ],
         "matches": "y36",
         "range": [
          -4.430268190519289,
          -1.8003283853436738
         ],
         "showticklabels": false,
         "type": "log"
        },
        "yaxis4": {
         "anchor": "x4",
         "domain": [
          0.8938775510204082,
          1
         ],
         "matches": "y",
         "range": [
          0.0769029143460447,
          0.4440448230774183
         ],
         "showticklabels": false
        },
        "yaxis40": {
         "anchor": "x40",
         "domain": [
          0.1489795918367347,
          0.25510204081632654
         ],
         "matches": "y36",
         "range": [
          -4.430268190519289,
          -1.8003283853436738
         ],
         "showticklabels": false,
         "type": "log"
        },
        "yaxis41": {
         "anchor": "x41",
         "domain": [
          0.1489795918367347,
          0.25510204081632654
         ],
         "matches": "y36",
         "range": [
          -4.430268190519289,
          -1.8003283853436738
         ],
         "showticklabels": false,
         "type": "log"
        },
        "yaxis42": {
         "anchor": "x42",
         "domain": [
          0.1489795918367347,
          0.25510204081632654
         ],
         "matches": "y36",
         "range": [
          -4.430268190519289,
          -1.8003283853436738
         ],
         "showticklabels": false,
         "type": "log"
        },
        "yaxis43": {
         "anchor": "x43",
         "domain": [
          0,
          0.10612244897959185
         ],
         "range": [
          0.8,
          5.2
         ],
         "title": {
          "text": "num_hidden_layers"
         }
        },
        "yaxis44": {
         "anchor": "x44",
         "domain": [
          0,
          0.10612244897959185
         ],
         "matches": "y43",
         "range": [
          0.8,
          5.2
         ],
         "showticklabels": false
        },
        "yaxis45": {
         "anchor": "x45",
         "domain": [
          0,
          0.10612244897959185
         ],
         "matches": "y43",
         "range": [
          0.8,
          5.2
         ],
         "showticklabels": false
        },
        "yaxis46": {
         "anchor": "x46",
         "domain": [
          0,
          0.10612244897959185
         ],
         "matches": "y43",
         "range": [
          0.8,
          5.2
         ],
         "showticklabels": false
        },
        "yaxis47": {
         "anchor": "x47",
         "domain": [
          0,
          0.10612244897959185
         ],
         "matches": "y43",
         "range": [
          0.8,
          5.2
         ],
         "showticklabels": false
        },
        "yaxis48": {
         "anchor": "x48",
         "domain": [
          0,
          0.10612244897959185
         ],
         "matches": "y43",
         "range": [
          0.8,
          5.2
         ],
         "showticklabels": false
        },
        "yaxis49": {
         "anchor": "x49",
         "domain": [
          0,
          0.10612244897959185
         ],
         "matches": "y43",
         "range": [
          0.8,
          5.2
         ],
         "showticklabels": false
        },
        "yaxis5": {
         "anchor": "x5",
         "domain": [
          0.8938775510204082,
          1
         ],
         "matches": "y",
         "range": [
          0.0769029143460447,
          0.4440448230774183
         ],
         "showticklabels": false
        },
        "yaxis6": {
         "anchor": "x6",
         "domain": [
          0.8938775510204082,
          1
         ],
         "matches": "y",
         "range": [
          0.0769029143460447,
          0.4440448230774183
         ],
         "showticklabels": false
        },
        "yaxis7": {
         "anchor": "x7",
         "domain": [
          0.8938775510204082,
          1
         ],
         "matches": "y",
         "range": [
          0.0769029143460447,
          0.4440448230774183
         ],
         "showticklabels": false
        },
        "yaxis8": {
         "anchor": "x8",
         "domain": [
          0.7448979591836735,
          0.8510204081632654
         ],
         "range": [
          0.29250413811598736,
          0.4791965723417189
         ],
         "title": {
          "text": "dropout_layer_1"
         }
        },
        "yaxis9": {
         "anchor": "x9",
         "domain": [
          0.7448979591836735,
          0.8510204081632654
         ],
         "matches": "y8",
         "range": [
          0.29250413811598736,
          0.4791965723417189
         ],
         "showticklabels": false
        }
       }
      }
     },
     "metadata": {},
     "output_type": "display_data"
    }
   ],
   "source": [
    "optuna_viz.plot_contour(study)"
   ]
  },
  {
   "cell_type": "markdown",
   "id": "73e90b1a",
   "metadata": {},
   "source": [
    "#### Histogramme des valeurs d'hyperparamètres"
   ]
  },
  {
   "cell_type": "code",
   "execution_count": 67,
   "id": "852fe6c3",
   "metadata": {},
   "outputs": [
    {
     "data": {
      "application/vnd.plotly.v1+json": {
       "config": {
        "plotlyServerURL": "https://plot.ly"
       },
       "data": [
        {
         "dimensions": [
          {
           "label": "Objective Value",
           "range": [
            -0.17391304347826086,
            -0.17391304347826086
           ],
           "values": [
            -0.17391304347826086
           ]
          },
          {
           "label": "dropout_layer_0",
           "range": [
            0.29814465457771433,
            0.29814465457771433
           ],
           "values": [
            0.29814465457771433
           ]
          },
          {
           "label": "dropout_layer_1",
           "range": [
            0.3009901578535206,
            0.3009901578535206
           ],
           "values": [
            0.3009901578535206
           ]
          },
          {
           "label": "dropout_layer_2",
           "range": [
            0.164650547536409,
            0.164650547536409
           ],
           "values": [
            0.164650547536409
           ]
          },
          {
           "label": "dropout_layer_3",
           "range": [
            0.19192082606985023,
            0.19192082606985023
           ],
           "values": [
            0.19192082606985023
           ]
          },
          {
           "label": "dropout_layer_4",
           "range": [
            0.19229664969483762,
            0.19229664969483762
           ],
           "values": [
            0.19229664969483762
           ]
          },
          {
           "label": "learning_rate",
           "range": [
            -1.9198711037607472,
            -1.9198711037607472
           ],
           "ticktext": [
            "0.012"
           ],
           "tickvals": [
            -1.9198711037607472
           ],
           "values": [
            -1.9198711037607472
           ]
          },
          {
           "label": "num_hidden_layers",
           "range": [
            5,
            5
           ],
           "values": [
            5
           ]
          }
         ],
         "labelangle": 30,
         "labelside": "bottom",
         "line": {
          "color": [
           -0.17391304347826086
          ],
          "colorbar": {
           "title": {
            "text": "Objective Value"
           }
          },
          "colorscale": [
           [
            0,
            "rgb(247,251,255)"
           ],
           [
            0.125,
            "rgb(222,235,247)"
           ],
           [
            0.25,
            "rgb(198,219,239)"
           ],
           [
            0.375,
            "rgb(158,202,225)"
           ],
           [
            0.5,
            "rgb(107,174,214)"
           ],
           [
            0.625,
            "rgb(66,146,198)"
           ],
           [
            0.75,
            "rgb(33,113,181)"
           ],
           [
            0.875,
            "rgb(8,81,156)"
           ],
           [
            1,
            "rgb(8,48,107)"
           ]
          ],
          "reversescale": true,
          "showscale": true
         },
         "type": "parcoords"
        }
       ],
       "layout": {
        "template": {
         "data": {
          "bar": [
           {
            "error_x": {
             "color": "#2a3f5f"
            },
            "error_y": {
             "color": "#2a3f5f"
            },
            "marker": {
             "line": {
              "color": "#E5ECF6",
              "width": 0.5
             },
             "pattern": {
              "fillmode": "overlay",
              "size": 10,
              "solidity": 0.2
             }
            },
            "type": "bar"
           }
          ],
          "barpolar": [
           {
            "marker": {
             "line": {
              "color": "#E5ECF6",
              "width": 0.5
             },
             "pattern": {
              "fillmode": "overlay",
              "size": 10,
              "solidity": 0.2
             }
            },
            "type": "barpolar"
           }
          ],
          "carpet": [
           {
            "aaxis": {
             "endlinecolor": "#2a3f5f",
             "gridcolor": "white",
             "linecolor": "white",
             "minorgridcolor": "white",
             "startlinecolor": "#2a3f5f"
            },
            "baxis": {
             "endlinecolor": "#2a3f5f",
             "gridcolor": "white",
             "linecolor": "white",
             "minorgridcolor": "white",
             "startlinecolor": "#2a3f5f"
            },
            "type": "carpet"
           }
          ],
          "choropleth": [
           {
            "colorbar": {
             "outlinewidth": 0,
             "ticks": ""
            },
            "type": "choropleth"
           }
          ],
          "contour": [
           {
            "colorbar": {
             "outlinewidth": 0,
             "ticks": ""
            },
            "colorscale": [
             [
              0,
              "#0d0887"
             ],
             [
              0.1111111111111111,
              "#46039f"
             ],
             [
              0.2222222222222222,
              "#7201a8"
             ],
             [
              0.3333333333333333,
              "#9c179e"
             ],
             [
              0.4444444444444444,
              "#bd3786"
             ],
             [
              0.5555555555555556,
              "#d8576b"
             ],
             [
              0.6666666666666666,
              "#ed7953"
             ],
             [
              0.7777777777777778,
              "#fb9f3a"
             ],
             [
              0.8888888888888888,
              "#fdca26"
             ],
             [
              1,
              "#f0f921"
             ]
            ],
            "type": "contour"
           }
          ],
          "contourcarpet": [
           {
            "colorbar": {
             "outlinewidth": 0,
             "ticks": ""
            },
            "type": "contourcarpet"
           }
          ],
          "heatmap": [
           {
            "colorbar": {
             "outlinewidth": 0,
             "ticks": ""
            },
            "colorscale": [
             [
              0,
              "#0d0887"
             ],
             [
              0.1111111111111111,
              "#46039f"
             ],
             [
              0.2222222222222222,
              "#7201a8"
             ],
             [
              0.3333333333333333,
              "#9c179e"
             ],
             [
              0.4444444444444444,
              "#bd3786"
             ],
             [
              0.5555555555555556,
              "#d8576b"
             ],
             [
              0.6666666666666666,
              "#ed7953"
             ],
             [
              0.7777777777777778,
              "#fb9f3a"
             ],
             [
              0.8888888888888888,
              "#fdca26"
             ],
             [
              1,
              "#f0f921"
             ]
            ],
            "type": "heatmap"
           }
          ],
          "heatmapgl": [
           {
            "colorbar": {
             "outlinewidth": 0,
             "ticks": ""
            },
            "colorscale": [
             [
              0,
              "#0d0887"
             ],
             [
              0.1111111111111111,
              "#46039f"
             ],
             [
              0.2222222222222222,
              "#7201a8"
             ],
             [
              0.3333333333333333,
              "#9c179e"
             ],
             [
              0.4444444444444444,
              "#bd3786"
             ],
             [
              0.5555555555555556,
              "#d8576b"
             ],
             [
              0.6666666666666666,
              "#ed7953"
             ],
             [
              0.7777777777777778,
              "#fb9f3a"
             ],
             [
              0.8888888888888888,
              "#fdca26"
             ],
             [
              1,
              "#f0f921"
             ]
            ],
            "type": "heatmapgl"
           }
          ],
          "histogram": [
           {
            "marker": {
             "pattern": {
              "fillmode": "overlay",
              "size": 10,
              "solidity": 0.2
             }
            },
            "type": "histogram"
           }
          ],
          "histogram2d": [
           {
            "colorbar": {
             "outlinewidth": 0,
             "ticks": ""
            },
            "colorscale": [
             [
              0,
              "#0d0887"
             ],
             [
              0.1111111111111111,
              "#46039f"
             ],
             [
              0.2222222222222222,
              "#7201a8"
             ],
             [
              0.3333333333333333,
              "#9c179e"
             ],
             [
              0.4444444444444444,
              "#bd3786"
             ],
             [
              0.5555555555555556,
              "#d8576b"
             ],
             [
              0.6666666666666666,
              "#ed7953"
             ],
             [
              0.7777777777777778,
              "#fb9f3a"
             ],
             [
              0.8888888888888888,
              "#fdca26"
             ],
             [
              1,
              "#f0f921"
             ]
            ],
            "type": "histogram2d"
           }
          ],
          "histogram2dcontour": [
           {
            "colorbar": {
             "outlinewidth": 0,
             "ticks": ""
            },
            "colorscale": [
             [
              0,
              "#0d0887"
             ],
             [
              0.1111111111111111,
              "#46039f"
             ],
             [
              0.2222222222222222,
              "#7201a8"
             ],
             [
              0.3333333333333333,
              "#9c179e"
             ],
             [
              0.4444444444444444,
              "#bd3786"
             ],
             [
              0.5555555555555556,
              "#d8576b"
             ],
             [
              0.6666666666666666,
              "#ed7953"
             ],
             [
              0.7777777777777778,
              "#fb9f3a"
             ],
             [
              0.8888888888888888,
              "#fdca26"
             ],
             [
              1,
              "#f0f921"
             ]
            ],
            "type": "histogram2dcontour"
           }
          ],
          "mesh3d": [
           {
            "colorbar": {
             "outlinewidth": 0,
             "ticks": ""
            },
            "type": "mesh3d"
           }
          ],
          "parcoords": [
           {
            "line": {
             "colorbar": {
              "outlinewidth": 0,
              "ticks": ""
             }
            },
            "type": "parcoords"
           }
          ],
          "pie": [
           {
            "automargin": true,
            "type": "pie"
           }
          ],
          "scatter": [
           {
            "fillpattern": {
             "fillmode": "overlay",
             "size": 10,
             "solidity": 0.2
            },
            "type": "scatter"
           }
          ],
          "scatter3d": [
           {
            "line": {
             "colorbar": {
              "outlinewidth": 0,
              "ticks": ""
             }
            },
            "marker": {
             "colorbar": {
              "outlinewidth": 0,
              "ticks": ""
             }
            },
            "type": "scatter3d"
           }
          ],
          "scattercarpet": [
           {
            "marker": {
             "colorbar": {
              "outlinewidth": 0,
              "ticks": ""
             }
            },
            "type": "scattercarpet"
           }
          ],
          "scattergeo": [
           {
            "marker": {
             "colorbar": {
              "outlinewidth": 0,
              "ticks": ""
             }
            },
            "type": "scattergeo"
           }
          ],
          "scattergl": [
           {
            "marker": {
             "colorbar": {
              "outlinewidth": 0,
              "ticks": ""
             }
            },
            "type": "scattergl"
           }
          ],
          "scattermapbox": [
           {
            "marker": {
             "colorbar": {
              "outlinewidth": 0,
              "ticks": ""
             }
            },
            "type": "scattermapbox"
           }
          ],
          "scatterpolar": [
           {
            "marker": {
             "colorbar": {
              "outlinewidth": 0,
              "ticks": ""
             }
            },
            "type": "scatterpolar"
           }
          ],
          "scatterpolargl": [
           {
            "marker": {
             "colorbar": {
              "outlinewidth": 0,
              "ticks": ""
             }
            },
            "type": "scatterpolargl"
           }
          ],
          "scatterternary": [
           {
            "marker": {
             "colorbar": {
              "outlinewidth": 0,
              "ticks": ""
             }
            },
            "type": "scatterternary"
           }
          ],
          "surface": [
           {
            "colorbar": {
             "outlinewidth": 0,
             "ticks": ""
            },
            "colorscale": [
             [
              0,
              "#0d0887"
             ],
             [
              0.1111111111111111,
              "#46039f"
             ],
             [
              0.2222222222222222,
              "#7201a8"
             ],
             [
              0.3333333333333333,
              "#9c179e"
             ],
             [
              0.4444444444444444,
              "#bd3786"
             ],
             [
              0.5555555555555556,
              "#d8576b"
             ],
             [
              0.6666666666666666,
              "#ed7953"
             ],
             [
              0.7777777777777778,
              "#fb9f3a"
             ],
             [
              0.8888888888888888,
              "#fdca26"
             ],
             [
              1,
              "#f0f921"
             ]
            ],
            "type": "surface"
           }
          ],
          "table": [
           {
            "cells": {
             "fill": {
              "color": "#EBF0F8"
             },
             "line": {
              "color": "white"
             }
            },
            "header": {
             "fill": {
              "color": "#C8D4E3"
             },
             "line": {
              "color": "white"
             }
            },
            "type": "table"
           }
          ]
         },
         "layout": {
          "annotationdefaults": {
           "arrowcolor": "#2a3f5f",
           "arrowhead": 0,
           "arrowwidth": 1
          },
          "autotypenumbers": "strict",
          "coloraxis": {
           "colorbar": {
            "outlinewidth": 0,
            "ticks": ""
           }
          },
          "colorscale": {
           "diverging": [
            [
             0,
             "#8e0152"
            ],
            [
             0.1,
             "#c51b7d"
            ],
            [
             0.2,
             "#de77ae"
            ],
            [
             0.3,
             "#f1b6da"
            ],
            [
             0.4,
             "#fde0ef"
            ],
            [
             0.5,
             "#f7f7f7"
            ],
            [
             0.6,
             "#e6f5d0"
            ],
            [
             0.7,
             "#b8e186"
            ],
            [
             0.8,
             "#7fbc41"
            ],
            [
             0.9,
             "#4d9221"
            ],
            [
             1,
             "#276419"
            ]
           ],
           "sequential": [
            [
             0,
             "#0d0887"
            ],
            [
             0.1111111111111111,
             "#46039f"
            ],
            [
             0.2222222222222222,
             "#7201a8"
            ],
            [
             0.3333333333333333,
             "#9c179e"
            ],
            [
             0.4444444444444444,
             "#bd3786"
            ],
            [
             0.5555555555555556,
             "#d8576b"
            ],
            [
             0.6666666666666666,
             "#ed7953"
            ],
            [
             0.7777777777777778,
             "#fb9f3a"
            ],
            [
             0.8888888888888888,
             "#fdca26"
            ],
            [
             1,
             "#f0f921"
            ]
           ],
           "sequentialminus": [
            [
             0,
             "#0d0887"
            ],
            [
             0.1111111111111111,
             "#46039f"
            ],
            [
             0.2222222222222222,
             "#7201a8"
            ],
            [
             0.3333333333333333,
             "#9c179e"
            ],
            [
             0.4444444444444444,
             "#bd3786"
            ],
            [
             0.5555555555555556,
             "#d8576b"
            ],
            [
             0.6666666666666666,
             "#ed7953"
            ],
            [
             0.7777777777777778,
             "#fb9f3a"
            ],
            [
             0.8888888888888888,
             "#fdca26"
            ],
            [
             1,
             "#f0f921"
            ]
           ]
          },
          "colorway": [
           "#636efa",
           "#EF553B",
           "#00cc96",
           "#ab63fa",
           "#FFA15A",
           "#19d3f3",
           "#FF6692",
           "#B6E880",
           "#FF97FF",
           "#FECB52"
          ],
          "font": {
           "color": "#2a3f5f"
          },
          "geo": {
           "bgcolor": "white",
           "lakecolor": "white",
           "landcolor": "#E5ECF6",
           "showlakes": true,
           "showland": true,
           "subunitcolor": "white"
          },
          "hoverlabel": {
           "align": "left"
          },
          "hovermode": "closest",
          "mapbox": {
           "style": "light"
          },
          "paper_bgcolor": "white",
          "plot_bgcolor": "#E5ECF6",
          "polar": {
           "angularaxis": {
            "gridcolor": "white",
            "linecolor": "white",
            "ticks": ""
           },
           "bgcolor": "#E5ECF6",
           "radialaxis": {
            "gridcolor": "white",
            "linecolor": "white",
            "ticks": ""
           }
          },
          "scene": {
           "xaxis": {
            "backgroundcolor": "#E5ECF6",
            "gridcolor": "white",
            "gridwidth": 2,
            "linecolor": "white",
            "showbackground": true,
            "ticks": "",
            "zerolinecolor": "white"
           },
           "yaxis": {
            "backgroundcolor": "#E5ECF6",
            "gridcolor": "white",
            "gridwidth": 2,
            "linecolor": "white",
            "showbackground": true,
            "ticks": "",
            "zerolinecolor": "white"
           },
           "zaxis": {
            "backgroundcolor": "#E5ECF6",
            "gridcolor": "white",
            "gridwidth": 2,
            "linecolor": "white",
            "showbackground": true,
            "ticks": "",
            "zerolinecolor": "white"
           }
          },
          "shapedefaults": {
           "line": {
            "color": "#2a3f5f"
           }
          },
          "ternary": {
           "aaxis": {
            "gridcolor": "white",
            "linecolor": "white",
            "ticks": ""
           },
           "baxis": {
            "gridcolor": "white",
            "linecolor": "white",
            "ticks": ""
           },
           "bgcolor": "#E5ECF6",
           "caxis": {
            "gridcolor": "white",
            "linecolor": "white",
            "ticks": ""
           }
          },
          "title": {
           "x": 0.05
          },
          "xaxis": {
           "automargin": true,
           "gridcolor": "white",
           "linecolor": "white",
           "ticks": "",
           "title": {
            "standoff": 15
           },
           "zerolinecolor": "white",
           "zerolinewidth": 2
          },
          "yaxis": {
           "automargin": true,
           "gridcolor": "white",
           "linecolor": "white",
           "ticks": "",
           "title": {
            "standoff": 15
           },
           "zerolinecolor": "white",
           "zerolinewidth": 2
          }
         }
        },
        "title": {
         "text": "Parallel Coordinate Plot"
        }
       }
      }
     },
     "metadata": {},
     "output_type": "display_data"
    }
   ],
   "source": [
    "optuna_viz.plot_parallel_coordinate(study)"
   ]
  },
  {
   "cell_type": "code",
   "execution_count": null,
   "id": "f0dc0cd4",
   "metadata": {},
   "outputs": [],
   "source": []
  }
 ],
 "metadata": {
  "kernelspec": {
   "display_name": "Python 3 (ipykernel)",
   "language": "python",
   "name": "python3"
  },
  "language_info": {
   "codemirror_mode": {
    "name": "ipython",
    "version": 3
   },
   "file_extension": ".py",
   "mimetype": "text/x-python",
   "name": "python",
   "nbconvert_exporter": "python",
   "pygments_lexer": "ipython3",
   "version": "3.11.4"
  }
 },
 "nbformat": 4,
 "nbformat_minor": 5
}