{
 "cells": [
  {
   "cell_type": "markdown",
   "id": "3262ea4e",
   "metadata": {},
   "source": [
    "# infos"
   ]
  },
  {
   "cell_type": "code",
   "execution_count": null,
   "id": "5ceb9244",
   "metadata": {},
   "outputs": [],
   "source": [
    "# Version 1.0"
   ]
  },
  {
   "cell_type": "markdown",
   "id": "707c349a",
   "metadata": {},
   "source": [
    "# Preambule"
   ]
  },
  {
   "cell_type": "markdown",
   "id": "ffaa7993",
   "metadata": {},
   "source": [
    "- Split de mushroom_observation en 3 :\n",
    "    - **infos_images** pour lien images/label\n",
    "    - **especesKey** pour variables 'Key'\n",
    "    - **especes_classification** pour les autres variables"
   ]
  },
  {
   "cell_type": "code",
   "execution_count": 1,
   "id": "3ae7d0b3",
   "metadata": {},
   "outputs": [],
   "source": [
    "import pandas as pd\n",
    "import os\n",
    "\n",
    "#from google.colab import drive\n",
    "#drive.mount('/content/drive')\n",
    "#lien_observations_mushroom = '/content/drive/MyDrive/colab_champignons/csv/observations_mushroom.csv'\n",
    "#mushroom_observation = pd.read_csv(lien_observations_mushroom, low_memory=False)\n",
    "lien_csv = '../data/observations_mushroom.csv'\n",
    "mushroom_observation = pd.read_csv(lien_csv, low_memory=False)\n"
   ]
  },
  {
   "cell_type": "code",
   "execution_count": 2,
   "id": "740cc9d4",
   "metadata": {},
   "outputs": [
    {
     "data": {
      "text/plain": [
       "0"
      ]
     },
     "execution_count": 2,
     "metadata": {},
     "output_type": "execute_result"
    }
   ],
   "source": [
    "mushroom_observation.drop_duplicates(inplace=True)\n",
    "mushroom_observation.duplicated().sum()"
   ]
  },
  {
   "cell_type": "code",
   "execution_count": 3,
   "id": "903892f5",
   "metadata": {},
   "outputs": [
    {
     "name": "stdout",
     "output_type": "stream",
     "text": [
      "nb lignes initiales : 647615\n",
      "nb label initial : 11999\n",
      "\n",
      " nb lignes finales : 207563\n",
      "nb label final : 130\n"
     ]
    }
   ],
   "source": [
    "# Suppression des label représentés à moins de 0.1%\n",
    "print('nb lignes initiales :', mushroom_observation.shape[0])\n",
    "print('nb label initial :', mushroom_observation['label'].nunique())\n",
    "\n",
    "compte_valeurs = mushroom_observation['label'].value_counts(normalize=True) * 100\n",
    "seuil = 0.1\n",
    "masque = mushroom_observation['label'].isin(compte_valeurs[compte_valeurs >= seuil].index)\n",
    "mushroom_observation = mushroom_observation[masque]\n",
    "\n",
    "print('\\n nb lignes finales :', mushroom_observation.shape[0])\n",
    "print('nb label final :', mushroom_observation['label'].nunique())"
   ]
  },
  {
   "cell_type": "code",
   "execution_count": 4,
   "id": "d0d28440",
   "metadata": {},
   "outputs": [
    {
     "data": {
      "text/html": [
       "<div>\n",
       "<style scoped>\n",
       "    .dataframe tbody tr th:only-of-type {\n",
       "        vertical-align: middle;\n",
       "    }\n",
       "\n",
       "    .dataframe tbody tr th {\n",
       "        vertical-align: top;\n",
       "    }\n",
       "\n",
       "    .dataframe thead th {\n",
       "        text-align: right;\n",
       "    }\n",
       "</style>\n",
       "<table border=\"1\" class=\"dataframe\">\n",
       "  <thead>\n",
       "    <tr style=\"text-align: right;\">\n",
       "      <th></th>\n",
       "      <th>image_lien</th>\n",
       "      <th>image_id</th>\n",
       "      <th>observation</th>\n",
       "      <th>label</th>\n",
       "      <th>image_url</th>\n",
       "      <th>user</th>\n",
       "      <th>date</th>\n",
       "      <th>gbif_info/kingdom</th>\n",
       "      <th>gbif_info/family</th>\n",
       "      <th>gbif_info/speciesKey</th>\n",
       "      <th>...</th>\n",
       "      <th>gbif_info/phylumKey</th>\n",
       "      <th>gbif_info/class</th>\n",
       "      <th>gbif_info/synonym</th>\n",
       "      <th>gbif_info/scientificName</th>\n",
       "      <th>gbif_info/genus</th>\n",
       "      <th>gbif_info/order</th>\n",
       "      <th>thumbnail</th>\n",
       "      <th>location</th>\n",
       "      <th>gbif_info/note</th>\n",
       "      <th>gbif_info</th>\n",
       "    </tr>\n",
       "  </thead>\n",
       "  <tbody>\n",
       "    <tr>\n",
       "      <th>12</th>\n",
       "      <td>15.jpg</td>\n",
       "      <td>15</td>\n",
       "      <td>12</td>\n",
       "      <td>Xerocomellus chrysenteron</td>\n",
       "      <td>http://mushroomobserver.org/images/320/15</td>\n",
       "      <td>1</td>\n",
       "      <td>2006-05-21 07:17:29</td>\n",
       "      <td>Fungi</td>\n",
       "      <td>Boletaceae</td>\n",
       "      <td>2519413.0</td>\n",
       "      <td>...</td>\n",
       "      <td>34.0</td>\n",
       "      <td>Agaricomycetes</td>\n",
       "      <td>False</td>\n",
       "      <td>Xerocomellus chrysenteron (Bull.) Šutara, 2008</td>\n",
       "      <td>Xerocomellus</td>\n",
       "      <td>Boletales</td>\n",
       "      <td>1</td>\n",
       "      <td>4186.0</td>\n",
       "      <td>NaN</td>\n",
       "      <td>NaN</td>\n",
       "    </tr>\n",
       "    <tr>\n",
       "      <th>16</th>\n",
       "      <td>19.jpg</td>\n",
       "      <td>19</td>\n",
       "      <td>16</td>\n",
       "      <td>Fuligo septica</td>\n",
       "      <td>http://mushroomobserver.org/images/320/19</td>\n",
       "      <td>1</td>\n",
       "      <td>2006-05-21 07:17:34</td>\n",
       "      <td>Protozoa</td>\n",
       "      <td>Physaraceae</td>\n",
       "      <td>5426027.0</td>\n",
       "      <td>...</td>\n",
       "      <td>33.0</td>\n",
       "      <td>Myxomycetes</td>\n",
       "      <td>False</td>\n",
       "      <td>Fuligo septica (L.) F.H.Wigg., 1780</td>\n",
       "      <td>Fuligo</td>\n",
       "      <td>Physarales</td>\n",
       "      <td>1</td>\n",
       "      <td>5.0</td>\n",
       "      <td>NaN</td>\n",
       "      <td>NaN</td>\n",
       "    </tr>\n",
       "    <tr>\n",
       "      <th>18</th>\n",
       "      <td>21.jpg</td>\n",
       "      <td>21</td>\n",
       "      <td>18</td>\n",
       "      <td>Agrocybe</td>\n",
       "      <td>http://mushroomobserver.org/images/320/21</td>\n",
       "      <td>1</td>\n",
       "      <td>2006-05-21 07:17:37</td>\n",
       "      <td>Fungi</td>\n",
       "      <td>Strophariaceae</td>\n",
       "      <td>NaN</td>\n",
       "      <td>...</td>\n",
       "      <td>34.0</td>\n",
       "      <td>Agaricomycetes</td>\n",
       "      <td>False</td>\n",
       "      <td>Agrocybe Fayod</td>\n",
       "      <td>Agrocybe</td>\n",
       "      <td>Agaricales</td>\n",
       "      <td>1</td>\n",
       "      <td>58.0</td>\n",
       "      <td>NaN</td>\n",
       "      <td>NaN</td>\n",
       "    </tr>\n",
       "    <tr>\n",
       "      <th>19</th>\n",
       "      <td>22.jpg</td>\n",
       "      <td>22</td>\n",
       "      <td>18</td>\n",
       "      <td>Agrocybe</td>\n",
       "      <td>http://mushroomobserver.org/images/320/22</td>\n",
       "      <td>1</td>\n",
       "      <td>2006-05-21 07:17:37</td>\n",
       "      <td>Fungi</td>\n",
       "      <td>Strophariaceae</td>\n",
       "      <td>NaN</td>\n",
       "      <td>...</td>\n",
       "      <td>34.0</td>\n",
       "      <td>Agaricomycetes</td>\n",
       "      <td>False</td>\n",
       "      <td>Agrocybe Fayod</td>\n",
       "      <td>Agrocybe</td>\n",
       "      <td>Agaricales</td>\n",
       "      <td>0</td>\n",
       "      <td>58.0</td>\n",
       "      <td>NaN</td>\n",
       "      <td>NaN</td>\n",
       "    </tr>\n",
       "    <tr>\n",
       "      <th>20</th>\n",
       "      <td>23.jpg</td>\n",
       "      <td>23</td>\n",
       "      <td>18</td>\n",
       "      <td>Agrocybe</td>\n",
       "      <td>http://mushroomobserver.org/images/320/23</td>\n",
       "      <td>1</td>\n",
       "      <td>2006-05-21 07:17:37</td>\n",
       "      <td>Fungi</td>\n",
       "      <td>Strophariaceae</td>\n",
       "      <td>NaN</td>\n",
       "      <td>...</td>\n",
       "      <td>34.0</td>\n",
       "      <td>Agaricomycetes</td>\n",
       "      <td>False</td>\n",
       "      <td>Agrocybe Fayod</td>\n",
       "      <td>Agrocybe</td>\n",
       "      <td>Agaricales</td>\n",
       "      <td>0</td>\n",
       "      <td>58.0</td>\n",
       "      <td>NaN</td>\n",
       "      <td>NaN</td>\n",
       "    </tr>\n",
       "  </tbody>\n",
       "</table>\n",
       "<p>5 rows × 33 columns</p>\n",
       "</div>"
      ],
      "text/plain": [
       "   image_lien  image_id observation                      label  \\\n",
       "12     15.jpg        15          12  Xerocomellus chrysenteron   \n",
       "16     19.jpg        19          16             Fuligo septica   \n",
       "18     21.jpg        21          18                   Agrocybe   \n",
       "19     22.jpg        22          18                   Agrocybe   \n",
       "20     23.jpg        23          18                   Agrocybe   \n",
       "\n",
       "                                    image_url user                 date  \\\n",
       "12  http://mushroomobserver.org/images/320/15    1  2006-05-21 07:17:29   \n",
       "16  http://mushroomobserver.org/images/320/19    1  2006-05-21 07:17:34   \n",
       "18  http://mushroomobserver.org/images/320/21    1  2006-05-21 07:17:37   \n",
       "19  http://mushroomobserver.org/images/320/22    1  2006-05-21 07:17:37   \n",
       "20  http://mushroomobserver.org/images/320/23    1  2006-05-21 07:17:37   \n",
       "\n",
       "   gbif_info/kingdom gbif_info/family  gbif_info/speciesKey  ...  \\\n",
       "12             Fungi       Boletaceae             2519413.0  ...   \n",
       "16          Protozoa      Physaraceae             5426027.0  ...   \n",
       "18             Fungi   Strophariaceae                   NaN  ...   \n",
       "19             Fungi   Strophariaceae                   NaN  ...   \n",
       "20             Fungi   Strophariaceae                   NaN  ...   \n",
       "\n",
       "   gbif_info/phylumKey gbif_info/class  gbif_info/synonym  \\\n",
       "12                34.0  Agaricomycetes              False   \n",
       "16                33.0     Myxomycetes              False   \n",
       "18                34.0  Agaricomycetes              False   \n",
       "19                34.0  Agaricomycetes              False   \n",
       "20                34.0  Agaricomycetes              False   \n",
       "\n",
       "                          gbif_info/scientificName  gbif_info/genus  \\\n",
       "12  Xerocomellus chrysenteron (Bull.) Šutara, 2008     Xerocomellus   \n",
       "16             Fuligo septica (L.) F.H.Wigg., 1780           Fuligo   \n",
       "18                                  Agrocybe Fayod         Agrocybe   \n",
       "19                                  Agrocybe Fayod         Agrocybe   \n",
       "20                                  Agrocybe Fayod         Agrocybe   \n",
       "\n",
       "    gbif_info/order thumbnail  location gbif_info/note  gbif_info  \n",
       "12        Boletales         1    4186.0            NaN        NaN  \n",
       "16       Physarales         1       5.0            NaN        NaN  \n",
       "18       Agaricales         1      58.0            NaN        NaN  \n",
       "19       Agaricales         0      58.0            NaN        NaN  \n",
       "20       Agaricales         0      58.0            NaN        NaN  \n",
       "\n",
       "[5 rows x 33 columns]"
      ]
     },
     "execution_count": 4,
     "metadata": {},
     "output_type": "execute_result"
    }
   ],
   "source": [
    "mushroom_observation.head()"
   ]
  },
  {
   "cell_type": "markdown",
   "id": "c8c80914",
   "metadata": {},
   "source": [
    "# infos_images"
   ]
  },
  {
   "cell_type": "code",
   "execution_count": 34,
   "id": "a2a804e4",
   "metadata": {},
   "outputs": [],
   "source": [
    "# Construction du dataset\n",
    "infos_images = mushroom_observation[['label', 'image_lien']]"
   ]
  },
  {
   "cell_type": "code",
   "execution_count": 35,
   "id": "5348a7a2",
   "metadata": {},
   "outputs": [
    {
     "data": {
      "text/plain": [
       "label         0\n",
       "image_lien    0\n",
       "dtype: int64"
      ]
     },
     "execution_count": 35,
     "metadata": {},
     "output_type": "execute_result"
    }
   ],
   "source": [
    "# Controle NaN\n",
    "infos_images.isna().sum()"
   ]
  },
  {
   "cell_type": "code",
   "execution_count": 36,
   "id": "eaab1dc7",
   "metadata": {},
   "outputs": [],
   "source": [
    "# Tri des labels\n",
    "infos_images = infos_images.sort_values(by='label', ascending=True)\n",
    "infos_images = infos_images.reset_index(drop=True)"
   ]
  },
  {
   "cell_type": "code",
   "execution_count": 37,
   "id": "d31cf99e",
   "metadata": {},
   "outputs": [],
   "source": [
    "# Ajout des URL des images\n",
    "\n",
    "# Fonction pour créer le chemin complet des images\n",
    "def ajout_url(image_lien):\n",
    "    filepath = \"../../images/\"\n",
    "    return os.path.join(filepath, image_lien)\n",
    "\n",
    "# Utilisation de la méthode 'apply' pour créer la colonne 'image_url'\n",
    "infos_images[\"image_url\"] = infos_images[\"image_lien\"].apply(ajout_url)"
   ]
  },
  {
   "cell_type": "code",
   "execution_count": 38,
   "id": "b1eae0e3",
   "metadata": {},
   "outputs": [
    {
     "data": {
      "text/plain": [
       "207512"
      ]
     },
     "execution_count": 38,
     "metadata": {},
     "output_type": "execute_result"
    }
   ],
   "source": [
    "infos_images.drop_duplicates(inplace=True)\n",
    "infos_images.shape[0]"
   ]
  },
  {
   "cell_type": "code",
   "execution_count": 16,
   "id": "23c642f3",
   "metadata": {},
   "outputs": [
    {
     "data": {
      "text/html": [
       "<div>\n",
       "<style scoped>\n",
       "    .dataframe tbody tr th:only-of-type {\n",
       "        vertical-align: middle;\n",
       "    }\n",
       "\n",
       "    .dataframe tbody tr th {\n",
       "        vertical-align: top;\n",
       "    }\n",
       "\n",
       "    .dataframe thead th {\n",
       "        text-align: right;\n",
       "    }\n",
       "</style>\n",
       "<table border=\"1\" class=\"dataframe\">\n",
       "  <thead>\n",
       "    <tr style=\"text-align: right;\">\n",
       "      <th></th>\n",
       "      <th>label</th>\n",
       "      <th>image_lien</th>\n",
       "      <th>image_url</th>\n",
       "    </tr>\n",
       "  </thead>\n",
       "  <tbody>\n",
       "    <tr>\n",
       "      <th>0</th>\n",
       "      <td>Agaricaceae</td>\n",
       "      <td>332044.jpg</td>\n",
       "      <td>../../images/332044.jpg</td>\n",
       "    </tr>\n",
       "    <tr>\n",
       "      <th>1</th>\n",
       "      <td>Agaricaceae</td>\n",
       "      <td>171135.jpg</td>\n",
       "      <td>../../images/171135.jpg</td>\n",
       "    </tr>\n",
       "    <tr>\n",
       "      <th>2</th>\n",
       "      <td>Agaricaceae</td>\n",
       "      <td>243640.jpg</td>\n",
       "      <td>../../images/243640.jpg</td>\n",
       "    </tr>\n",
       "    <tr>\n",
       "      <th>3</th>\n",
       "      <td>Agaricaceae</td>\n",
       "      <td>341497.jpg</td>\n",
       "      <td>../../images/341497.jpg</td>\n",
       "    </tr>\n",
       "    <tr>\n",
       "      <th>4</th>\n",
       "      <td>Agaricaceae</td>\n",
       "      <td>341496.jpg</td>\n",
       "      <td>../../images/341496.jpg</td>\n",
       "    </tr>\n",
       "  </tbody>\n",
       "</table>\n",
       "</div>"
      ],
      "text/plain": [
       "         label  image_lien                image_url\n",
       "0  Agaricaceae  332044.jpg  ../../images/332044.jpg\n",
       "1  Agaricaceae  171135.jpg  ../../images/171135.jpg\n",
       "2  Agaricaceae  243640.jpg  ../../images/243640.jpg\n",
       "3  Agaricaceae  341497.jpg  ../../images/341497.jpg\n",
       "4  Agaricaceae  341496.jpg  ../../images/341496.jpg"
      ]
     },
     "execution_count": 16,
     "metadata": {},
     "output_type": "execute_result"
    }
   ],
   "source": [
    "infos_images.head()"
   ]
  },
  {
   "cell_type": "code",
   "execution_count": 17,
   "id": "1aefafe7",
   "metadata": {},
   "outputs": [],
   "source": [
    "# Enregistrement du dataset\n",
    "infos_images.to_csv('../data/infos_images.csv', index=False)"
   ]
  },
  {
   "cell_type": "markdown",
   "id": "3b9ae417",
   "metadata": {},
   "source": [
    "# TOP 10"
   ]
  },
  {
   "cell_type": "code",
   "execution_count": 39,
   "id": "279e5f8a",
   "metadata": {},
   "outputs": [
    {
     "data": {
      "text/plain": [
       "(64372, 3)"
      ]
     },
     "execution_count": 39,
     "metadata": {},
     "output_type": "execute_result"
    }
   ],
   "source": [
    "# Le dataframe est basé sur infos_images qui lie le label au chemin vers l'image.\n",
    "top10 = pd.read_csv('../data/infos_images.csv')\n",
    "\n",
    "# On ne garde que les 10 espèces les plus représentées\n",
    "nb_val = top10['label'].value_counts()\n",
    "nb_val_label = nb_val.head(10)\n",
    "nb_val_label = nb_val_label.index\n",
    "\n",
    "top10 = top10[top10['label'].isin(nb_val_label)]\n",
    "top10.reset_index(inplace=True, drop=True)\n",
    "\n",
    "# Une des lignes renvoie vers une image inexistante qui poserait problème pour l'entrainement du modèle :\n",
    "top10.drop(top10[top10['image_url'] == '../../images/611356.jpg'].index, axis=0, inplace=True)\n",
    "\n",
    "top10.shape"
   ]
  },
  {
   "cell_type": "code",
   "execution_count": 40,
   "id": "957a856c",
   "metadata": {},
   "outputs": [],
   "source": [
    "# On retire toutes les lignes comportant des images qui ont été retirées du dataset (images poubelles)\n",
    "tri_img = pd.read_csv('../../img_supp.csv', index_col = 0)\n",
    "tri_img['fichiers'] = '../../images/' + tri_img['fichiers']\n",
    "tri_img.head()\n",
    "liste_supp = tri_img['fichiers'].tolist()"
   ]
  },
  {
   "cell_type": "code",
   "execution_count": 41,
   "id": "1e471dd7",
   "metadata": {},
   "outputs": [
    {
     "data": {
      "text/plain": [
       "(60481, 3)"
      ]
     },
     "execution_count": 41,
     "metadata": {},
     "output_type": "execute_result"
    }
   ],
   "source": [
    "indices_a_supprimer = top10['image_url'].isin(liste_supp)\n",
    "top10 = top10[~indices_a_supprimer]\n",
    "top10.shape"
   ]
  },
  {
   "cell_type": "code",
   "execution_count": 44,
   "id": "27250914",
   "metadata": {},
   "outputs": [],
   "source": [
    "top10.to_csv('../data/top10.csv', index=False)"
   ]
  },
  {
   "cell_type": "markdown",
   "id": "b8a811fc",
   "metadata": {},
   "source": [
    "# especes_key"
   ]
  },
  {
   "cell_type": "code",
   "execution_count": 45,
   "id": "3b16d557",
   "metadata": {},
   "outputs": [],
   "source": [
    "# Construction du dataset\n",
    "especes_key = mushroom_observation[['label', 'date', 'gbif_info/kingdomKey', 'gbif_info/familyKey', 'gbif_info/speciesKey',\n",
    "                                   'gbif_info/genusKey', 'gbif_info/phylumKey', 'gbif_info/orderKey',\n",
    "                                   'gbif_info/classKey', 'gbif_info/usageKey']]"
   ]
  },
  {
   "cell_type": "code",
   "execution_count": 46,
   "id": "46ab11bc",
   "metadata": {},
   "outputs": [],
   "source": [
    "# Suppression du prefixe gbif_info/ sur les colonnes\n",
    "supp_prefixe_col = {\n",
    "    'gbif_info/speciesKey': 'speciesKey',\n",
    "    'gbif_info/orderKey': 'orderKey',\n",
    "    'gbif_info/classKey': 'classKey',\n",
    "    'gbif_info/familyKey' : 'familyKey',\n",
    "    'gbif_info/usageKey' : 'scientificNameKey',\n",
    "    'gbif_info/kingdomKey' : 'kingdomKey',\n",
    "    'gbif_info/genusKey' : 'genusKey',\n",
    "    'gbif_info/phylumKey': 'phylumKey'}\n",
    "\n",
    "especes_key = especes_key.rename(columns = supp_prefixe_col)"
   ]
  },
  {
   "cell_type": "code",
   "execution_count": 47,
   "id": "2ea6418e",
   "metadata": {},
   "outputs": [],
   "source": [
    "# Colonne 'date' :  on ne garde que le mois où l'observation a été réalisée. \n",
    "# On discrétise ensuite les mois dans une variable 'saison'.\n",
    "\n",
    "# Suppression des hh:mm:ss de la colonne 'date' :\n",
    "especes_key['date'] = especes_key['date'].str.slice(start=5, stop=7)\n",
    "\n",
    "# Construction d'une fonction retournant la saison en fonction du mois observé\n",
    "def get_season(date):\n",
    "    if date == '12' or date == '01' or date == '02':\n",
    "        return '1' # Hiver\n",
    "    elif date == '03' or date == '04' or date == '05':\n",
    "        return '2' # Printemps\n",
    "    elif date == '06' or date == '07' or date == '08':\n",
    "        return '3' # Ete\n",
    "    else:\n",
    "        return '4' # Automne\n",
    "\n",
    "# Construction de la colonne 'saison' en appliquant la fonction 'get_season' sur la colonne 'date'\n",
    "especes_key['saison'] = especes_key['date'].apply(get_season)\n",
    "\n",
    "# Application du type 'int' à la colonne 'saison' :\n",
    "especes_key['saison'] = especes_key['saison'].astype('int64')\n",
    "\n",
    "# Suppression de la colonne 'date' :\n",
    "especes_key.drop('date', axis = 1, inplace = True)"
   ]
  },
  {
   "cell_type": "code",
   "execution_count": 48,
   "id": "dfa3b830",
   "metadata": {},
   "outputs": [
    {
     "data": {
      "text/plain": [
       "label                     0\n",
       "kingdomKey            20914\n",
       "familyKey             43137\n",
       "speciesKey           158667\n",
       "genusKey              49498\n",
       "phylumKey             23957\n",
       "orderKey              24871\n",
       "classKey              23957\n",
       "scientificNameKey     20914\n",
       "saison                    0\n",
       "dtype: int64"
      ]
     },
     "execution_count": 48,
     "metadata": {},
     "output_type": "execute_result"
    }
   ],
   "source": [
    "# Controle NaN\n",
    "especes_key.isna().sum()"
   ]
  },
  {
   "cell_type": "code",
   "execution_count": 49,
   "id": "4abf56f9",
   "metadata": {},
   "outputs": [],
   "source": [
    "# Tri des labels\n",
    "especes_key.sort_values(by='label', ascending=True, inplace=True)\n",
    "especes_key = especes_key.reset_index(drop=True)"
   ]
  },
  {
   "cell_type": "code",
   "execution_count": 50,
   "id": "448daeaa",
   "metadata": {},
   "outputs": [],
   "source": [
    "# Chaque nom d'espèce va porter un id. Il reste 130 espèces enregistrées, soit des id allant de 0 à 129 :\n",
    "especes_key['label_id'] = pd.factorize(especes_key['label'])[0]\n"
   ]
  },
  {
   "cell_type": "code",
   "execution_count": 51,
   "id": "086409a0",
   "metadata": {},
   "outputs": [
    {
     "data": {
      "text/html": [
       "<div>\n",
       "<style scoped>\n",
       "    .dataframe tbody tr th:only-of-type {\n",
       "        vertical-align: middle;\n",
       "    }\n",
       "\n",
       "    .dataframe tbody tr th {\n",
       "        vertical-align: top;\n",
       "    }\n",
       "\n",
       "    .dataframe thead th {\n",
       "        text-align: right;\n",
       "    }\n",
       "</style>\n",
       "<table border=\"1\" class=\"dataframe\">\n",
       "  <thead>\n",
       "    <tr style=\"text-align: right;\">\n",
       "      <th></th>\n",
       "      <th>label</th>\n",
       "      <th>kingdomKey</th>\n",
       "      <th>familyKey</th>\n",
       "      <th>speciesKey</th>\n",
       "      <th>genusKey</th>\n",
       "      <th>phylumKey</th>\n",
       "      <th>orderKey</th>\n",
       "      <th>classKey</th>\n",
       "      <th>scientificNameKey</th>\n",
       "      <th>saison</th>\n",
       "      <th>label_id</th>\n",
       "    </tr>\n",
       "  </thead>\n",
       "  <tbody>\n",
       "    <tr>\n",
       "      <th>0</th>\n",
       "      <td>Agaricaceae</td>\n",
       "      <td>5.0</td>\n",
       "      <td>4170.0</td>\n",
       "      <td>NaN</td>\n",
       "      <td>NaN</td>\n",
       "      <td>34.0</td>\n",
       "      <td>1499.0</td>\n",
       "      <td>186.0</td>\n",
       "      <td>4170.0</td>\n",
       "      <td>2</td>\n",
       "      <td>0</td>\n",
       "    </tr>\n",
       "    <tr>\n",
       "      <th>1</th>\n",
       "      <td>Agaricaceae</td>\n",
       "      <td>5.0</td>\n",
       "      <td>4170.0</td>\n",
       "      <td>NaN</td>\n",
       "      <td>NaN</td>\n",
       "      <td>34.0</td>\n",
       "      <td>1499.0</td>\n",
       "      <td>186.0</td>\n",
       "      <td>4170.0</td>\n",
       "      <td>4</td>\n",
       "      <td>0</td>\n",
       "    </tr>\n",
       "    <tr>\n",
       "      <th>2</th>\n",
       "      <td>Agaricaceae</td>\n",
       "      <td>5.0</td>\n",
       "      <td>4170.0</td>\n",
       "      <td>NaN</td>\n",
       "      <td>NaN</td>\n",
       "      <td>34.0</td>\n",
       "      <td>1499.0</td>\n",
       "      <td>186.0</td>\n",
       "      <td>4170.0</td>\n",
       "      <td>3</td>\n",
       "      <td>0</td>\n",
       "    </tr>\n",
       "    <tr>\n",
       "      <th>3</th>\n",
       "      <td>Agaricaceae</td>\n",
       "      <td>5.0</td>\n",
       "      <td>4170.0</td>\n",
       "      <td>NaN</td>\n",
       "      <td>NaN</td>\n",
       "      <td>34.0</td>\n",
       "      <td>1499.0</td>\n",
       "      <td>186.0</td>\n",
       "      <td>4170.0</td>\n",
       "      <td>3</td>\n",
       "      <td>0</td>\n",
       "    </tr>\n",
       "    <tr>\n",
       "      <th>4</th>\n",
       "      <td>Agaricaceae</td>\n",
       "      <td>5.0</td>\n",
       "      <td>4170.0</td>\n",
       "      <td>NaN</td>\n",
       "      <td>NaN</td>\n",
       "      <td>34.0</td>\n",
       "      <td>1499.0</td>\n",
       "      <td>186.0</td>\n",
       "      <td>4170.0</td>\n",
       "      <td>3</td>\n",
       "      <td>0</td>\n",
       "    </tr>\n",
       "  </tbody>\n",
       "</table>\n",
       "</div>"
      ],
      "text/plain": [
       "         label  kingdomKey  familyKey  speciesKey  genusKey  phylumKey  \\\n",
       "0  Agaricaceae         5.0     4170.0         NaN       NaN       34.0   \n",
       "1  Agaricaceae         5.0     4170.0         NaN       NaN       34.0   \n",
       "2  Agaricaceae         5.0     4170.0         NaN       NaN       34.0   \n",
       "3  Agaricaceae         5.0     4170.0         NaN       NaN       34.0   \n",
       "4  Agaricaceae         5.0     4170.0         NaN       NaN       34.0   \n",
       "\n",
       "   orderKey  classKey  scientificNameKey  saison  label_id  \n",
       "0    1499.0     186.0             4170.0       2         0  \n",
       "1    1499.0     186.0             4170.0       4         0  \n",
       "2    1499.0     186.0             4170.0       3         0  \n",
       "3    1499.0     186.0             4170.0       3         0  \n",
       "4    1499.0     186.0             4170.0       3         0  "
      ]
     },
     "execution_count": 51,
     "metadata": {},
     "output_type": "execute_result"
    }
   ],
   "source": [
    "especes_key.head()"
   ]
  },
  {
   "cell_type": "code",
   "execution_count": 52,
   "id": "7c45af91",
   "metadata": {},
   "outputs": [
    {
     "data": {
      "text/plain": [
       "207563"
      ]
     },
     "execution_count": 52,
     "metadata": {},
     "output_type": "execute_result"
    }
   ],
   "source": [
    "especes_key.shape[0]"
   ]
  },
  {
   "cell_type": "code",
   "execution_count": 53,
   "id": "198af0a5",
   "metadata": {},
   "outputs": [],
   "source": [
    "# Enregistrement du dataset\n",
    "especes_key.to_csv('../data/especes_key.csv', index=False)"
   ]
  },
  {
   "cell_type": "markdown",
   "id": "a7884e4d",
   "metadata": {},
   "source": [
    "# especes_classification"
   ]
  },
  {
   "cell_type": "code",
   "execution_count": 54,
   "id": "1bd815cf",
   "metadata": {},
   "outputs": [],
   "source": [
    "# Construction du dataset\n",
    "especes_classification = mushroom_observation[['label', 'date', 'gbif_info/kingdom', 'gbif_info/family',\n",
    "                                                'gbif_info/phylum', 'gbif_info/species', 'gbif_info/class',\n",
    "                                                'gbif_info/scientificName', 'gbif_info/genus', 'gbif_info/order']]"
   ]
  },
  {
   "cell_type": "code",
   "execution_count": 55,
   "id": "49565fdf",
   "metadata": {},
   "outputs": [],
   "source": [
    "# Suppression du prefixe gbif_info/ sur les colonnes\n",
    "supp_prefixe_col = {\n",
    "    'gbif_info/kingdom': 'kingdom',\n",
    "    'gbif_info/family': 'family',\n",
    "    'gbif_info/phylum': 'phylum',\n",
    "    'gbif_info/species': 'species',\n",
    "    'gbif_info/class': 'class',\n",
    "    'gbif_info/scientificName': 'scientificName',\n",
    "    'gbif_info/genus': 'genus',\n",
    "    'gbif_info/order': 'order'}\n",
    "\n",
    "especes_classification = especes_classification.rename(columns = supp_prefixe_col)"
   ]
  },
  {
   "cell_type": "code",
   "execution_count": 56,
   "id": "b12e97f2",
   "metadata": {},
   "outputs": [],
   "source": [
    "# Colonne 'date' :  on ne garde que le mois où l'observation a été réalisée. \n",
    "# On discrétise ensuite les mois dans une variable 'saison'.\n",
    "\n",
    "# Suppression des hh:mm:ss de la colonne 'date' :\n",
    "especes_classification['date'] = especes_classification['date'].str.slice(start=5, stop=7)\n",
    "\n",
    "# Construction d'une fonction retournant la saison en fonction du mois observé\n",
    "def get_season(date):\n",
    "    if date == '12' or date == '01' or date == '02':\n",
    "        return '1' # Hiver\n",
    "    elif date == '03' or date == '04' or date == '05':\n",
    "        return '2' # Printemps\n",
    "    elif date == '06' or date == '07' or date == '08':\n",
    "        return '3' # Ete\n",
    "    else:\n",
    "        return '4' # Automne\n",
    "\n",
    "# Construction de la colonne 'saison' en appliquant la fonction 'get_season' sur la colonne 'date'\n",
    "especes_classification['saison'] = especes_classification['date'].apply(get_season)\n",
    "\n",
    "# Application du type 'int' à la colonne 'saison' :\n",
    "especes_classification['saison'] = especes_classification['saison'].astype('int64')\n",
    "\n",
    "# Suppression de la colonne 'date' :\n",
    "especes_classification.drop('date', axis = 1, inplace = True)"
   ]
  },
  {
   "cell_type": "code",
   "execution_count": 57,
   "id": "d51a4517",
   "metadata": {},
   "outputs": [
    {
     "data": {
      "text/plain": [
       "label                  0\n",
       "kingdom            20914\n",
       "family             43137\n",
       "phylum             23957\n",
       "species           158667\n",
       "class              23957\n",
       "scientificName     20914\n",
       "genus              49498\n",
       "order              24871\n",
       "saison                 0\n",
       "dtype: int64"
      ]
     },
     "execution_count": 57,
     "metadata": {},
     "output_type": "execute_result"
    }
   ],
   "source": [
    "# Controle NaN\n",
    "especes_classification.isna().sum()"
   ]
  },
  {
   "cell_type": "code",
   "execution_count": 58,
   "id": "9c9da763",
   "metadata": {},
   "outputs": [],
   "source": [
    "# Tri des labels\n",
    "especes_classification.sort_values(by='label', ascending=True, inplace=True)\n",
    "especes_classification = especes_classification.reset_index(drop=True)"
   ]
  },
  {
   "cell_type": "code",
   "execution_count": 59,
   "id": "06db0424",
   "metadata": {},
   "outputs": [
    {
     "data": {
      "text/html": [
       "<div>\n",
       "<style scoped>\n",
       "    .dataframe tbody tr th:only-of-type {\n",
       "        vertical-align: middle;\n",
       "    }\n",
       "\n",
       "    .dataframe tbody tr th {\n",
       "        vertical-align: top;\n",
       "    }\n",
       "\n",
       "    .dataframe thead th {\n",
       "        text-align: right;\n",
       "    }\n",
       "</style>\n",
       "<table border=\"1\" class=\"dataframe\">\n",
       "  <thead>\n",
       "    <tr style=\"text-align: right;\">\n",
       "      <th></th>\n",
       "      <th>label</th>\n",
       "      <th>kingdom</th>\n",
       "      <th>family</th>\n",
       "      <th>phylum</th>\n",
       "      <th>species</th>\n",
       "      <th>class</th>\n",
       "      <th>scientificName</th>\n",
       "      <th>genus</th>\n",
       "      <th>order</th>\n",
       "      <th>saison</th>\n",
       "    </tr>\n",
       "  </thead>\n",
       "  <tbody>\n",
       "    <tr>\n",
       "      <th>0</th>\n",
       "      <td>Agaricaceae</td>\n",
       "      <td>Fungi</td>\n",
       "      <td>Agaricaceae</td>\n",
       "      <td>Basidiomycota</td>\n",
       "      <td>NaN</td>\n",
       "      <td>Agaricomycetes</td>\n",
       "      <td>Agaricaceae</td>\n",
       "      <td>NaN</td>\n",
       "      <td>Agaricales</td>\n",
       "      <td>2</td>\n",
       "    </tr>\n",
       "    <tr>\n",
       "      <th>1</th>\n",
       "      <td>Agaricaceae</td>\n",
       "      <td>Fungi</td>\n",
       "      <td>Agaricaceae</td>\n",
       "      <td>Basidiomycota</td>\n",
       "      <td>NaN</td>\n",
       "      <td>Agaricomycetes</td>\n",
       "      <td>Agaricaceae</td>\n",
       "      <td>NaN</td>\n",
       "      <td>Agaricales</td>\n",
       "      <td>4</td>\n",
       "    </tr>\n",
       "    <tr>\n",
       "      <th>2</th>\n",
       "      <td>Agaricaceae</td>\n",
       "      <td>Fungi</td>\n",
       "      <td>Agaricaceae</td>\n",
       "      <td>Basidiomycota</td>\n",
       "      <td>NaN</td>\n",
       "      <td>Agaricomycetes</td>\n",
       "      <td>Agaricaceae</td>\n",
       "      <td>NaN</td>\n",
       "      <td>Agaricales</td>\n",
       "      <td>3</td>\n",
       "    </tr>\n",
       "    <tr>\n",
       "      <th>3</th>\n",
       "      <td>Agaricaceae</td>\n",
       "      <td>Fungi</td>\n",
       "      <td>Agaricaceae</td>\n",
       "      <td>Basidiomycota</td>\n",
       "      <td>NaN</td>\n",
       "      <td>Agaricomycetes</td>\n",
       "      <td>Agaricaceae</td>\n",
       "      <td>NaN</td>\n",
       "      <td>Agaricales</td>\n",
       "      <td>3</td>\n",
       "    </tr>\n",
       "    <tr>\n",
       "      <th>4</th>\n",
       "      <td>Agaricaceae</td>\n",
       "      <td>Fungi</td>\n",
       "      <td>Agaricaceae</td>\n",
       "      <td>Basidiomycota</td>\n",
       "      <td>NaN</td>\n",
       "      <td>Agaricomycetes</td>\n",
       "      <td>Agaricaceae</td>\n",
       "      <td>NaN</td>\n",
       "      <td>Agaricales</td>\n",
       "      <td>3</td>\n",
       "    </tr>\n",
       "  </tbody>\n",
       "</table>\n",
       "</div>"
      ],
      "text/plain": [
       "         label kingdom       family         phylum species           class  \\\n",
       "0  Agaricaceae   Fungi  Agaricaceae  Basidiomycota     NaN  Agaricomycetes   \n",
       "1  Agaricaceae   Fungi  Agaricaceae  Basidiomycota     NaN  Agaricomycetes   \n",
       "2  Agaricaceae   Fungi  Agaricaceae  Basidiomycota     NaN  Agaricomycetes   \n",
       "3  Agaricaceae   Fungi  Agaricaceae  Basidiomycota     NaN  Agaricomycetes   \n",
       "4  Agaricaceae   Fungi  Agaricaceae  Basidiomycota     NaN  Agaricomycetes   \n",
       "\n",
       "  scientificName genus       order  saison  \n",
       "0    Agaricaceae   NaN  Agaricales       2  \n",
       "1    Agaricaceae   NaN  Agaricales       4  \n",
       "2    Agaricaceae   NaN  Agaricales       3  \n",
       "3    Agaricaceae   NaN  Agaricales       3  \n",
       "4    Agaricaceae   NaN  Agaricales       3  "
      ]
     },
     "execution_count": 59,
     "metadata": {},
     "output_type": "execute_result"
    }
   ],
   "source": [
    "especes_classification.head()"
   ]
  },
  {
   "cell_type": "code",
   "execution_count": 60,
   "id": "973a78aa",
   "metadata": {},
   "outputs": [
    {
     "data": {
      "text/plain": [
       "207563"
      ]
     },
     "execution_count": 60,
     "metadata": {},
     "output_type": "execute_result"
    }
   ],
   "source": [
    "especes_classification.shape[0]"
   ]
  },
  {
   "cell_type": "code",
   "execution_count": 61,
   "id": "de38dbae",
   "metadata": {},
   "outputs": [],
   "source": [
    "# Enregistrement du dataset\n",
    "especes_classification.to_csv('../data/especes_classification.csv', index=False)"
   ]
  }
 ],
 "metadata": {
  "kernelspec": {
   "display_name": "Python 3 (ipykernel)",
   "language": "python",
   "name": "python3"
  },
  "language_info": {
   "codemirror_mode": {
    "name": "ipython",
    "version": 3
   },
   "file_extension": ".py",
   "mimetype": "text/x-python",
   "name": "python",
   "nbconvert_exporter": "python",
   "pygments_lexer": "ipython3",
   "version": "3.11.4"
  }
 },
 "nbformat": 4,
 "nbformat_minor": 5
}
